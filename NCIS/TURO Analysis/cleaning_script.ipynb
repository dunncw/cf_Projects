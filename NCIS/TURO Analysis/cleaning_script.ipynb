{
 "cells": [
  {
   "cell_type": "code",
   "execution_count": 1,
   "metadata": {},
   "outputs": [],
   "source": [
    "# import the necessary libraries\n",
    "import pandas as pd\n",
    "import os\n",
    "\n",
    "# set the path to the directory containing the Excel files\n",
    "path = 'data'\n",
    "\n",
    "# read in all the Excel files in the directory as a list of dataframes\n",
    "dfs = [pd.read_excel(os.path.join(path, file)) for file in os.listdir(path) if file.endswith('.xlsx')]\n",
    "\n",
    "# add a new column to each dataframe called 'pk' which should be the file name + index\n",
    "for i, df in enumerate(dfs):\n",
    "    df['pk'] = os.listdir(path)[i].split('.')[0] + '_' + df.index.astype(str)\n",
    "\n",
    "# concatenate the list of dataframes into one big dataframe\n",
    "master = pd.concat(dfs, ignore_index=True)"
   ]
  },
  {
   "cell_type": "code",
   "execution_count": 2,
   "metadata": {},
   "outputs": [],
   "source": [
    "# # print out a list of all the column names\n",
    "# print(master.columns)"
   ]
  },
  {
   "cell_type": "code",
   "execution_count": 3,
   "metadata": {},
   "outputs": [],
   "source": [
    "# if the value of column 'code' in df master is 101 then ignore the row"
   ]
  },
  {
   "cell_type": "code",
   "execution_count": 4,
   "metadata": {},
   "outputs": [
    {
     "name": "stdout",
     "output_type": "stream",
     "text": [
      "year match              11116\n",
      "exact dob match          8807\n",
      "no dob match             2270\n",
      "month and day match      1136\n",
      "year and month match      512\n",
      "Name: dob_match_finding, dtype: int64\n"
     ]
    }
   ],
   "source": [
    "# ____ DOB ____\n",
    "# convert the 'Full DOB' column to a string\n",
    "master['Full DOB'] = master['Full DOB'].astype(str)\n",
    "\n",
    "# make a new column called 'cleaned_dob' and save the cleaned dob in that column\n",
    "master['cleaned_dob'] = master['Full DOB']\n",
    "\n",
    "# if len of 'Full DOB' is 4 then all we have is year and format it to '00/00/xxxx'\n",
    "master['cleaned_dob'] = master['Full DOB'].apply(lambda dob: '00/00/' + dob if len(dob) == 4 else dob)\n",
    "\n",
    "# convert the 'Full DOB' column to the same format the format is 'mmddyyyy'\n",
    "master['cleaned_dob'] = master['Full DOB'].apply(lambda dob: dob[4:6] + '/' + dob[6:8] + '/' + dob[:4] if len(dob) == 8 else dob)\n",
    "\n",
    "# define a function to check for matches\n",
    "def check_match(row):\n",
    "    cleaned_dob = row['cleaned_dob']\n",
    "    inputs_dob = row['Inputs DOB']\n",
    "    if cleaned_dob == 'nan':\n",
    "        return 'no dob match'\n",
    "    elif cleaned_dob == inputs_dob:\n",
    "        return 'exact dob match'\n",
    "    else:\n",
    "        cleaned_dob_parts = cleaned_dob.split('/')\n",
    "        inputs_dob_parts = inputs_dob.split('/')\n",
    "        if len(cleaned_dob_parts) < 3 or len(inputs_dob_parts) < 3:\n",
    "            return 'no dob match'\n",
    "        else:\n",
    "            match_types = {\n",
    "                'year and month match': [2, 0],\n",
    "                'year and day match': [2, 1],\n",
    "                'month and day match': [0, 1],\n",
    "                'year match': [2],\n",
    "                'month match': [0],\n",
    "                'day match': [1],\n",
    "                'no dob match': []\n",
    "            }\n",
    "            for match_type, match_indices in match_types.items():\n",
    "                if all(cleaned_dob_parts[idx] == inputs_dob_parts[idx] for idx in match_indices):\n",
    "                    return match_type\n",
    "            else:\n",
    "                return 'no dob match'\n",
    "\n",
    "# apply the function to each row of the dataframe\n",
    "master['dob_match_finding'] = master.apply(check_match, axis=1)\n",
    "\n",
    "# valuecounts of column 'dob_match_finding'\n",
    "print(master['dob_match_finding'].value_counts())"
   ]
  },
  {
   "cell_type": "code",
   "execution_count": 5,
   "metadata": {},
   "outputs": [
    {
     "name": "stdout",
     "output_type": "stream",
     "text": [
      "full name match                11938\n",
      "last name match                 7054\n",
      "last and middle name match      1777\n",
      "no name match                   1536\n",
      "middle name match                994\n",
      "first name match                 354\n",
      "first and middle name match      169\n",
      "partial match last name           17\n",
      "partial match first name           2\n",
      "Name: name_match_findings, dtype: int64\n",
      "23841\n"
     ]
    }
   ],
   "source": [
    "from fuzzywuzzy import fuzz\n",
    "\n",
    "# apply string, strip, and lower operations to each column\n",
    "master[['Inputs First Name', 'Inputs Middle Name', 'Inputs Last Name', 'First Name', 'Middle Name', 'Last Name']] = master[['Inputs First Name', 'Inputs Middle Name', 'Inputs Last Name', 'First Name', 'Middle Name', 'Last Name']].apply(lambda x: x.astype(str).str.strip().str.lower())\n",
    "\n",
    "def check_fuzzy_match(row):\n",
    "    cleaned_first_name = row['Inputs First Name']\n",
    "    cleaned_middle_name = row['Inputs Middle Name']\n",
    "    cleaned_last_name = row['Inputs Last Name']\n",
    "    returned_first_name = row['First Name']\n",
    "    returned_middle_name = row['Middle Name']\n",
    "    returned_last_name = row['Last Name']\n",
    "    if pd.isna(cleaned_first_name) or pd.isna(cleaned_last_name):\n",
    "        return 'no name match'\n",
    "    # the matches should be in a descending order so the full name match should be first. as you go down the list the matches should become more granular.\n",
    "    match_types = {\n",
    "        'full name match': cleaned_first_name == returned_first_name and cleaned_last_name == returned_last_name,\n",
    "        'last and middle name match': cleaned_last_name == returned_last_name and cleaned_middle_name == returned_middle_name,\n",
    "        'first and last name match': cleaned_first_name == returned_first_name and cleaned_last_name == returned_last_name,\n",
    "        'first and middle name match': cleaned_first_name == returned_first_name and cleaned_middle_name == returned_middle_name,\n",
    "        'first name match': cleaned_first_name == returned_first_name,\n",
    "        'last name match': cleaned_last_name == returned_last_name,\n",
    "        'middle name match': cleaned_middle_name == returned_middle_name,\n",
    "    }\n",
    "    for match_type, condition in match_types.items():\n",
    "        if condition:\n",
    "            return match_type\n",
    "    # calculate the fuzzy match score for the first name and last name\n",
    "    first_name_score = fuzz.token_sort_ratio(cleaned_first_name, returned_first_name)\n",
    "    last_name_score = fuzz.token_sort_ratio(cleaned_last_name, returned_last_name)\n",
    "    # set a threshold for the fuzzy match score\n",
    "    threshold = 80\n",
    "    if first_name_score >= threshold and last_name_score >= threshold:\n",
    "        # check which name part has a partial match and return that part\n",
    "        if cleaned_first_name.lower() in returned_first_name.lower():\n",
    "            return f'partial match first name'\n",
    "        elif cleaned_middle_name.lower() in returned_middle_name.lower():\n",
    "            return f'partial match middle name'\n",
    "        elif cleaned_last_name.lower() in returned_last_name.lower():\n",
    "            return f'partial match last name'\n",
    "    return 'no name match'\n",
    "\n",
    "# apply the function to each row of the dataframe\n",
    "master['name_match_findings'] = master.apply(check_fuzzy_match, axis=1)\n",
    "\n",
    "# valuecounts of column 'name_match_findings'\n",
    "print(master['name_match_findings'].value_counts())\n",
    "\n",
    "# the sum of the valuecounts should be equal to the number of rows in the dataframe\n",
    "print(master['name_match_findings'].value_counts().sum())\n",
    "\n"
   ]
  },
  {
   "cell_type": "code",
   "execution_count": 6,
   "metadata": {},
   "outputs": [
    {
     "name": "stdout",
     "output_type": "stream",
     "text": [
      "[exact dob match, full name match]                     8034\n",
      "[year match, last name match]                          6168\n",
      "[year match, full name match]                          2888\n",
      "[year match, last and middle name match]               1559\n",
      "[no dob match, no name match]                          1327\n",
      "[no dob match, middle name match]                       940\n",
      "[month and day match, full name match]                  683\n",
      "[exact dob match, last name match]                      408\n",
      "[month and day match, last name match]                  352\n",
      "[year and month match, full name match]                 331\n",
      "[year match, first name match]                          214\n",
      "[year match, no name match]                             160\n",
      "[exact dob match, last and middle name match]           143\n",
      "[year and month match, last name match]                 126\n",
      "[exact dob match, first name match]                     125\n",
      "[year match, first and middle name match]                79\n",
      "[exact dob match, first and middle name match]           73\n",
      "[month and day match, last and middle name match]        52\n",
      "[year match, middle name match]                          43\n",
      "[exact dob match, no name match]                         24\n",
      "[year and month match, last and middle name match]       23\n",
      "[month and day match, no name match]                     23\n",
      "[year and month match, first and middle name match]      12\n",
      "[month and day match, first name match]                  11\n",
      "[year and month match, partial match last name]          10\n",
      "[month and day match, middle name match]                  7\n",
      "[month and day match, first and middle name match]        4\n",
      "[year and month match, first name match]                  4\n",
      "[month and day match, partial match last name]            4\n",
      "[year and month match, middle name match]                 4\n",
      "[year match, partial match last name]                     3\n",
      "[year and month match, no name match]                     2\n",
      "[year match, partial match first name]                    2\n",
      "[no dob match, full name match]                           2\n",
      "[no dob match, first and middle name match]               1\n",
      "Name: combined_match_findings, dtype: int64\n"
     ]
    }
   ],
   "source": [
    "# combine the two findings into a new column called 'combined_match_findings' they should be items in a list\n",
    "master['combined_match_findings'] = master[['dob_match_finding', 'name_match_findings']].values.tolist()\n",
    "\n",
    "# valuecounts of column 'combined_match_findings'\n",
    "print(master['combined_match_findings'].value_counts())"
   ]
  },
  {
   "cell_type": "code",
   "execution_count": 7,
   "metadata": {},
   "outputs": [],
   "source": [
    "# write the excel file to hard drive\n",
    "writer = pd.ExcelWriter('turo_ncis.xlsx', engine='xlsxwriter')\n",
    "master.to_excel(writer, sheet_name='master', index=False)\n",
    "# create  second sheet with valuecounts of 'combined_match_findings'\n",
    "master['combined_match_findings'].value_counts().to_excel(writer, sheet_name='valuecounts')\n",
    "writer.save()\n",
    "\n",
    "# close the writer\n",
    "writer.close()\n"
   ]
  }
 ],
 "metadata": {
  "kernelspec": {
   "display_name": "Python 3",
   "language": "python",
   "name": "python3"
  },
  "language_info": {
   "codemirror_mode": {
    "name": "ipython",
    "version": 3
   },
   "file_extension": ".py",
   "mimetype": "text/x-python",
   "name": "python",
   "nbconvert_exporter": "python",
   "pygments_lexer": "ipython3",
   "version": "3.8.10"
  },
  "orig_nbformat": 4
 },
 "nbformat": 4,
 "nbformat_minor": 2
}
