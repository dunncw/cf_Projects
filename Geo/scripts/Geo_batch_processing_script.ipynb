{
 "cells": [
  {
   "cell_type": "code",
   "execution_count": 3,
   "metadata": {},
   "outputs": [
    {
     "name": "stdout",
     "output_type": "stream",
     "text": [
      "c:\\Users\\cayde\\Desktop\\CF_2_more_orginized\\Projects\\Geo\\scripts\n"
     ]
    }
   ],
   "source": [
    "# print cwd\n",
    "import os\n",
    "print(os.getcwd())"
   ]
  },
  {
   "cell_type": "code",
   "execution_count": 4,
   "metadata": {},
   "outputs": [],
   "source": [
    "#orginal file name : exploringimmigrationCrimeData_nopii.ipynb\n",
    "# path to said file : C:\\Users\\cayde\\Desktop\\CF\\exploringimmigrationCrimeData_nopii.ipynb\n",
    "\n",
    "#import libraries\n",
    "import pandas as pd\n",
    "import numpy as np\n",
    "\n",
    "ApprissCrime_df = pd.read_csv(r'../data/batch7/Copy of Return FIle, February.csv')\n",
    "\n",
    "#here we read in our data\n",
    "NCIC_dic_df = pd.read_csv(r\"../data\\NCIC_code_list - Copy.csv\")\n",
    "\n",
    "# read in the dic file\n",
    "dict_df = pd.read_csv(r\"../data\\diction_NCICcodes_descriptions_CrimeTiers_CDCTiers_as_csv - Copy.csv\")\n",
    "\n",
    "#add columns to the dataframe\n",
    "ApprissCrime_df['max_tier_charge'] = np.nan\n",
    "ApprissCrime_df['max_tier_charge_desc'] = np.nan\n",
    "ApprissCrime_df['immigration_charge_present'] = np.nan\n"
   ]
  },
  {
   "cell_type": "code",
   "execution_count": 5,
   "metadata": {},
   "outputs": [
    {
     "name": "stderr",
     "output_type": "stream",
     "text": [
      "C:\\Users\\cayde\\AppData\\Local\\Temp\\ipykernel_3232\\1141814517.py:2: FutureWarning: The default value of regex will change from True to False in a future version. In addition, single character regular expressions will *not* be treated as literal strings when regex=True.\n",
      "  ApprissCrime_df['BookingChargeNCICOffenseCode'] = ApprissCrime_df['BookingChargeNCICOffenseCode'].str.replace('[', '')\n",
      "C:\\Users\\cayde\\AppData\\Local\\Temp\\ipykernel_3232\\1141814517.py:5: FutureWarning: The default value of regex will change from True to False in a future version. In addition, single character regular expressions will *not* be treated as literal strings when regex=True.\n",
      "  ApprissCrime_df['BookingChargeNCICOffenseCode'] = ApprissCrime_df['BookingChargeNCICOffenseCode'].str.replace(']', '')\n"
     ]
    },
    {
     "name": "stdout",
     "output_type": "stream",
     "text": [
      "455 ncic codes\n",
      "NCIC codes that never show up in dataset: 413\n",
      "NCIC codes that show up in dataset: 42\n"
     ]
    }
   ],
   "source": [
    "# if any row of the column 'BookingChargeNCICOffenseCode' contains a '[' remove it\n",
    "ApprissCrime_df['BookingChargeNCICOffenseCode'] = ApprissCrime_df['BookingChargeNCICOffenseCode'].str.replace('[', '')\n",
    "\n",
    "# if any row of the column 'BookingChargeNCICOffenseCode' contains a ']' remove it\n",
    "ApprissCrime_df['BookingChargeNCICOffenseCode'] = ApprissCrime_df['BookingChargeNCICOffenseCode'].str.replace(']', '')\n",
    "\n",
    "# here we are creating a subset of the raw data that has the CorrelationID, BookingDate, and unrolled NCICcodes per row\n",
    "# each rows unrolled NCIC offense codes\n",
    "unrolled_NCICCodes_df = ApprissCrime_df['BookingChargeNCICOffenseCode'].str.split(',', expand=True)\n",
    "\n",
    "# ClientBillingID\n",
    "# SenderId\n",
    "#pull the correlationId and bookingdate columns for the data set and join them to the unrolled NCIC codes\n",
    "correlationID_column = ApprissCrime_df['SenderId']\n",
    "BookingDate_column = ApprissCrime_df['BookingDate']\n",
    "\n",
    "unrolled_NCICCodes_df.insert(0, 'BookingDate', BookingDate_column)\n",
    "unrolled_NCICCodes_df.insert(0, 'SenderId', correlationID_column)\n",
    "\n",
    "# if any value in the dataframe 'unrolled_NCICCodes_df' is ' ' replace it with ''\n",
    "unrolled_NCICCodes_df = unrolled_NCICCodes_df.replace(' ', '', regex=True)\n",
    "unrolled_NCICCodes_df = unrolled_NCICCodes_df.fillna('')\n",
    "# if any value in the dataframe 'unrolled_NCICCodes_df' is 'VANDALISM' replace it with ''\n",
    "unrolled_NCICCodes_df = unrolled_NCICCodes_df.replace('VANDALISM', '', regex=True)\n",
    "unrolled_NCICCodes_df = unrolled_NCICCodes_df.replace('ASSAULTANDBATTERY', '', regex=True)\n",
    "\n",
    "# if any value in the dataframe 'unrolled_NCICCodes_df' is '' replace it with nan\n",
    "#unrolled_NCICCodes_df = unrolled_NCICCodes_df.replace('' , np.nan)\n",
    "\n",
    "# here we are gonna make a distrobustion of counts of NCIC codes\n",
    "column_names_1 = ['NCICcode_count']\n",
    "index_names = []\n",
    "NCICcode_counts_df = pd.DataFrame(columns = column_names_1,)\n",
    "\n",
    "for index, row in NCIC_dic_df.iterrows():\n",
    "    if(row['NCIC Offense Code'] is not None and row['NCIC Offense Code'] != ''):\n",
    "        df = pd.DataFrame({\"NCICcode_count\":[0]})\n",
    "        NCICcode_counts_df = pd.concat([NCICcode_counts_df, df])\n",
    "        index_names.append(row['NCIC Offense Code'])\n",
    "\n",
    "NCICcode_counts_df = pd.DataFrame(NCICcode_counts_df).set_index([index_names])\n",
    "\n",
    "#get the number of columns in the dataframe 'unrolled_NCICCodes_df'\n",
    "num_of_columns = len(unrolled_NCICCodes_df.columns) - 3 # -3 because we dont want to count the index, senderId, and BookingDate columns\n",
    "\n",
    "\n",
    "for ind, row in unrolled_NCICCodes_df.iterrows():\n",
    "    #print(row['CorrelationID'], row['BookingDate'], row[0])\n",
    "    for i in range(0, num_of_columns):\n",
    "        if(row[i] is not None and row[i] != ''):\n",
    "            NCICcode = int(row[i])\n",
    "            NCICcode_counts_df.at[NCICcode, 'NCICcode_count'] = NCICcode_counts_df.at[NCICcode, 'NCICcode_count'] + 1\n",
    "\n",
    "no_examples = []\n",
    "counter = 0\n",
    "for ind, row in NCICcode_counts_df.iterrows():\n",
    "    if(row['NCICcode_count'] == 0):\n",
    "        no_examples.append(row.name)\n",
    "    else:\n",
    "        counter = counter + 1\n",
    "\n",
    "print(\"455 ncic codes\")\n",
    "print('NCIC codes that never show up in dataset: ' + str(len(no_examples)))\n",
    "print('NCIC codes that show up in dataset: ' + str(counter))"
   ]
  },
  {
   "cell_type": "code",
   "execution_count": 6,
   "metadata": {},
   "outputs": [],
   "source": [
    "# language code python\n",
    "#Here we are going to refine our dictionary to match the follwoing schema \n",
    "# NCICCODE(index) | Crime Tier | CDC Crime Category \n",
    "\n",
    "# dict_df = dict_df.drop([\"Description of Crime\",\"Notes:\"], axis=1)\n",
    "dict_df = dict_df.set_index('NCIC Offense Code')\n",
    "dict_df\n",
    "\n",
    "#here we are adding tier 5 so we can track immigration crimes\n",
    "dict_df.loc[dict_df['Notes:'] == 'Immigration crime', 'Tier'] = \"5\"\n",
    "\n",
    "# #here we are going to change the following tiers of the following booking descriptions\n",
    "dict_df.loc[dict_df['Description of Crime'] == 'CRUELTY TOWARD CHILD', 'Tier'] = 3\n",
    "dict_df.loc[dict_df['Description of Crime'] == 'CONTRIB DELINQ MINOR', 'Tier'] = 3\n",
    "dict_df.loc[dict_df['Description of Crime'] == 'OBSCENE MATERIAL – POSSESS', 'Tier'] = 3\n",
    "dict_df.loc[dict_df['Description of Crime'] == 'PROSTITUTION', 'Tier'] = 3\n",
    "dict_df.loc[dict_df['Description of Crime'] == 'FAMILY OFFENSE', 'Tier'] = 4\n",
    "dict_df.loc[dict_df['Description of Crime'] == 'GAMBLING', 'Tier'] = 4\n",
    "dict_df.loc[dict_df['Description of Crime'] == 'Indecent Exposure (to minors and adults)', 'Tier'] = 2\n",
    "\n",
    "\n"
   ]
  },
  {
   "cell_type": "code",
   "execution_count": 7,
   "metadata": {},
   "outputs": [],
   "source": [
    "# add columns to the dataframe\n",
    "\n",
    "#here we are going to add max tier to each booking charge\n",
    "# we are also going to add max tier description \n",
    "# we are also going to add immigration charge present\n",
    "\n",
    "def check_tier_against_last(old_val, new_val):\n",
    "    #print(old_val, new_val)\n",
    "    if(old_val == 'NaN' or old_val is None):\n",
    "        return new_val\n",
    "    if(new_val == 'NaN' or new_val is None):\n",
    "        return 'NaN'\n",
    "    # if the 'old_val' is bigger than or equal to the 'new_val' return the 'new_val'\n",
    "    if(old_val >= new_val):\n",
    "        return new_val\n",
    "    else:\n",
    "        return old_val\n",
    "\n",
    "def check(val):\n",
    "    if(val == 1.0):\n",
    "        return 1\n",
    "    if(val == 2.0):\n",
    "        return 2\n",
    "    if(val == 3.0):\n",
    "        return 3\n",
    "    if(val == 3):\n",
    "        return 3\n",
    "    if(val == 4.0):\n",
    "        return 4\n",
    "    if(val == 4):\n",
    "        return 4\n",
    "    if(val == '5'):\n",
    "        return 5\n",
    "    if(val == None):\n",
    "        return None\n",
    "    if(val == 'NaN'):\n",
    "        return None\n",
    "\n",
    "#itterate through the dataframe\n",
    "for index, row in unrolled_NCICCodes_df.iterrows():\n",
    "    for i in range(0, num_of_columns):\n",
    "        if(row[i] is not None and row[i] != ''):\n",
    "            NCICcode = int(row[i])\n",
    "            TierVal = dict_df.at[NCICcode, \"Tier\"]\n",
    "            description = dict_df.at[NCICcode, \"Description of Crime\"]\n",
    "            TierVal = check(TierVal)\n",
    "            if(TierVal == 5): # this handles immigration charge present\n",
    "                ApprissCrime_df.at[index, 'immigration_charge_present'] = 1\n",
    "            if(pd.isnull(ApprissCrime_df.at[index, 'max_tier_charge'])):\n",
    "                ApprissCrime_df.at[index, 'max_tier_charge'] = TierVal\n",
    "                ApprissCrime_df.at[index, 'max_tier_charge_desc'] = description\n",
    "            else:\n",
    "                if(pd.isnull(ApprissCrime_df.at[index, 'max_tier_charge'])) == True:\n",
    "                    print(ApprissCrime_df.at[index, 'max_tier_charge'], TierVal)\n",
    "                    if(TierVal <= ApprissCrime_df.at[index, 'max_tier_charge']):\n",
    "                        ApprissCrime_df.at[index, 'max_tier_charge'] = TierVal\n",
    "                        ApprissCrime_df.at[index, 'max_tier_charge_desc'] = description\n",
    "\n",
    "ApprissCrime_df.loc[ApprissCrime_df['BookingChargeDescription'] == 'IMMIGRATION', 'immigration_charge_present'] = 1\n",
    "ApprissCrime_df.loc[ApprissCrime_df['BookingChargeDescription'] == 'ICE DETENTION', 'immigration_charge_present'] = 1\n",
    "ApprissCrime_df.loc[ApprissCrime_df['BookingChargeDescription'] == 'IMMIGRATION & CUSTOMS DETAINEE', 'immigration_charge_present'] = 1\n",
    "ApprissCrime_df.loc[ApprissCrime_df['BookingChargeDescription'] == 'WARRANT FOR DEPORTATION', 'immigration_charge_present'] = 1\n",
    "ApprissCrime_df.loc[ApprissCrime_df['BookingChargeDescription'] == 'INTRANSIT/ILLEGAL RE-ENTRY', 'immigration_charge_present'] = 1\n",
    "ApprissCrime_df.loc[ApprissCrime_df['BookingChargeDescription'] == 'IMMIGRATION VIOLATIONS-90Z', 'immigration_charge_present'] = 1\n",
    "ApprissCrime_df.loc[ApprissCrime_df['BookingChargeDescription'] == 'IMMIGRANT W/O VISA', 'immigration_charge_present'] = 1\n",
    "ApprissCrime_df.loc[ApprissCrime_df['BookingChargeDescription'] == 'ICE HOLD', 'immigration_charge_present'] = 1\n",
    "ApprissCrime_df.loc[ApprissCrime_df['BookingChargeDescription'] == 'BORDER PATROL HOLD', 'immigration_charge_present'] = 1"
   ]
  },
  {
   "cell_type": "code",
   "execution_count": null,
   "metadata": {},
   "outputs": [],
   "source": []
  },
  {
   "cell_type": "code",
   "execution_count": 9,
   "metadata": {},
   "outputs": [],
   "source": [
    "# write the dataframe to csv\n",
    "ApprissCrime_df.to_csv(r\"../data/batch7/out/file_February_withappends.csv\")"
   ]
  }
 ],
 "metadata": {
  "kernelspec": {
   "display_name": "Python 3.8.10 64-bit (microsoft store)",
   "language": "python",
   "name": "python3"
  },
  "language_info": {
   "codemirror_mode": {
    "name": "ipython",
    "version": 3
   },
   "file_extension": ".py",
   "mimetype": "text/x-python",
   "name": "python",
   "nbconvert_exporter": "python",
   "pygments_lexer": "ipython3",
   "version": "3.8.10"
  },
  "orig_nbformat": 4,
  "vscode": {
   "interpreter": {
    "hash": "e1ebc6ce21e20a44ca2e939d468f8c4914f49f277b8be916293753b9e7a9feef"
   }
  }
 },
 "nbformat": 4,
 "nbformat_minor": 2
}
