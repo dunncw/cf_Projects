{
 "cells": [
  {
   "cell_type": "code",
   "execution_count": 46,
   "metadata": {},
   "outputs": [
    {
     "name": "stderr",
     "output_type": "stream",
     "text": [
      "C:\\Users\\cayde\\AppData\\Local\\Temp\\ipykernel_2768\\3157121903.py:6: DtypeWarning: Columns (12,66) have mixed types. Specify dtype option on import or set low_memory=False.\n",
      "  agr_demo = pd.read_csv('data/cf_agrAppend_va2_10_14_2022.csv')\n"
     ]
    }
   ],
   "source": [
    "import pandas as pd\n",
    "import numpy as np\n",
    "\n",
    "# Read the data\n",
    "PII_hearttable = pd.read_csv('data/dev_sample_HeartTable_10_17_2022.csv')\n",
    "agr_demo = pd.read_csv('data/cf_agrAppend_va2_10_14_2022.csv')"
   ]
  },
  {
   "cell_type": "code",
   "execution_count": 47,
   "metadata": {},
   "outputs": [],
   "source": [
    "\n",
    "# need to add a class flag to the PII_hearttable\n",
    "\n",
    "# using regex count the number of times the substring \"agr\" appears in the column 'source_id'\n",
    "# PII_hearttable['source_id'].str.count('agr').sum()\n",
    "\n",
    "# if the coulumn 'source_id' contains the substring \"agr\" then the class is 1 else 2\n",
    "PII_hearttable['is_suicide'] = np.where(PII_hearttable['source_id'].str.contains('agr'), 0, 1)"
   ]
  },
  {
   "cell_type": "code",
   "execution_count": 48,
   "metadata": {},
   "outputs": [],
   "source": [
    "# need to drop all non predictive pii info as it wont help the model.\n",
    "# only keep columns 'source_id' and 'is_suicide' from dataset pii_hearttable\n",
    "PII_hearttable = PII_hearttable[['source_id', 'is_suicide']]\n"
   ]
  },
  {
   "cell_type": "code",
   "execution_count": 49,
   "metadata": {},
   "outputs": [],
   "source": [
    "# adding label to each dataset so we can look at correlation between predictors and label\n",
    "\n",
    "# grab the column 'is_suicide' from 'PII_hearttable'\n",
    "is_suicide_vec = PII_hearttable['is_suicide']\n",
    "\n",
    "# add 'is_suicide_vec' vector to the 'agr_demo' dataframe\n",
    "agr_demo['is_suicide'] = is_suicide_vec\n"
   ]
  },
  {
   "cell_type": "code",
   "execution_count": 50,
   "metadata": {},
   "outputs": [],
   "source": [
    "# drop the columns 'PK', 'FIRST_NAME', 'LAST_NAME', 'MASTER_DOB', 'ADDRESS', 'CITY', 'STATE', 'ZIP'\n",
    "agr_demo = agr_demo.drop(['PK', 'AGRID','AGRID20','AGRID15','AGRID16', 'FIRST NAME', 'LAST NAME', 'ADDRESS', 'CITY', 'STATE', 'ZIP', 'BARCODE', 'COUNTY', 'ADDRESS TYPE'], axis=1)"
   ]
  },
  {
   "cell_type": "code",
   "execution_count": 51,
   "metadata": {},
   "outputs": [
    {
     "name": "stdout",
     "output_type": "stream",
     "text": [
      "source_id                     0.000000\n",
      "COA_DATE                      0.990453\n",
      "DPV                           0.000000\n",
      "SCF                           0.004124\n",
      "VACANT                        0.110668\n",
      "NO STAT                       0.110668\n",
      "RESIDENTIAL                   0.110623\n",
      "MOVED_CD                      0.995876\n",
      "ANK                           0.995518\n",
      "ORIG_ADDRESS                  0.002376\n",
      "ORIG_CITY                     0.004437\n",
      "ORIG_STATE                    0.001165\n",
      "ORIG_ZIP                      0.093232\n",
      "NCOA DATE                     0.000000\n",
      "MOVETYPE                      0.990453\n",
      "AGR_RECORD                    0.000000\n",
      "MASTER_DOB                    0.000000\n",
      "AGR_DOB                       0.496638\n",
      "CLIENT_DOB                    0.448229\n",
      "DEMO MATCH                    0.488660\n",
      "PROP MATCH                    0.536979\n",
      "IL_SCORE_AGR                  0.501524\n",
      "MATCH IL                      0.501524\n",
      "DEMO_TYPE OF DWELLING         0.572882\n",
      "DEMO_ESTIMATED INCOME         0.572882\n",
      "DEMO_OWN OR RENT              0.572882\n",
      "DEMO_CHILDREN                 0.572882\n",
      "DEMO_MARITAL STATUS           0.572882\n",
      "DEMO_EDUCATION LEVEL          0.572882\n",
      "DEMO_CREDIT RATING            0.572882\n",
      "DEMO_VETERAN PRESENT IN HH    0.572882\n",
      "PDLLF                         0.963738\n",
      "PDLSF                         0.916764\n",
      "CREDIT REPAIR                 0.993994\n",
      "DEBT CONSOLIDATION            0.997759\n",
      "LOAN AMOUNT 1                 0.919498\n",
      "LOAD DATE 1                   0.919498\n",
      "LOAD RECORDING DATE 1         0.919498\n",
      "MULTIPLE PROPERTIES COUNT     0.801838\n",
      "MULTIPLE PROPERTIES FLAG      0.936755\n",
      "OWNER OCCUPIED STATUS         0.801838\n",
      "OWNER STATUS TYPE             0.801838\n",
      "OWNERSHIP START DATE          0.875213\n",
      "PROPERTY TYPE DESC            0.801927\n",
      "PURCHASE PRICE                0.929269\n",
      "PURCHASE RECORDING DATE       0.929269\n",
      "PURCHASE SALE DATE            0.929269\n",
      "BANKRUPCY                     0.985657\n",
      "BANKRUPTCY DATE               0.987270\n",
      "BANKRUPTCY STATUS             0.990901\n",
      "DUI                           0.988794\n",
      "SEX OFFENDER DATE             1.000000\n",
      "SEX OFFENDER                  0.999731\n",
      "DIGITAL FLAG                  0.979068\n",
      "is_suicide                    0.000090\n",
      "dtype: float64\n"
     ]
    }
   ],
   "source": [
    "# in this code block i will be trying to impute the missing values in the dataset attribute by attribute.\n",
    "# get the percentage of missing values in each column\n",
    "print(agr_demo.isnull().sum() / len(agr_demo))"
   ]
  },
  {
   "cell_type": "code",
   "execution_count": 52,
   "metadata": {},
   "outputs": [],
   "source": [
    "# drop the column 'COA_DATE' as 99% of it is missing\n",
    "agr_demo = agr_demo.drop(['COA_DATE'], axis=1)"
   ]
  },
  {
   "cell_type": "code",
   "execution_count": 53,
   "metadata": {},
   "outputs": [],
   "source": [
    "# DPV\n",
    "# desc: Delivery Point Validation - 1 = Deliverable; 0 = Undeliverable\n",
    "# binary 100% filled do not touch\n",
    "\n",
    "# Drop DPV\n",
    "agr_demo = agr_demo.drop(['DPV'], axis=1)"
   ]
  },
  {
   "cell_type": "code",
   "execution_count": 54,
   "metadata": {},
   "outputs": [],
   "source": [
    "#SCF\n",
    "# need to figure out what this is will probs drop\n",
    "# string 3 long\n",
    "\n",
    "# drop SCF\n",
    "agr_demo = agr_demo.drop(['SCF'], axis=1)"
   ]
  },
  {
   "cell_type": "code",
   "execution_count": 55,
   "metadata": {},
   "outputs": [
    {
     "name": "stdout",
     "output_type": "stream",
     "text": [
      "2469\n",
      "11.07%\n",
      "after filling null values in 'VACANT' column\n",
      "0\n",
      "0.00%\n"
     ]
    }
   ],
   "source": [
    "# VACANT\n",
    "# desc: Vacant 1 = Vacant (not receiving mail at this time)\n",
    "\n",
    "# how many null values in 'VACANT' column\n",
    "print(agr_demo['VACANT'].isnull().sum())\n",
    "# expressed as a percentage with nice formatting \n",
    "print('{:.2%}'.format(agr_demo['VACANT'].isnull().sum()/len(agr_demo)))\n",
    "\n",
    "# fill the null values in 'VACANT' with 0\n",
    "agr_demo['VACANT'] = agr_demo['VACANT'].fillna(0)\n",
    "\n",
    "print(\"after filling null values in 'VACANT' column\")\n",
    "\n",
    "# how many null values in 'VACANT' column\n",
    "print(agr_demo['VACANT'].isnull().sum())\n",
    "# expressed as a percentage with nice formatting \n",
    "print('{:.2%}'.format(agr_demo['VACANT'].isnull().sum()/len(agr_demo)))"
   ]
  },
  {
   "cell_type": "code",
   "execution_count": 56,
   "metadata": {},
   "outputs": [
    {
     "name": "stdout",
     "output_type": "stream",
     "text": [
      "2469\n",
      "11.07%\n",
      "after filling null values in 'NO STAT' column\n",
      "0\n",
      "0.00%\n"
     ]
    }
   ],
   "source": [
    "# 'NO STAT'\n",
    "# desc:\n",
    "\n",
    "#how many null values in 'NO STAT' column\n",
    "print(agr_demo['NO STAT'].isnull().sum())\n",
    "# expressed as a percentage with nice formatting\n",
    "print('{:.2%}'.format(agr_demo['NO STAT'].isnull().sum()/len(agr_demo)))\n",
    "\n",
    "# fill the null values in 'NO STAT' with 0\n",
    "agr_demo['NO STAT'] = agr_demo['NO STAT'].fillna(0)\n",
    "\n",
    "print(\"after filling null values in 'NO STAT' column\")\n",
    "\n",
    "# how many null values in 'NO STAT' column\n",
    "print(agr_demo['NO STAT'].isnull().sum())\n",
    "# expressed as a percentage with nice formatting\n",
    "print('{:.2%}'.format(agr_demo['NO STAT'].isnull().sum()/len(agr_demo)))"
   ]
  },
  {
   "cell_type": "code",
   "execution_count": 57,
   "metadata": {},
   "outputs": [],
   "source": [
    "# 'ADDRESS TYPE'\n",
    "# desc: High Rise; PO Box; Rural/Highway; Street\n",
    "# consider dropping this if it is seen as non predictive as i dont think it will lend much to the model\n",
    "# string\n",
    "\n",
    "# # how many null values in 'ADDRESS TYPE' column\n",
    "# print(agr_demo['ADDRESS TYPE'].isnull().sum())\n",
    "# # expressed as a percentage with nice formatting\n",
    "# print('{:.2%}'.format(agr_demo['ADDRESS TYPE'].isnull().sum()/len(agr_demo)))\n"
   ]
  },
  {
   "cell_type": "code",
   "execution_count": 58,
   "metadata": {},
   "outputs": [
    {
     "name": "stdout",
     "output_type": "stream",
     "text": [
      "2468\n",
      "11.06%\n",
      "after filling null values in 'RESIDENTIAL' column\n",
      "0\n",
      "0.00%\n"
     ]
    }
   ],
   "source": [
    "# 'RESIDENTIAL'\n",
    "# boolean y or n \n",
    "\n",
    "# how many null values in 'RESIDENTIAL' column\n",
    "print(agr_demo['RESIDENTIAL'].isnull().sum())\n",
    "# expressed as a percentage with nice formatting\n",
    "print('{:.2%}'.format(agr_demo['RESIDENTIAL'].isnull().sum()/len(agr_demo)))\n",
    "\n",
    "# fill the null values in 'RESIDENTIAL' with 0\n",
    "agr_demo['RESIDENTIAL'] = agr_demo['RESIDENTIAL'].fillna(0)\n",
    "\n",
    "print(\"after filling null values in 'RESIDENTIAL' column\")\n",
    "\n",
    "# how many null values in 'RESIDENTIAL' column\n",
    "print(agr_demo['RESIDENTIAL'].isnull().sum())\n",
    "# expressed as a percentage with nice formatting\n",
    "print('{:.2%}'.format(agr_demo['RESIDENTIAL'].isnull().sum()/len(agr_demo)))\n",
    "\n",
    "# convert all the values in 'RESIDENTIAL' to 'Y' = 1 or 'N' = 0\n",
    "agr_demo['RESIDENTIAL'] = np.where(agr_demo['RESIDENTIAL'] == 'Y', 1, 0)"
   ]
  },
  {
   "cell_type": "code",
   "execution_count": 59,
   "metadata": {},
   "outputs": [
    {
     "name": "stdout",
     "output_type": "stream",
     "text": [
      "22218\n",
      "99.59%\n"
     ]
    }
   ],
   "source": [
    "# 'MOVED_CD'  \n",
    "# desc: ADDRESS = Moved no forwarding address; PO BOX = PO Box closed \n",
    "# catergorical. needs 1 hot encoding. can probs drop this as it is not predictive\n",
    "\n",
    "# how many null values in 'MOVED_CD' column\n",
    "print(agr_demo['MOVED_CD'].isnull().sum())\n",
    "# expressed as a percentage with nice formatting\n",
    "print('{:.2%}'.format(agr_demo['MOVED_CD'].isnull().sum()/len(agr_demo)))\n",
    "\n",
    "# drop the column 'MOVED_CD' as 99% of it is missing\n",
    "agr_demo = agr_demo.drop(['MOVED_CD'], axis=1)"
   ]
  },
  {
   "cell_type": "code",
   "execution_count": 60,
   "metadata": {},
   "outputs": [
    {
     "name": "stdout",
     "output_type": "stream",
     "text": [
      "22210\n",
      "99.55%\n"
     ]
    }
   ],
   "source": [
    "# 'ANK'   \n",
    "# desc:\n",
    "# catergorical. needs 1 hot encoding. can probs drop this as it is not predictive\n",
    "\n",
    "# how many null values in 'ANK' column\n",
    "print(agr_demo['ANK'].isnull().sum())\n",
    "# expressed as a percentage with nice formatting\n",
    "print('{:.2%}'.format(agr_demo['ANK'].isnull().sum()/len(agr_demo)))\n",
    "\n",
    "# drop the column 'ANK' as 99% of it is missing\n",
    "agr_demo = agr_demo.drop(['ANK'], axis=1)"
   ]
  },
  {
   "cell_type": "code",
   "execution_count": 61,
   "metadata": {},
   "outputs": [],
   "source": [
    "# drop 'ORIG_ADDRESS', 'ORIG_CITY', 'ORIG_STATE', 'ORIG_ZIP' as they are not predictive\n",
    "agr_demo = agr_demo.drop(['ORIG_ADDRESS', 'ORIG_CITY', 'ORIG_STATE', 'ORIG_ZIP'], axis=1)\n",
    "\n",
    "# drop 'NCOA_DATE' as it is not predictive\n",
    "# desc: Date record sent through NCOA verification\n",
    "agr_demo = agr_demo.drop(['NCOA DATE'], axis=1)\n"
   ]
  },
  {
   "cell_type": "code",
   "execution_count": 62,
   "metadata": {},
   "outputs": [
    {
     "name": "stdout",
     "output_type": "stream",
     "text": [
      "22097\n",
      "99.05%\n"
     ]
    }
   ],
   "source": [
    "# 'MOVETYPE'\n",
    "# desc: F = recent move was FAMILY move; I = recent move was INDIVIDUAL move\n",
    "# catergorical. needs 1 hot encoding. can probs drop this as it is not predictive\n",
    "\n",
    "# how many null values in 'MOVETYPE' column\n",
    "print(agr_demo['MOVETYPE'].isnull().sum())\n",
    "# expressed as a percentage with nice formatting\n",
    "print('{:.2%}'.format(agr_demo['MOVETYPE'].isnull().sum()/len(agr_demo)))\n",
    "\n",
    "# drop the column 'MOVETYPE' as 99% of it is missing\n",
    "agr_demo = agr_demo.drop(['MOVETYPE'], axis=1)"
   ]
  },
  {
   "cell_type": "code",
   "execution_count": 63,
   "metadata": {},
   "outputs": [],
   "source": [
    "# drop 'AGR_RECORD' as it is not predictive\n",
    "# desc: Y = AGR PROVIDED RECORD; N = CLIENT PROVIDED RECORD\n",
    "agr_demo = agr_demo.drop(['AGR_RECORD'], axis=1)\n",
    "\n",
    "# drop 'MASTER_DOB', 'AGR_DOB', 'CLIENT_DOB'\n",
    "agr_demo = agr_demo.drop(['MASTER_DOB', 'AGR_DOB', 'CLIENT_DOB'], axis=1)\n",
    "\n",
    "# drop 'DEMO MATCH','PROP MATCH','IL_SCORE_AGR','MATCH IL'\n",
    "agr_demo = agr_demo.drop(['DEMO MATCH','PROP MATCH','IL_SCORE_AGR','MATCH IL'], axis=1)\n",
    "\n"
   ]
  },
  {
   "cell_type": "code",
   "execution_count": 64,
   "metadata": {},
   "outputs": [
    {
     "name": "stdout",
     "output_type": "stream",
     "text": [
      "12781\n",
      "57.29%\n"
     ]
    }
   ],
   "source": [
    "# 'DEMO_TYPE OF DWELLING'\n",
    "# desc: S = Single Family Dwelling Unit; M = Multiple Family Dwelling Unit; U = Unknown\n",
    "# catergorical. needs 1 hot encoding.\n",
    "\n",
    "# how many null values in 'DEMO_TYPE OF DWELLING' column\n",
    "print(agr_demo['DEMO_TYPE OF DWELLING'].isnull().sum())\n",
    "# expressed as a percentage with nice formatting\n",
    "print('{:.2%}'.format(agr_demo['DEMO_TYPE OF DWELLING'].isnull().sum()/len(agr_demo)))\n",
    "\n",
    "# change the 'U' = unknown to nan\n",
    "agr_demo['DEMO_TYPE OF DWELLING'] = agr_demo['DEMO_TYPE OF DWELLING'].replace('U', np.nan)\n",
    "\n",
    "# 1 hot encode the column 'DEMO_TYPE OF DWELLING'\n",
    "agr_demo = pd.get_dummies(agr_demo, columns=['DEMO_TYPE OF DWELLING'])"
   ]
  },
  {
   "cell_type": "code",
   "execution_count": 65,
   "metadata": {},
   "outputs": [
    {
     "name": "stdout",
     "output_type": "stream",
     "text": [
      "12781\n",
      "57.29%\n"
     ]
    }
   ],
   "source": [
    "# 'DEMO_ESTIMATED INCOME'\n",
    "# Desc: Values:\n",
    "# A = Under $10,000\n",
    "# B = $10,000 - $14,999\n",
    "# C = $15,000 - $19,999\n",
    "# D = $20,000 - $24,999\n",
    "# E = $25,000 - $29,999\n",
    "# F = $30,000 - $34,999\n",
    "# G = $35,000 - $39,999\n",
    "# H =  $40,000 - $44,999\n",
    "# I = $45,000 - $49,999\n",
    "# J = $50,000 - $54,999\n",
    "# K = $55,000 - $59,999\n",
    "# L = $60,000 - $64,999\n",
    "# M = $65,000 - $74,999\n",
    "# N = $75,000 - $99,999\n",
    "# O = $100,000 - $149,999\n",
    "# P = $150,000 - $174,999\n",
    "# Q = $175,000 - $199,999\n",
    "# R = $200,000 - $249,999\n",
    "# S = $250,000 Plus\n",
    "# catergorical. needs 1 hot encoding.\n",
    "\n",
    "# how many null values in 'DEMO_ESTIMATED INCOME' column\n",
    "print(agr_demo['DEMO_ESTIMATED INCOME'].isnull().sum())\n",
    "# expressed as a percentage with nice formatting\n",
    "print('{:.2%}'.format(agr_demo['DEMO_ESTIMATED INCOME'].isnull().sum()/len(agr_demo)))\n",
    "\n",
    "# 1 hot encode the column 'DEMO_ESTIMATED INCOME'\n",
    "agr_demo = pd.get_dummies(agr_demo, columns=['DEMO_ESTIMATED INCOME'])\n"
   ]
  },
  {
   "cell_type": "code",
   "execution_count": 66,
   "metadata": {},
   "outputs": [
    {
     "name": "stdout",
     "output_type": "stream",
     "text": [
      "12781\n",
      "57.29%\n"
     ]
    }
   ],
   "source": [
    "# 'DEMO_OWN OR RENT'\n",
    "# catergorical. needs 1 hot encoding.\n",
    "\n",
    "# how many null values in 'DEMO_OWN OR RENT' column\n",
    "print(agr_demo['DEMO_OWN OR RENT'].isnull().sum())\n",
    "# expressed as a percentage with nice formatting\n",
    "print('{:.2%}'.format(agr_demo['DEMO_OWN OR RENT'].isnull().sum()/len(agr_demo)))\n",
    "\n",
    "# change the 'U' = unknown to nan\n",
    "agr_demo['DEMO_OWN OR RENT'] = agr_demo['DEMO_OWN OR RENT'].replace('U', np.nan)\n",
    "\n",
    "# 1 hot encode the column 'DEMO_OWN OR RENT'\n",
    "agr_demo = pd.get_dummies(agr_demo, columns=['DEMO_OWN OR RENT'])"
   ]
  },
  {
   "cell_type": "code",
   "execution_count": 67,
   "metadata": {},
   "outputs": [
    {
     "name": "stdout",
     "output_type": "stream",
     "text": [
      "12781\n",
      "57.29%\n"
     ]
    }
   ],
   "source": [
    "# 'DEMO_CHILDREN'\n",
    "# catergorical. change to binary.\n",
    "\n",
    "# how many null values in 'DEMO_CHILDREN' column\n",
    "print(agr_demo['DEMO_CHILDREN'].isnull().sum())\n",
    "# expressed as a percentage with nice formatting\n",
    "print('{:.2%}'.format(agr_demo['DEMO_CHILDREN'].isnull().sum()/len(agr_demo)))\n",
    "\n",
    "# change the 'U' = unknown to nan\n",
    "agr_demo['DEMO_CHILDREN'] = agr_demo['DEMO_CHILDREN'].replace('U', np.nan)\n",
    "\n",
    "# 1 hot encode the column 'DEMO_CHILDREN'\n",
    "agr_demo = pd.get_dummies(agr_demo, columns=['DEMO_CHILDREN'])"
   ]
  },
  {
   "cell_type": "code",
   "execution_count": 68,
   "metadata": {},
   "outputs": [
    {
     "name": "stdout",
     "output_type": "stream",
     "text": [
      "12781\n",
      "57.29%\n"
     ]
    }
   ],
   "source": [
    "# 'DEMO_MARITAL STATUS'\n",
    "# catergorical. needs 1 hot encoding.\n",
    "\n",
    "# how many null values in 'DEMO_MARITAL STATUS' column\n",
    "print(agr_demo['DEMO_MARITAL STATUS'].isnull().sum())\n",
    "# expressed as a percentage with nice formatting\n",
    "print('{:.2%}'.format(agr_demo['DEMO_MARITAL STATUS'].isnull().sum()/len(agr_demo)))\n",
    "\n",
    "# change the 'U' = unknown to nan\n",
    "agr_demo['DEMO_MARITAL STATUS'] = agr_demo['DEMO_MARITAL STATUS'].replace('U', np.nan)\n",
    "\n",
    "# 1 hot encode the column 'DEMO_MARITAL STATUS'\n",
    "agr_demo = pd.get_dummies(agr_demo, columns=['DEMO_MARITAL STATUS'])"
   ]
  },
  {
   "cell_type": "code",
   "execution_count": 69,
   "metadata": {},
   "outputs": [
    {
     "name": "stdout",
     "output_type": "stream",
     "text": [
      "12781\n",
      "57.29%\n"
     ]
    }
   ],
   "source": [
    "# 'DEMO_EDUCATION LEVEL'\n",
    "# catergorical. needs 1 hot encoding.\n",
    "\n",
    "# how many null values in 'DEMO_EDUCATION LEVEL' column\n",
    "print(agr_demo['DEMO_EDUCATION LEVEL'].isnull().sum())\n",
    "# expressed as a percentage with nice formatting\n",
    "print('{:.2%}'.format(agr_demo['DEMO_EDUCATION LEVEL'].isnull().sum()/len(agr_demo)))\n",
    "\n",
    "# change the 'U' = unknown to nan\n",
    "agr_demo['DEMO_EDUCATION LEVEL'] = agr_demo['DEMO_EDUCATION LEVEL'].replace('U', np.nan)\n",
    "\n",
    "# 1 hot encode the column 'DEMO_EDUCATION LEVEL'\n",
    "agr_demo = pd.get_dummies(agr_demo, columns=['DEMO_EDUCATION LEVEL'])\n"
   ]
  },
  {
   "cell_type": "code",
   "execution_count": 70,
   "metadata": {},
   "outputs": [
    {
     "name": "stdout",
     "output_type": "stream",
     "text": [
      "12781\n",
      "57.29%\n"
     ]
    }
   ],
   "source": [
    "# 'DEMO_CREDIT RATING' \n",
    "# catergorical. needs 1 hot encoding.\n",
    "\n",
    "# how many null values in 'DEMO_CREDIT RATING' column\n",
    "print(agr_demo['DEMO_CREDIT RATING'].isnull().sum())\n",
    "# expressed as a percentage with nice formatting\n",
    "print('{:.2%}'.format(agr_demo['DEMO_CREDIT RATING'].isnull().sum()/len(agr_demo)))\n",
    "\n",
    "# 1 hot encode the column 'DEMO_CREDIT RATING'\n",
    "agr_demo = pd.get_dummies(agr_demo, columns=['DEMO_CREDIT RATING'])"
   ]
  },
  {
   "cell_type": "code",
   "execution_count": 71,
   "metadata": {},
   "outputs": [
    {
     "name": "stdout",
     "output_type": "stream",
     "text": [
      "12781\n",
      "57.29%\n",
      "0\n",
      "0.00%\n"
     ]
    }
   ],
   "source": [
    "# DEMO_VETERAN PRESENT IN HH\n",
    "# boolean.\n",
    "\n",
    "# how many null values in 'DEMO_VETERAN PRESENT IN HH' column\n",
    "print(agr_demo['DEMO_VETERAN PRESENT IN HH'].isnull().sum())\n",
    "# expressed as a percentage with nice formatting\n",
    "print('{:.2%}'.format(agr_demo['DEMO_VETERAN PRESENT IN HH'].isnull().sum()/len(agr_demo)))\n",
    "\n",
    "#change Y to 1 and U to 0\n",
    "agr_demo['DEMO_VETERAN PRESENT IN HH'] = agr_demo['DEMO_VETERAN PRESENT IN HH'].replace('Y', 1)\n",
    "agr_demo['DEMO_VETERAN PRESENT IN HH'] = agr_demo['DEMO_VETERAN PRESENT IN HH'].replace('U', 0)\n",
    "\n",
    "#change nan to 0\n",
    "agr_demo['DEMO_VETERAN PRESENT IN HH'] = agr_demo['DEMO_VETERAN PRESENT IN HH'].fillna(0)\n",
    "\n",
    "# how many null values in 'DEMO_VETERAN PRESENT IN HH' column\n",
    "print(agr_demo['DEMO_VETERAN PRESENT IN HH'].isnull().sum())\n",
    "# expressed as a percentage with nice formatting\n",
    "print('{:.2%}'.format(agr_demo['DEMO_VETERAN PRESENT IN HH'].isnull().sum()/len(agr_demo)))"
   ]
  },
  {
   "cell_type": "code",
   "execution_count": 72,
   "metadata": {},
   "outputs": [],
   "source": [
    "# drop 'PDLLF','PDLSF','CREDIT REPAIR','DEBT CONSOLIDATION'\n",
    "agr_demo = agr_demo.drop(['PDLLF','PDLSF','CREDIT REPAIR','DEBT CONSOLIDATION'], axis=1)"
   ]
  },
  {
   "cell_type": "code",
   "execution_count": 73,
   "metadata": {},
   "outputs": [
    {
     "name": "stdout",
     "output_type": "stream",
     "text": [
      "20514\n",
      "91.95%\n",
      "125000.0\n",
      "157417.5250556793\n",
      "0    50000.0\n",
      "Name: LOAN AMOUNT 1, dtype: float64\n"
     ]
    },
    {
     "data": {
      "image/png": "[encoded data removed]",
      "text/plain": [
       "<Figure size 432x288 with 1 Axes>"
      ]
     },
     "metadata": {
      "needs_background": "light"
     },
     "output_type": "display_data"
    }
   ],
   "source": [
    "# 'LOAN AMOUNT 1'\n",
    "# numerical. needs to be standardized.\n",
    "\n",
    "# how many null values in 'LOAN AMOUNT 1' column\n",
    "print(agr_demo['LOAN AMOUNT 1'].isnull().sum())\n",
    "# expressed as a percentage with nice formatting\n",
    "print('{:.2%}'.format(agr_demo['LOAN AMOUNT 1'].isnull().sum()/len(agr_demo)))\n",
    "\n",
    "# what is the distribution of 'LOAN AMOUNT 1'\n",
    "agr_demo['LOAN AMOUNT 1'].hist()\n",
    "\n",
    "# what is the median of 'LOAN AMOUNT 1'\n",
    "print(agr_demo['LOAN AMOUNT 1'].median())\n",
    "\n",
    "# what is the mean of 'LOAN AMOUNT 1'\n",
    "print(agr_demo['LOAN AMOUNT 1'].mean())\n",
    "\n",
    "# what is the mode of 'LOAN AMOUNT 1'\n",
    "print(agr_demo['LOAN AMOUNT 1'].mode())\n",
    "\n",
    "# standardize the column 'LOAN AMOUNT 1'\n",
    "agr_demo['LOAN AMOUNT 1'] = (agr_demo['LOAN AMOUNT 1'] - agr_demo['LOAN AMOUNT 1'].mean()) / agr_demo['LOAN AMOUNT 1'].std()\n",
    "# i dont this its appropriate backfill here givin the amount of null values\n",
    "\n",
    "\n"
   ]
  },
  {
   "cell_type": "code",
   "execution_count": 74,
   "metadata": {},
   "outputs": [],
   "source": [
    "# drop 'LOAN DATE 1', 'LOAD RECORDING DATE 1'\n",
    "agr_demo = agr_demo.drop(['LOAD DATE 1', 'LOAD RECORDING DATE 1'], axis=1)\n"
   ]
  },
  {
   "cell_type": "code",
   "execution_count": 75,
   "metadata": {},
   "outputs": [
    {
     "name": "stdout",
     "output_type": "stream",
     "text": [
      "17889\n",
      "80.18%\n",
      "1.0\n"
     ]
    },
    {
     "data": {
      "image/png": "[encoded data removed]",
      "text/plain": [
       "<Figure size 432x288 with 1 Axes>"
      ]
     },
     "metadata": {
      "needs_background": "light"
     },
     "output_type": "display_data"
    }
   ],
   "source": [
    "# 'MULTIPLE PROPERTIES COUNT'\n",
    "# numerical. needs to be standardized.\n",
    "\n",
    "# how many null values in 'MULTIPLE PROPERTIES COUNT' column\n",
    "print(agr_demo['MULTIPLE PROPERTIES COUNT'].isnull().sum())\n",
    "# expressed as a percentage with nice formatting\n",
    "print('{:.2%}'.format(agr_demo['MULTIPLE PROPERTIES COUNT'].isnull().sum()/len(agr_demo)))\n",
    "\n",
    "# what is the distribution of 'MULTIPLE PROPERTIES COUNT'\n",
    "agr_demo['MULTIPLE PROPERTIES COUNT'].hist()\n",
    "\n",
    "# what is the median of 'MULTIPLE PROPERTIES COUNT'\n",
    "print(agr_demo['MULTIPLE PROPERTIES COUNT'].median())\n",
    "\n",
    "# fill in the null values with the median #### not sure if this is appropriate as 80% of data is missing \n",
    "# agr_demo['MULTIPLE PROPERTIES COUNT'] = agr_demo['MULTIPLE PROPERTIES COUNT'].fillna(agr_demo['MULTIPLE PROPERTIES COUNT'].median())\n",
    "\n",
    "# standardize the column 'MULTIPLE PROPERTIES COUNT'\n",
    "agr_demo['MULTIPLE PROPERTIES COUNT'] = (agr_demo['MULTIPLE PROPERTIES COUNT'] - agr_demo['MULTIPLE PROPERTIES COUNT'].mean()) / agr_demo['MULTIPLE PROPERTIES COUNT'].std()\n",
    "\n"
   ]
  },
  {
   "cell_type": "code",
   "execution_count": 76,
   "metadata": {},
   "outputs": [],
   "source": [
    "# drop 'MULTIPLE PROPERTIES FLAG' its redundant with 'MULTIPLE PROPERTIES COUNT'\n",
    "agr_demo = agr_demo.drop(['MULTIPLE PROPERTIES FLAG'], axis=1)"
   ]
  },
  {
   "cell_type": "code",
   "execution_count": 77,
   "metadata": {},
   "outputs": [
    {
     "name": "stdout",
     "output_type": "stream",
     "text": [
      "17889\n",
      "80.18%\n"
     ]
    }
   ],
   "source": [
    "# 'OWNER OCCUPIED STATUS'  \n",
    "# catergorical.\n",
    "\n",
    "# how many null values in 'OWNER OCCUPIED STATUS' column\n",
    "print(agr_demo['OWNER OCCUPIED STATUS'].isnull().sum())\n",
    "# expressed as a percentage with nice formatting\n",
    "print('{:.2%}'.format(agr_demo['OWNER OCCUPIED STATUS'].isnull().sum()/len(agr_demo)))\n",
    "\n",
    "# 1 hot encode the column 'OWNER OCCUPIED STATUS'\n",
    "agr_demo = pd.get_dummies(agr_demo, columns=['OWNER OCCUPIED STATUS'])\n",
    "\n"
   ]
  },
  {
   "cell_type": "code",
   "execution_count": 78,
   "metadata": {},
   "outputs": [],
   "source": [
    "# 'OWNER STATUS TYPE' \n",
    "# catergorical.\n",
    "\n",
    "# 1 hot encode the column 'OWNER STATUS TYPE'\n",
    "agr_demo = pd.get_dummies(agr_demo, columns=['OWNER STATUS TYPE'])"
   ]
  },
  {
   "cell_type": "code",
   "execution_count": 79,
   "metadata": {},
   "outputs": [],
   "source": [
    "# drop 'OWNERSHIP_START_DATE'\n",
    "agr_demo = agr_demo.drop(['OWNERSHIP START DATE'], axis=1)"
   ]
  },
  {
   "cell_type": "code",
   "execution_count": 80,
   "metadata": {},
   "outputs": [],
   "source": [
    "# 'PROPERTY TYPE DESC'\n",
    "# catergorical.\n",
    "\n",
    "# 1 hot encode the column 'PROPERTY TYPE DESC'\n",
    "agr_demo = pd.get_dummies(agr_demo, columns=['PROPERTY TYPE DESC'])"
   ]
  },
  {
   "cell_type": "code",
   "execution_count": 81,
   "metadata": {},
   "outputs": [
    {
     "name": "stdout",
     "output_type": "stream",
     "text": [
      "20732\n",
      "92.93%\n"
     ]
    }
   ],
   "source": [
    "# 'PURCHASE PRICE'\n",
    "# numerical. needs to be standardized.\n",
    "\n",
    "# how many null values in 'PURCHASE PRICE' column\n",
    "print(agr_demo['PURCHASE PRICE'].isnull().sum())\n",
    "# expressed as a percentage with nice formatting\n",
    "print('{:.2%}'.format(agr_demo['PURCHASE PRICE'].isnull().sum()/len(agr_demo)))\n",
    "\n",
    "# dont think is appropriate to backfill here as 92% of data is missing\n",
    "\n",
    "# standardize the column 'PURCHASE PRICE'\n",
    "agr_demo['PURCHASE PRICE'] = (agr_demo['PURCHASE PRICE'] - agr_demo['PURCHASE PRICE'].mean()) / agr_demo['PURCHASE PRICE'].std()"
   ]
  },
  {
   "cell_type": "code",
   "execution_count": 82,
   "metadata": {},
   "outputs": [],
   "source": [
    "# drop 'PURCHASE RECORDING DATE', PURCHASE SALE DATE\n",
    "agr_demo = agr_demo.drop(['PURCHASE RECORDING DATE', 'PURCHASE SALE DATE'], axis=1)"
   ]
  },
  {
   "cell_type": "code",
   "execution_count": 83,
   "metadata": {},
   "outputs": [
    {
     "name": "stdout",
     "output_type": "stream",
     "text": [
      "21990\n",
      "98.57%\n",
      "0\n",
      "0.00%\n"
     ]
    }
   ],
   "source": [
    "# BANKRUPCY\n",
    "# boolean.\n",
    "\n",
    "# how many null values in 'BANKRUPCY' column\n",
    "print(agr_demo['BANKRUPCY'].isnull().sum())\n",
    "# expressed as a percentage with nice formatting\n",
    "print('{:.2%}'.format(agr_demo['BANKRUPCY'].isnull().sum()/len(agr_demo)))\n",
    "\n",
    "# change Y to 1\n",
    "agr_demo['BANKRUPCY'] = agr_demo['BANKRUPCY'].replace('Y', 1)\n",
    "# change nan to 0\n",
    "agr_demo['BANKRUPCY'] = agr_demo['BANKRUPCY'].fillna(0)\n",
    "\n",
    "# how many null values in 'BANKRUPCY' column\n",
    "print(agr_demo['BANKRUPCY'].isnull().sum())\n",
    "# expressed as a percentage with nice formatting\n",
    "print('{:.2%}'.format(agr_demo['BANKRUPCY'].isnull().sum()/len(agr_demo)))"
   ]
  },
  {
   "cell_type": "code",
   "execution_count": 84,
   "metadata": {},
   "outputs": [],
   "source": [
    "# drop 'BANKRUPTCY DATE', 'BANKRUPTCY STATUS'\n",
    "agr_demo = agr_demo.drop(['BANKRUPTCY DATE', 'BANKRUPTCY STATUS'], axis=1)"
   ]
  },
  {
   "cell_type": "code",
   "execution_count": 85,
   "metadata": {},
   "outputs": [
    {
     "name": "stdout",
     "output_type": "stream",
     "text": [
      "22060\n",
      "98.88%\n",
      "0\n",
      "0.00%\n"
     ]
    }
   ],
   "source": [
    "# 'DUI'\n",
    "# boolean.\n",
    "\n",
    "# how many null values in 'DUI' column\n",
    "print(agr_demo['DUI'].isnull().sum())\n",
    "# expressed as a percentage with nice formatting\n",
    "print('{:.2%}'.format(agr_demo['DUI'].isnull().sum()/len(agr_demo)))\n",
    "\n",
    "# change Y to 1\n",
    "agr_demo['DUI'] = agr_demo['DUI'].replace('Y', 1)\n",
    "# change nan to 0\n",
    "agr_demo['DUI'] = agr_demo['DUI'].fillna(0)\n",
    "\n",
    "# how many null values in 'DUI' column\n",
    "print(agr_demo['DUI'].isnull().sum())\n",
    "# expressed as a percentage with nice formatting\n",
    "print('{:.2%}'.format(agr_demo['DUI'].isnull().sum()/len(agr_demo)))"
   ]
  },
  {
   "cell_type": "code",
   "execution_count": 86,
   "metadata": {},
   "outputs": [
    {
     "name": "stdout",
     "output_type": "stream",
     "text": [
      "22304\n",
      "99.97%\n",
      "0\n",
      "0.00%\n"
     ]
    }
   ],
   "source": [
    "# drop 'SEX OFFENDER DATE'\n",
    "agr_demo = agr_demo.drop(['SEX OFFENDER DATE'], axis=1)\n",
    "\n",
    "# SEX OFFENDER\n",
    "# boolean.\n",
    "\n",
    "print(agr_demo['SEX OFFENDER'].isnull().sum())\n",
    "print('{:.2%}'.format(agr_demo['SEX OFFENDER'].isnull().sum()/len(agr_demo)))\n",
    "\n",
    "agr_demo['SEX OFFENDER'] = agr_demo['SEX OFFENDER'].replace('Y', 1)\n",
    "agr_demo['SEX OFFENDER'] = agr_demo['SEX OFFENDER'].fillna(0)\n",
    "\n",
    "print(agr_demo['SEX OFFENDER'].isnull().sum())\n",
    "print('{:.2%}'.format(agr_demo['SEX OFFENDER'].isnull().sum()/len(agr_demo)))\n"
   ]
  },
  {
   "cell_type": "code",
   "execution_count": 87,
   "metadata": {},
   "outputs": [
    {
     "name": "stdout",
     "output_type": "stream",
     "text": [
      "source_id                     0.0\n",
      "VACANT                        0.0\n",
      "NO STAT                       0.0\n",
      "RESIDENTIAL                   0.0\n",
      "DEMO_VETERAN PRESENT IN HH    0.0\n",
      "                             ... \n",
      "OWNER STATUS TYPE_P           0.0\n",
      "OWNER STATUS TYPE_T           0.0\n",
      "PROPERTY TYPE DESC_A          0.0\n",
      "PROPERTY TYPE DESC_C          0.0\n",
      "PROPERTY TYPE DESC_R          0.0\n",
      "Length: 66, dtype: float64\n"
     ]
    }
   ],
   "source": [
    "print(agr_demo.isnull().sum() / len(agr_demo))"
   ]
  },
  {
   "cell_type": "code",
   "execution_count": 88,
   "metadata": {},
   "outputs": [],
   "source": [
    "# drop 'is_suicide'\n",
    "agr_demo = agr_demo.drop(columns='is_suicide')"
   ]
  },
  {
   "cell_type": "code",
   "execution_count": 89,
   "metadata": {},
   "outputs": [],
   "source": [
    "# write the cleaned data to a csv file\n",
    "agr_demo.to_csv('data/out/agr_demo_cleaned_v1.csv', index=False)"
   ]
  }
 ],
 "metadata": {
  "kernelspec": {
   "display_name": "Python 3",
   "language": "python",
   "name": "python3"
  },
  "language_info": {
   "codemirror_mode": {
    "name": "ipython",
    "version": 3
   },
   "file_extension": ".py",
   "mimetype": "text/x-python",
   "name": "python",
   "nbconvert_exporter": "python",
   "pygments_lexer": "ipython3",
   "version": "3.8.10"
  },
  "orig_nbformat": 4,
  "vscode": {
   "interpreter": {
    "hash": "e1ebc6ce21e20a44ca2e939d468f8c4914f49f277b8be916293753b9e7a9feef"
   }
  }
 },
 "nbformat": 4,
 "nbformat_minor": 2
}
