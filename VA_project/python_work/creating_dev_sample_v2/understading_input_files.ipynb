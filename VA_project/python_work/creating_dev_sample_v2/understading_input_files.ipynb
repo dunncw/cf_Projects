{
 "cells": [
  {
   "cell_type": "code",
   "execution_count": 3,
   "metadata": {},
   "outputs": [],
   "source": [
    "import pandas as pd\n",
    "import numpy as np\n",
    "\n",
    "# Read the data\n",
    "acxiom_demo = pd.read_csv('data/cf_acxiomAppend_va2_10_14_2022.csv')\n",
    "PII_hearttable = pd.read_csv('data/dev_sample_HeartTable_10_17_2022.csv')\n"
   ]
  },
  {
   "cell_type": "code",
   "execution_count": 6,
   "metadata": {},
   "outputs": [],
   "source": [
    "# need to add a class flag to the PII_hearttable\n",
    "\n",
    "# using regex count the number of times the substring \"agr\" appears in the column 'source_id'\n",
    "# PII_hearttable['source_id'].str.count('agr').sum()\n",
    "\n",
    "# if the coulumn 'source_id' contains the substring \"agr\" then the class is 1 else 2\n",
    "PII_hearttable['class'] = np.where(PII_hearttable['source_id'].str.contains('agr'), 2, 1)"
   ]
  },
  {
   "attachments": {},
   "cell_type": "markdown",
   "metadata": {},
   "source": [
    "# Acxiom demo data"
   ]
  },
  {
   "cell_type": "code",
   "execution_count": 8,
   "metadata": {},
   "outputs": [
    {
     "name": "stdout",
     "output_type": "stream",
     "text": [
      "<class 'pandas.core.frame.DataFrame'>\n",
      "RangeIndex: 22310 entries, 0 to 22309\n",
      "Data columns (total 35 columns):\n",
      " #   Column        Non-Null Count  Dtype  \n",
      "---  ------        --------------  -----  \n",
      " 0   PK            22310 non-null  int64  \n",
      " 1   source_id     22310 non-null  object \n",
      " 2   FIRST_NAME    22310 non-null  object \n",
      " 3   LAST_NAME     22309 non-null  object \n",
      " 4   MASTER_DOB    22310 non-null  object \n",
      " 5   ADDRESS       22257 non-null  object \n",
      " 6   CITY          22211 non-null  object \n",
      " 7   STATE         22284 non-null  object \n",
      " 8   ZIP           20230 non-null  object \n",
      " 9   IBE8637       9661 non-null   object \n",
      " 10  IBE8652       16673 non-null  float64\n",
      " 11  IBE2351       2164 non-null   float64\n",
      " 12  IBE8692       2473 non-null   object \n",
      " 13  IBE8680       1070 non-null   object \n",
      " 14  IBE7609_02    21055 non-null  object \n",
      " 15  IBE7609_01    21055 non-null  object \n",
      " 16  IBE7622_01    21055 non-null  object \n",
      " 17  IBE7622_02    21055 non-null  object \n",
      " 18  IBE7650_01    21055 non-null  float64\n",
      " 19  IBE7650_02    21055 non-null  object \n",
      " 20  IBE6423       333 non-null    float64\n",
      " 21  IBE6518       43 non-null     float64\n",
      " 22  IBE9351       17348 non-null  float64\n",
      " 23  IBE9350       17348 non-null  float64\n",
      " 24  IBE1273_01    21252 non-null  float64\n",
      " 25  IBE1273_02    21252 non-null  object \n",
      " 26  miACS_12_003  21252 non-null  float64\n",
      " 27  miACS_12_004  21252 non-null  float64\n",
      " 28  miACS_11_046  21252 non-null  float64\n",
      " 29  miACS_19_048  21252 non-null  float64\n",
      " 30  IBE7606_01    20999 non-null  object \n",
      " 31  SUP1016       3704 non-null   object \n",
      " 32  miACS_00_001  21252 non-null  float64\n",
      " 33  IBE7606_02    20999 non-null  object \n",
      " 34  AP006203      17201 non-null  float64\n",
      "dtypes: float64(14), int64(1), object(20)\n",
      "memory usage: 6.0+ MB\n"
     ]
    }
   ],
   "source": [
    "\n",
    "acxiom_demo.info()"
   ]
  },
  {
   "cell_type": "code",
   "execution_count": null,
   "metadata": {},
   "outputs": [],
   "source": [
    "\n"
   ]
  }
 ],
 "metadata": {
  "kernelspec": {
   "display_name": "Python 3",
   "language": "python",
   "name": "python3"
  },
  "language_info": {
   "codemirror_mode": {
    "name": "ipython",
    "version": 3
   },
   "file_extension": ".py",
   "mimetype": "text/x-python",
   "name": "python",
   "nbconvert_exporter": "python",
   "pygments_lexer": "ipython3",
   "version": "3.8.10"
  },
  "orig_nbformat": 4,
  "vscode": {
   "interpreter": {
    "hash": "e1ebc6ce21e20a44ca2e939d468f8c4914f49f277b8be916293753b9e7a9feef"
   }
  }
 },
 "nbformat": 4,
 "nbformat_minor": 2
}
