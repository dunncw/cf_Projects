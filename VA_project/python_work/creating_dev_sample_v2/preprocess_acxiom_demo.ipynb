{
 "cells": [
  {
   "cell_type": "code",
   "execution_count": 24,
   "metadata": {},
   "outputs": [
    {
     "name": "stderr",
     "output_type": "stream",
     "text": [
      "C:\\Users\\cayde\\AppData\\Local\\Temp\\ipykernel_16336\\1825738127.py:7: DtypeWarning: Columns (12,66) have mixed types. Specify dtype option on import or set low_memory=False.\n",
      "  agr_demo = pd.read_csv('data/cf_agrAppend_va2_10_14_2022.csv')\n"
     ]
    }
   ],
   "source": [
    "import pandas as pd\n",
    "import numpy as np\n",
    "\n",
    "# Read the data\n",
    "acxiom_demo = pd.read_csv('data/cf_acxiomAppend_va2_10_14_2022.csv')\n",
    "PII_hearttable = pd.read_csv('data/dev_sample_HeartTable_10_17_2022.csv')\n",
    "agr_demo = pd.read_csv('data/cf_agrAppend_va2_10_14_2022.csv')"
   ]
  },
  {
   "attachments": {},
   "cell_type": "markdown",
   "metadata": {},
   "source": [
    "# PII heatrable data and handling class labels\n",
    "overview\n",
    "- the modeling version of this dataset will have all nonpredictive pii elements dropped like name dob things of the sort\n",
    "- we will be augmenting the class labels so that we only have 1 class label of suicide populations 1 yes 0 no. We will do this because there is 100% correlation between suicide populations and living population(you cant be alive if you killed yourself) so 1 label lets you know the other label.\n"
   ]
  },
  {
   "cell_type": "code",
   "execution_count": 25,
   "metadata": {},
   "outputs": [],
   "source": [
    "\n",
    "# need to add a class flag to the PII_hearttable\n",
    "\n",
    "# using regex count the number of times the substring \"agr\" appears in the column 'source_id'\n",
    "# PII_hearttable['source_id'].str.count('agr').sum()\n",
    "\n",
    "# if the coulumn 'source_id' contains the substring \"agr\" then the class is 1 else 2\n",
    "PII_hearttable['is_suicide'] = np.where(PII_hearttable['source_id'].str.contains('agr'), 0, 1)"
   ]
  },
  {
   "cell_type": "code",
   "execution_count": 26,
   "metadata": {},
   "outputs": [],
   "source": [
    "# need to drop all non predictive pii info as it wont help the model.\n",
    "# only keep columns 'source_id' and 'is_suicide' from dataset pii_hearttable\n",
    "PII_hearttable = PII_hearttable[['source_id', 'is_suicide']]\n"
   ]
  },
  {
   "cell_type": "code",
   "execution_count": 27,
   "metadata": {},
   "outputs": [
    {
     "data": {
      "text/html": [
       "<div>\n",
       "<style scoped>\n",
       "    .dataframe tbody tr th:only-of-type {\n",
       "        vertical-align: middle;\n",
       "    }\n",
       "\n",
       "    .dataframe tbody tr th {\n",
       "        vertical-align: top;\n",
       "    }\n",
       "\n",
       "    .dataframe thead th {\n",
       "        text-align: right;\n",
       "    }\n",
       "</style>\n",
       "<table border=\"1\" class=\"dataframe\">\n",
       "  <thead>\n",
       "    <tr style=\"text-align: right;\">\n",
       "      <th></th>\n",
       "      <th>PK</th>\n",
       "      <th>source_id</th>\n",
       "      <th>FIRST_NAME</th>\n",
       "      <th>LAST_NAME</th>\n",
       "      <th>MASTER_DOB</th>\n",
       "      <th>ADDRESS</th>\n",
       "      <th>CITY</th>\n",
       "      <th>STATE</th>\n",
       "      <th>ZIP</th>\n",
       "      <th>IBE8637</th>\n",
       "      <th>...</th>\n",
       "      <th>IBE1273_02</th>\n",
       "      <th>miACS_12_003</th>\n",
       "      <th>miACS_12_004</th>\n",
       "      <th>miACS_11_046</th>\n",
       "      <th>miACS_19_048</th>\n",
       "      <th>IBE7606_01</th>\n",
       "      <th>SUP1016</th>\n",
       "      <th>miACS_00_001</th>\n",
       "      <th>IBE7606_02</th>\n",
       "      <th>AP006203</th>\n",
       "    </tr>\n",
       "  </thead>\n",
       "  <tbody>\n",
       "    <tr>\n",
       "      <th>19481</th>\n",
       "      <td>19481</td>\n",
       "      <td>4407_(medical_source)index_2310</td>\n",
       "      <td>HOWARD</td>\n",
       "      <td>MEEKS</td>\n",
       "      <td>3/7/44</td>\n",
       "      <td>2929 N 101ST ST W</td>\n",
       "      <td>MUSKOGEE</td>\n",
       "      <td>OK</td>\n",
       "      <td>74401-7225</td>\n",
       "      <td>5</td>\n",
       "      <td>...</td>\n",
       "      <td>E</td>\n",
       "      <td>45.0</td>\n",
       "      <td>4.0</td>\n",
       "      <td>3.43</td>\n",
       "      <td>599.0</td>\n",
       "      <td>O</td>\n",
       "      <td>NaN</td>\n",
       "      <td>2681.0</td>\n",
       "      <td>3</td>\n",
       "      <td>12.0</td>\n",
       "    </tr>\n",
       "    <tr>\n",
       "      <th>19482</th>\n",
       "      <td>19482</td>\n",
       "      <td>4408_(medical_source)index_6634</td>\n",
       "      <td>HOWARD</td>\n",
       "      <td>MEEKS</td>\n",
       "      <td>3/7/44</td>\n",
       "      <td>2929 N 101ST ST W</td>\n",
       "      <td>MUSKOGEE</td>\n",
       "      <td>OK</td>\n",
       "      <td>74401-7225</td>\n",
       "      <td>5</td>\n",
       "      <td>...</td>\n",
       "      <td>E</td>\n",
       "      <td>45.0</td>\n",
       "      <td>4.0</td>\n",
       "      <td>3.43</td>\n",
       "      <td>599.0</td>\n",
       "      <td>O</td>\n",
       "      <td>NaN</td>\n",
       "      <td>2681.0</td>\n",
       "      <td>3</td>\n",
       "      <td>12.0</td>\n",
       "    </tr>\n",
       "    <tr>\n",
       "      <th>21394</th>\n",
       "      <td>21394</td>\n",
       "      <td>4407_(medical_source)index_2310</td>\n",
       "      <td>HOWARD</td>\n",
       "      <td>MEEKS</td>\n",
       "      <td>8/16/63</td>\n",
       "      <td>2929 N 101ST ST W</td>\n",
       "      <td>MUSKOGEE</td>\n",
       "      <td>OK</td>\n",
       "      <td>74401-7225</td>\n",
       "      <td>5</td>\n",
       "      <td>...</td>\n",
       "      <td>E</td>\n",
       "      <td>45.0</td>\n",
       "      <td>4.0</td>\n",
       "      <td>3.43</td>\n",
       "      <td>599.0</td>\n",
       "      <td>O</td>\n",
       "      <td>NaN</td>\n",
       "      <td>2681.0</td>\n",
       "      <td>3</td>\n",
       "      <td>12.0</td>\n",
       "    </tr>\n",
       "    <tr>\n",
       "      <th>21395</th>\n",
       "      <td>21395</td>\n",
       "      <td>4408_(medical_source)index_6634</td>\n",
       "      <td>HOWARD</td>\n",
       "      <td>MEEKS</td>\n",
       "      <td>8/16/63</td>\n",
       "      <td>2929 N 101ST ST W</td>\n",
       "      <td>MUSKOGEE</td>\n",
       "      <td>OK</td>\n",
       "      <td>74401-7225</td>\n",
       "      <td>5</td>\n",
       "      <td>...</td>\n",
       "      <td>E</td>\n",
       "      <td>45.0</td>\n",
       "      <td>4.0</td>\n",
       "      <td>3.43</td>\n",
       "      <td>599.0</td>\n",
       "      <td>O</td>\n",
       "      <td>NaN</td>\n",
       "      <td>2681.0</td>\n",
       "      <td>3</td>\n",
       "      <td>12.0</td>\n",
       "    </tr>\n",
       "  </tbody>\n",
       "</table>\n",
       "<p>4 rows × 35 columns</p>\n",
       "</div>"
      ],
      "text/plain": [
       "          PK                        source_id FIRST_NAME LAST_NAME MASTER_DOB  \\\n",
       "19481  19481  4407_(medical_source)index_2310     HOWARD     MEEKS     3/7/44   \n",
       "19482  19482  4408_(medical_source)index_6634     HOWARD     MEEKS     3/7/44   \n",
       "21394  21394  4407_(medical_source)index_2310     HOWARD     MEEKS    8/16/63   \n",
       "21395  21395  4408_(medical_source)index_6634     HOWARD     MEEKS    8/16/63   \n",
       "\n",
       "                 ADDRESS      CITY STATE         ZIP IBE8637  ...  IBE1273_02  \\\n",
       "19481  2929 N 101ST ST W  MUSKOGEE    OK  74401-7225       5  ...           E   \n",
       "19482  2929 N 101ST ST W  MUSKOGEE    OK  74401-7225       5  ...           E   \n",
       "21394  2929 N 101ST ST W  MUSKOGEE    OK  74401-7225       5  ...           E   \n",
       "21395  2929 N 101ST ST W  MUSKOGEE    OK  74401-7225       5  ...           E   \n",
       "\n",
       "       miACS_12_003 miACS_12_004 miACS_11_046 miACS_19_048 IBE7606_01 SUP1016  \\\n",
       "19481          45.0          4.0         3.43        599.0          O     NaN   \n",
       "19482          45.0          4.0         3.43        599.0          O     NaN   \n",
       "21394          45.0          4.0         3.43        599.0          O     NaN   \n",
       "21395          45.0          4.0         3.43        599.0          O     NaN   \n",
       "\n",
       "      miACS_00_001  IBE7606_02 AP006203  \n",
       "19481       2681.0           3     12.0  \n",
       "19482       2681.0           3     12.0  \n",
       "21394       2681.0           3     12.0  \n",
       "21395       2681.0           3     12.0  \n",
       "\n",
       "[4 rows x 35 columns]"
      ]
     },
     "execution_count": 27,
     "metadata": {},
     "output_type": "execute_result"
    }
   ],
   "source": [
    "# there are 2 rows '6080_(medical_source)index_4232', and '6990_(medical_source)index_4966' that do not have a class label\n",
    "# grab all the rows with duplicate indexs in dataframe acxiom demo\n",
    "acxiom_demo[acxiom_demo.duplicated(subset=['source_id'], keep=False)]"
   ]
  },
  {
   "attachments": {},
   "cell_type": "markdown",
   "metadata": {},
   "source": [
    "# Acxiom demo data\n",
    "overview\n",
    "- drop all non predictive pii data\n",
    "- try to backfill every row with missing data\n",
    "\n",
    "\n"
   ]
  },
  {
   "cell_type": "code",
   "execution_count": 28,
   "metadata": {},
   "outputs": [],
   "source": [
    "# adding label to each dataset so we can look at correlation between predictors and label\n",
    "\n",
    "# join the tables is_suicide_df and acxiom_demo on the column 'source_id'\n",
    "acxiom_demo = pd.merge(acxiom_demo, PII_hearttable, on='source_id')"
   ]
  },
  {
   "cell_type": "code",
   "execution_count": 29,
   "metadata": {},
   "outputs": [],
   "source": [
    "# drop the columns 'PK', 'FIRST_NAME', 'LAST_NAME', 'MASTER_DOB', 'ADDRESS', 'CITY', 'STATE', 'ZIP'\n",
    "acxiom_demo = acxiom_demo.drop(['PK', 'FIRST_NAME', 'LAST_NAME', 'MASTER_DOB', 'ADDRESS', 'CITY', 'STATE', 'ZIP'], axis=1)"
   ]
  },
  {
   "cell_type": "code",
   "execution_count": 30,
   "metadata": {},
   "outputs": [],
   "source": [
    "# here we will rename ever column with a better description of the contents of it for faster interpritability. \n",
    "# create a dictionary\n",
    "dict = {\n",
    "    'Occupation - Person': 'IBE8637',\n",
    "    'Generations in Household': 'IBE8652',\n",
    "    'Single Parent': 'IBE2351',\n",
    "    'Senior Adult in Household': 'IBE8692',\n",
    "    'Young Adult in Household': 'IBE8680',\n",
    "    'Marital Status in the Household - 100%': 'IBE7609_01',\n",
    "    'Presence of Children - 100%': 'IBE7622_01',\n",
    "    'Education - 1st Person in Household - 100%': 'IBE7650_01',\n",
    "    'Guns and Ammunition': 'IBE6423',\n",
    "    'Hunting': 'IBE6518',\n",
    "    'Underbanked': 'IBE9351',\n",
    "    'Economic Stability Indicator': 'IBE9350',\n",
    "    'Population Density': 'IBE1273_01',\n",
    "    'Population 15+ - % Separated or Divorced': 'miACS_12_003',\n",
    "    'Population 15+ - % Widowed': 'miACS_12_004',\n",
    "    'Families - Average Size': 'miACS_11_046',\n",
    "    'Family - Average Income (in hundreds of $US)': 'miACS_19_048',\n",
    "    'Home Owner / Renter - 100%': 'IBE7606_01',\n",
    "    'Suppression - Deceased, Bankruptcy, TLJ - Highest': 'SUP1016',\n",
    "    'Number of People (Total Population)': 'miACS_00_001',\n",
    "    'Power Video Gamer': 'AP006203'\n",
    "}\n",
    "\n",
    "# create another dictionary with key and value swapped\n",
    "dict2 = {v: k for k, v in dict.items()}\n",
    "\n",
    "# go through the dataframe and replace the column names with the new column names\n",
    "for col in acxiom_demo.columns:\n",
    "    if col in dict2:\n",
    "        acxiom_demo = acxiom_demo.rename(columns={col: dict2[col]})\n"
   ]
  },
  {
   "cell_type": "code",
   "execution_count": 31,
   "metadata": {},
   "outputs": [],
   "source": [
    "# there are several attributes that are precsion levels of other attributes. they can be identified by the substring '_02' in the column name. i will be dropping these columns.\n",
    "acxiom_demo = acxiom_demo.loc[:, ~acxiom_demo.columns.str.contains('_02')]"
   ]
  },
  {
   "attachments": {},
   "cell_type": "markdown",
   "metadata": {},
   "source": [
    "# handling missing data attribute by attribute \n",
    "columns i need to come back to \n",
    "- occupation\n"
   ]
  },
  {
   "cell_type": "code",
   "execution_count": 32,
   "metadata": {},
   "outputs": [
    {
     "name": "stdout",
     "output_type": "stream",
     "text": [
      "source_id                                            0.000000\n",
      "Occupation - Person                                  0.566965\n",
      "Generations in Household                             0.252667\n",
      "Single Parent                                        0.903003\n",
      "Senior Adult in Household                            0.889153\n",
      "Young Adult in Household                             0.952039\n",
      "Marital Status in the Household - 100%               0.056253\n",
      "Presence of Children - 100%                          0.056253\n",
      "Education - 1st Person in Household - 100%           0.056253\n",
      "Guns and Ammunition                                  0.985074\n",
      "Hunting                                              0.998073\n",
      "Underbanked                                          0.222411\n",
      "Economic Stability Indicator                         0.222411\n",
      "Population Density                                   0.047423\n",
      "Population 15+ - % Separated or Divorced             0.047423\n",
      "Population 15+ - % Widowed                           0.047423\n",
      "Families - Average Size                              0.047423\n",
      "Family - Average Income (in hundreds of $US)         0.047423\n",
      "Home Owner / Renter - 100%                           0.058763\n",
      "Suppression - Deceased, Bankruptcy, TLJ - Highest    0.833976\n",
      "Number of People (Total Population)                  0.047423\n",
      "Power Video Gamer                                    0.229000\n",
      "is_suicide                                           0.000000\n",
      "dtype: float64\n"
     ]
    }
   ],
   "source": [
    "# in this code block i will be trying to impute the missing values in the dataset attribute by attribute.\n",
    "# get the percentage of missing values in each column\n",
    "print(acxiom_demo.isnull().sum() / len(acxiom_demo))"
   ]
  },
  {
   "cell_type": "code",
   "execution_count": 33,
   "metadata": {},
   "outputs": [],
   "source": [
    "# Occupation - Person\n",
    "# Occupation - Person is categorical and will need to be 1 hot encoded at the end. \n",
    "# in terms of imputation there could be some combination of other datapoints to backfill this column. \n",
    "# for instance from agr data we could use estimated income credit rating to backfill this column.\n",
    "\n",
    "# 1 hot encode the column Occupation - Person\n",
    "acxiom_demo = pd.get_dummies(acxiom_demo, columns=['Occupation - Person'])"
   ]
  },
  {
   "cell_type": "code",
   "execution_count": 34,
   "metadata": {},
   "outputs": [
    {
     "name": "stdout",
     "output_type": "stream",
     "text": [
      "Generations in Household is numerical and does not need to be standardized.\n",
      "\n",
      "missing values in Generations in Household:  5637\n",
      "percent missing values in Generations in Household:  25.27%\n"
     ]
    }
   ],
   "source": [
    "# Generations in Household\n",
    "# Generations in Household is numerical and does not need to be standardized. \n",
    "# there is a sub-project here to impute the missing values in this column. use generations in household as output and see if other columns can be used as input to predict the missing values.\n",
    "# for now lets try 1 hot encoding the column Generations in Household and see if it helps the model.\n",
    "\n",
    "# print Generations in Household is numerical and does not need to be standardized.\n",
    "print(\"Generations in Household is numerical and does not need to be standardized.\\n\")\n",
    "\n",
    "# how many missing values are there in the column Generations in Household\n",
    "print(\"missing values in Generations in Household: \", acxiom_demo['Generations in Household'].isnull().sum())\n",
    "# in precentage with nice formatting\n",
    "print(\"percent missing values in Generations in Household: \", f\"{acxiom_demo['Generations in Household'].isnull().sum() / len(acxiom_demo):.2%}\")\n",
    "\n",
    "# 1 hot encode the column Generations in Household\n",
    "acxiom_demo = pd.get_dummies(acxiom_demo, columns=['Generations in Household'])\n",
    "\n",
    "# import scikit learn libraries for the task of classification \n",
    "\n"
   ]
  },
  {
   "cell_type": "code",
   "execution_count": 35,
   "metadata": {},
   "outputs": [
    {
     "name": "stdout",
     "output_type": "stream",
     "text": [
      "nan's: 90.3%\n",
      "nan's: 0.0%\n"
     ]
    }
   ],
   "source": [
    "# single parent\n",
    "# boolean Indicates that a single parent exists in the household. filled all nans with 0\n",
    "\n",
    "# how many missing values in 'single parent'\n",
    "acxiom_demo['Single Parent'].isnull().sum()\n",
    "# print with percentage and nice formating \"nan's: 0.0%\"\n",
    "print('nan\\'s: {:.1%}'.format(acxiom_demo['Single Parent'].isnull().sum()/len(acxiom_demo)))\n",
    "\n",
    "# make it so there are no nan's in dataframe replace them with 0's\n",
    "acxiom_demo['Single Parent'] = acxiom_demo['Single Parent'].fillna(0)\n",
    "\n",
    "# how many missing values in 'single parent'\n",
    "acxiom_demo['Single Parent'].isnull().sum()\n",
    "# print with percentage and nice formating \"nan's: 0.0%\"\n",
    "print('nan\\'s: {:.1%}'.format(acxiom_demo['Single Parent'].isnull().sum()/len(acxiom_demo)))"
   ]
  },
  {
   "cell_type": "code",
   "execution_count": 36,
   "metadata": {},
   "outputs": [
    {
     "name": "stdout",
     "output_type": "stream",
     "text": [
      "nan's: 88.9%\n",
      "nan's: 0.0%\n"
     ]
    }
   ],
   "source": [
    "# 'Senior Adult in Household'\n",
    "# description: If in the household there is a person over age 55 and a person over age 25, and there is at least 18 years difference between them, then turn on ‘Senior in Household’.\n",
    "# boolean Indicates that a senior adult exists in the household. filled all nans with 0\n",
    "\n",
    "# how many missing values in 'Senior Adult in Household'\n",
    "acxiom_demo['Senior Adult in Household'].isnull().sum()\n",
    "# print with percentage and nice formating \"nan's: 0.0%\"\n",
    "print('nan\\'s: {:.1%}'.format(acxiom_demo['Senior Adult in Household'].isnull().sum()/len(acxiom_demo)))\n",
    "\n",
    "# make it so there are no nan's in dataframe replace them with 0's\n",
    "acxiom_demo['Senior Adult in Household'] = acxiom_demo['Senior Adult in Household'].fillna(0)\n",
    "\n",
    "# how many missing values in 'Senior Adult in Household'\n",
    "acxiom_demo['Senior Adult in Household'].isnull().sum()\n",
    "# print with percentage and nice formating \"nan's: 0.0%\"\n",
    "print('nan\\'s: {:.1%}'.format(acxiom_demo['Senior Adult in Household'].isnull().sum()/len(acxiom_demo)))\n",
    "\n",
    "# change the 'Y' to 1 and 'N' to 0\n",
    "acxiom_demo['Senior Adult in Household'] = acxiom_demo['Senior Adult in Household'].replace({'Y': 1, 'N': 0})\n",
    "\n"
   ]
  },
  {
   "cell_type": "code",
   "execution_count": 37,
   "metadata": {},
   "outputs": [
    {
     "name": "stdout",
     "output_type": "stream",
     "text": [
      "nan's: 95.2%\n",
      "nan's: 0.0%\n"
     ]
    }
   ],
   "source": [
    "# 'Young Adult in Household'\n",
    "# description: Indicates that there is a young adult in the household where another adult is identified as the 1st individual. (Young adult is ages 18 to 25.)\n",
    "# boolean Indicates that a young adult exists in the household. filled all nans with 0\n",
    "\n",
    "# how many missing values in 'Young Adult in Household'\n",
    "acxiom_demo['Young Adult in Household'].isnull().sum()\n",
    "# print with percentage and nice formating \"nan's: 0.0%\"\n",
    "print('nan\\'s: {:.1%}'.format(acxiom_demo['Young Adult in Household'].isnull().sum()/len(acxiom_demo)))\n",
    "\n",
    "# make it so there are no nan's in dataframe replace them with 0's\n",
    "acxiom_demo['Young Adult in Household'] = acxiom_demo['Young Adult in Household'].fillna(0)\n",
    "\n",
    "# how many missing values in 'Young Adult in Household'\n",
    "acxiom_demo['Young Adult in Household'].isnull().sum()\n",
    "# print with percentage and nice formating \"nan's: 0.0%\"\n",
    "print('nan\\'s: {:.1%}'.format(acxiom_demo['Young Adult in Household'].isnull().sum()/len(acxiom_demo)))\n",
    "\n",
    "# change the 'Y' to 1 and 'N' to 0\n",
    "acxiom_demo['Young Adult in Household'] = acxiom_demo['Young Adult in Household'].replace({'Y': 1, 'N': 0})"
   ]
  },
  {
   "cell_type": "code",
   "execution_count": 38,
   "metadata": {},
   "outputs": [
    {
     "name": "stdout",
     "output_type": "stream",
     "text": [
      "nan's: 5.6%\n"
     ]
    }
   ],
   "source": [
    "# 'Marital Status in the Household - 100%'\n",
    "# description: Indicates whether anyone in the household is married.  This element includes 1) 9609 Marital Status in the Household, 2) business rule inferences that create Inferred Married and Inferred Single, 3) inferred/modeled data that fills in missing data by inferring marital status coverage up to the household level match rate of the file being appended, and 4) a mode calculation of the ZIP+4 and ZIP.\n",
    "    # 1) For the 8609 Marital Status portion, it is fed by consumer self-reported marital data.\n",
    "    # 2) Inferred Married and Inferred Single, values A and B, are inferred based on business rules.Inferred Married - When the marital status of Married or Single cannot be determined from a source and there are 2 names in the household with gender of Male and Female, within a certain age range of each other, then marital status is set to A \"Inferred Married\".  Inferred Single - When the marital status of Married or Single cannot be determined from a source and there is only one name in the household, then the marital status is set to B \"Inferred Single\".\n",
    "    # 3) Inferred/Modeled data is used to fill in married and single values up to the household match rate.\n",
    "    # 4) Mode calculations of married and single at the ZIP+4 and ZIP levels are used to fill in married and single values to increase coverage up to 100%.\n",
    "# categorical variable with 5 categories. need to 1 hot encode\n",
    "\n",
    "# how many missing values in 'Marital Status in the Household - 100%'\n",
    "acxiom_demo['Marital Status in the Household - 100%'].isnull().sum()\n",
    "# print with percentage and nice formating \"nan's: 0.0%\"\n",
    "print('nan\\'s: {:.1%}'.format(acxiom_demo['Marital Status in the Household - 100%'].isnull().sum()/len(acxiom_demo)))\n",
    "\n",
    "# one hot encode the 'Marital Status in the Household - 100%' column\n",
    "acxiom_demo = pd.get_dummies(acxiom_demo, columns=['Marital Status in the Household - 100%'])"
   ]
  },
  {
   "cell_type": "code",
   "execution_count": 39,
   "metadata": {},
   "outputs": [
    {
     "name": "stdout",
     "output_type": "stream",
     "text": [
      "nan's: 5.6%\n"
     ]
    }
   ],
   "source": [
    "# 'Presence of Children - 100%'\n",
    "# description: Indicates the presence of children in the household. Includes inferred data added to No Children Present to extend the coverage to the household level and includes the mode of the ZIP9 and ZIP to extend the coverage to 100%.\n",
    "    # This element includes 2 fields, 7622_01 which indicates the presence of children, and 7622_02 which is the precision indicating the level of data that was appended.\n",
    "    # This 7622 Presence of Children includes a calculated mode of Presence of Children from the ZIP9 and ZIP which brings the coverage up to 100%.  The basis of this element is 9622 Presence of Children.  Calculating the mode of the ZIP9 and ZIP can add data to both Yes Children Present and No Children Present values.\n",
    "    # NOTE: The children's names are not provided by the sources.  The logic gathers the children's ages from across all the sources into a table to net the data to only the children's ages that exist in a household.  Proprietary logic calculates the netting.  The resulting ages are then populated into the children's age elements, then counted to populate the number of children element and the presence of children element.  Sources that provide an actual Presence of Children also contribute.\n",
    "    # NOTE: Household level Children's age less than age 16 and gender data in the state of California will have reduced coverage due to the California Consumer Privacy Act (CCPA) regulations.\n",
    "# categorical variable with 2 categories. need to 1 hot encode\n",
    "\n",
    "# how many missing values in 'Presence of Children - 100%'\n",
    "acxiom_demo['Presence of Children - 100%'].isnull().sum()\n",
    "# print with percentage and nice formating \"nan's: 0.0%\"\n",
    "print('nan\\'s: {:.1%}'.format(acxiom_demo['Presence of Children - 100%'].isnull().sum()/len(acxiom_demo)))\n",
    "\n",
    "# one hot encode the 'Presence of Children - 100%' column\n",
    "acxiom_demo = pd.get_dummies(acxiom_demo, columns=['Presence of Children - 100%'])"
   ]
  },
  {
   "cell_type": "code",
   "execution_count": 40,
   "metadata": {},
   "outputs": [
    {
     "name": "stdout",
     "output_type": "stream",
     "text": [
      "nan's: 5.6%\n",
      "1.0    13588\n",
      "2.0     4813\n",
      "3.0     2528\n",
      "4.0      126\n",
      "Name: Education - 1st Person in Household - 100%, dtype: int64\n"
     ]
    }
   ],
   "source": [
    "# 'Education - 1st Person in Household - 100%'\n",
    "# description: Indicates the highest known education of the 1st ranked person in the household.  The ranking is based on a series of InfoBase ranking rules.  This element is based on 9650 Education-1st Person in the Household PLUS. It includes inferred/modeled data to increase coverage up to the household match rate, and includes the mode calculation of the ZIP+4 and ZIP to increase coverage up to 100%.\n",
    "# numeric attribute. fill in missing values with median value\n",
    "\n",
    "# how many missing values in 'Education - 1st Person in Household - 100%'\n",
    "acxiom_demo['Education - 1st Person in Household - 100%'].isnull().sum()\n",
    "# print with percentage and nice formating \"nan's: 0.0%\"\n",
    "print('nan\\'s: {:.1%}'.format(acxiom_demo['Education - 1st Person in Household - 100%'].isnull().sum()/len(acxiom_demo)))\n",
    "\n",
    "# what does the distribution of the 'Education - 1st Person in Household - 100%' column look like\n",
    "print(acxiom_demo['Education - 1st Person in Household - 100%'].value_counts())\n",
    "\n",
    "# what is the meadian value of the 'Education - 1st Person in Household - 100%' column\n",
    "acxiom_demo['Education - 1st Person in Household - 100%'].median()\n",
    "\n",
    "# fill in the missing values with the median value\n",
    "acxiom_demo['Education - 1st Person in Household - 100%'] = acxiom_demo['Education - 1st Person in Household - 100%'].fillna(acxiom_demo['Education - 1st Person in Household - 100%'].median())\n"
   ]
  },
  {
   "cell_type": "code",
   "execution_count": 41,
   "metadata": {},
   "outputs": [
    {
     "name": "stdout",
     "output_type": "stream",
     "text": [
      "nan's: 98.5%\n"
     ]
    }
   ],
   "source": [
    "# 'Guns and Ammunition'\n",
    "# description: A purchase of Guns and Ammunition has occurred within the last 24 months in the Household. The Buying Activity data has been summarized into a categorical level according to purchase activity. This removes certain point-of-sale information, such as SKUs (stock keeping unit) but allows visibility into types of purchases and buying behaviors within the Household.\n",
    "# boolean variable. fill in missing values with 0\n",
    "\n",
    "# how many missing values in 'Guns and Ammunition'\n",
    "acxiom_demo['Guns and Ammunition'].isnull().sum()\n",
    "# print with percentage and nice formating \"nan's: 0.0%\"\n",
    "print('nan\\'s: {:.1%}'.format(acxiom_demo['Guns and Ammunition'].isnull().sum()/len(acxiom_demo)))\n",
    "\n",
    "# fill in nan's with 0\n",
    "acxiom_demo['Guns and Ammunition'] = acxiom_demo['Guns and Ammunition'].fillna(0)"
   ]
  },
  {
   "cell_type": "code",
   "execution_count": 42,
   "metadata": {},
   "outputs": [
    {
     "name": "stdout",
     "output_type": "stream",
     "text": [
      "nan's: 99.8%\n"
     ]
    }
   ],
   "source": [
    "# 'Hunting'\n",
    "# desc: A purchase of Hunting products in Sports & Leisure has occurred within the last 24 months in the Household. The Buying Activity data has been summarized into a categorical level according to purchase activity. This removes certain point-of-sale information, such as SKUs (stock keeping unit) but allows visibility into types of purchases and buying behaviors within the Household.\n",
    "# boolean variable. fill in missing values with 0\n",
    "\n",
    "# how many missing values in 'Hunting'\n",
    "acxiom_demo['Hunting'].isnull().sum()\n",
    "# print with percentage and nice formating \"nan's: 0.0%\"\n",
    "print('nan\\'s: {:.1%}'.format(acxiom_demo['Hunting'].isnull().sum()/len(acxiom_demo)))\n",
    "\n",
    "# fill in nan's with 0\n",
    "acxiom_demo['Hunting'] = acxiom_demo['Hunting'].fillna(0)\n"
   ]
  },
  {
   "cell_type": "code",
   "execution_count": 43,
   "metadata": {},
   "outputs": [
    {
     "name": "stdout",
     "output_type": "stream",
     "text": [
      "nan's: 22.2%\n",
      "18.0    1062\n",
      "17.0    1031\n",
      "13.0    1004\n",
      "10.0     976\n",
      "12.0     973\n",
      "16.0     953\n",
      "11.0     951\n",
      "15.0     942\n",
      "9.0      921\n",
      "8.0      918\n",
      "19.0     893\n",
      "14.0     890\n",
      "7.0      861\n",
      "5.0      840\n",
      "6.0      800\n",
      "4.0      758\n",
      "3.0      743\n",
      "20.0     737\n",
      "2.0      694\n",
      "1.0      401\n",
      "Name: Underbanked, dtype: int64\n",
      "11.0\n",
      "5    8685\n",
      "3    3821\n",
      "4    3789\n",
      "2    3419\n",
      "1    2596\n",
      "Name: Underbanked, dtype: int64\n",
      "Correlation between Underbanked and is_suicide is:  -0.0061128577134038145\n"
     ]
    }
   ],
   "source": [
    "# 'Underbanked'\n",
    "# desc: The UnderBanked Indicator model is an easy to apply model score that indicates the likelihood a consumer relies primarily on cash transactions and has no formal banking relationships. UnderBanked is built using non-credit data.\n",
    "# numeric attribute. for now i am filling in with the median value. we can take a closer look at this later to use other attributes to predict the missing values for possible better performance\n",
    "\n",
    "# 20 degrees is to high lets lower it to 5 degrees\n",
    "# 1-4 = 1\n",
    "# 5-8 = 2\n",
    "# 9-12 = 3\n",
    "# 13-16 = 4\n",
    "# 17-20 = 5\n",
    "\n",
    "# how many missing values in 'Underbanked'\n",
    "acxiom_demo['Underbanked'].isnull().sum()\n",
    "# print with percentage and nice formating \"nan's: 0.0%\"\n",
    "print('nan\\'s: {:.1%}'.format(acxiom_demo['Underbanked'].isnull().sum()/len(acxiom_demo)))\n",
    "\n",
    "# what does the distribution of the 'Underbanked' column look like\n",
    "print(acxiom_demo['Underbanked'].value_counts())\n",
    "\n",
    "# what is the meadian value of the 'Underbanked' column\n",
    "print(acxiom_demo['Underbanked'].median())\n",
    "\n",
    "acxiom_demo['Underbanked'] = acxiom_demo['Underbanked'].apply(lambda x: 1 if x <= 4 else 2 if x <= 8 else 3 if x <= 12 else 4 if x <= 16 else 5)\n",
    "\n",
    "# what does the distribution of the 'Underbanked' column look like\n",
    "print(acxiom_demo['Underbanked'].value_counts())\n",
    "\n",
    "# fill in the missing values with the median value\n",
    "acxiom_demo['Underbanked'] = acxiom_demo['Underbanked'].fillna(acxiom_demo['Underbanked'].median())\n",
    "\n",
    "# what is the correlation between the 'Underbanked' column and 'is_suicide' column\n",
    "corr = acxiom_demo['Underbanked'].corr(acxiom_demo['is_suicide'])\n",
    "print(\"Correlation between Underbanked and is_suicide is: \", corr)\n"
   ]
  },
  {
   "cell_type": "code",
   "execution_count": 44,
   "metadata": {},
   "outputs": [
    {
     "name": "stdout",
     "output_type": "stream",
     "text": [
      "Correlation between Economic Stability Indicator and is_suicide is:  0.33216026439636565\n",
      "nan's: 22.2%\n",
      "3.0     648\n",
      "7.0     641\n",
      "6.0     641\n",
      "23.0    637\n",
      "4.0     633\n",
      "12.0    630\n",
      "17.0    629\n",
      "8.0     622\n",
      "1.0     620\n",
      "5.0     620\n",
      "9.0     618\n",
      "13.0    614\n",
      "11.0    613\n",
      "16.0    610\n",
      "2.0     610\n",
      "14.0    608\n",
      "20.0    608\n",
      "10.0    599\n",
      "19.0    599\n",
      "21.0    597\n",
      "24.0    592\n",
      "18.0    590\n",
      "15.0    582\n",
      "25.0    573\n",
      "22.0    567\n",
      "26.0    540\n",
      "27.0    514\n",
      "28.0    444\n",
      "29.0    325\n",
      "30.0    224\n",
      "Name: Economic Stability Indicator, dtype: int64\n",
      "14.0\n",
      "5     6766\n",
      "2     1894\n",
      "3     1881\n",
      "1     1878\n",
      "4     1842\n",
      "6     1829\n",
      "7     1804\n",
      "8     1796\n",
      "9     1627\n",
      "10     993\n",
      "Name: Economic Stability Indicator, dtype: int64\n",
      "Correlation between Economic Stability Indicator and is_suicide is:  0.2759571457863021\n"
     ]
    }
   ],
   "source": [
    "# 'Economic Stability Indicator'   \n",
    "# desc: ESI is an easy to apply model score that is able to predict likely ITA (Invitation to Apply) approvals. Marketers can use ESI as a relative measure of likelihood than an ITA responder will go on to meet their credit approval standards. ESI scores may be incorporated into custom models or used as a selection tool for an ITA marketing list. ESI is built using non-credit data.\n",
    "# numeric attribute. for now i am filling in with the median value. we can take a closer look at this later to use other attributes to predict the missing values for possible better performance\n",
    "\n",
    "# what is the correlation between 'Economic Stability Indicator' and 'is_suicide' \n",
    "# what is the correlation between the 'Underbanked' column and 'is_suicide' column\n",
    "corr = acxiom_demo['Economic Stability Indicator'].corr(acxiom_demo['is_suicide'])\n",
    "print(\"Correlation between Economic Stability Indicator and is_suicide is: \", corr)\n",
    "\n",
    "\n",
    "# how many missing values in 'Economic Stability Indicator'\n",
    "acxiom_demo['Economic Stability Indicator'].isnull().sum()\n",
    "# print with percentage and nice formating \"nan's: 0.0%\"\n",
    "print('nan\\'s: {:.1%}'.format(acxiom_demo['Economic Stability Indicator'].isnull().sum()/len(acxiom_demo)))\n",
    "\n",
    "# what does the distribution of the 'Economic Stability Indicator' column look like\n",
    "print(acxiom_demo['Economic Stability Indicator'].value_counts())\n",
    "\n",
    "# what is the meadian value of the 'Economic Stability Indicator' column\n",
    "print(acxiom_demo['Economic Stability Indicator'].median())\n",
    "\n",
    "# # make a histogram of the 'Economic Stability Indicator' column\n",
    "# acxiom_demo['Economic Stability Indicator'].hist()\n",
    "\n",
    "# fill in the missing values with the median value\n",
    "acxiom_demo['Economic Stability Indicator'] = acxiom_demo['Economic Stability Indicator'].fillna(acxiom_demo['Economic Stability Indicator'].median())\n",
    "\n",
    "# 30 degrees is to many lets try 10 instead\n",
    "# 1: (1, 3)\n",
    "# 2: (4, 6)\n",
    "# 3: (7, 9)\n",
    "# 4: (10, 12)\n",
    "# 5: (13, 15)\n",
    "# 6: (16, 18)\n",
    "# 7: (19, 21)\n",
    "# 8: (22, 24)\n",
    "# 9: (25, 27)\n",
    "# 10: (28, 30)\n",
    "\n",
    "# remap the values\n",
    "acxiom_demo['Economic Stability Indicator'] = acxiom_demo['Economic Stability Indicator'].apply(lambda x: 1 if x <= 3 else 2 if x <= 6 else 3 if x <= 9 else 4 if x <= 12 else 5 if x <= 15 else 6 if x <= 18 else 7 if x <= 21 else 8 if x <= 24 else 9 if x <= 27 else 10)\n",
    "\n",
    "# what does the distribution of the 'Economic Stability Indicator' column look like\n",
    "print(acxiom_demo['Economic Stability Indicator'].value_counts())\n",
    "\n",
    "# what is the correlation between 'Economic Stability Indicator' and 'is_suicide' \n",
    "# what is the correlation between the 'Underbanked' column and 'is_suicide' column\n",
    "corr = acxiom_demo['Economic Stability Indicator'].corr(acxiom_demo['is_suicide'])\n",
    "print(\"Correlation between Economic Stability Indicator and is_suicide is: \", corr)\n"
   ]
  },
  {
   "cell_type": "code",
   "execution_count": 45,
   "metadata": {},
   "outputs": [
    {
     "name": "stdout",
     "output_type": "stream",
     "text": [
      "nan's: 4.7%\n",
      "1.0     5009\n",
      "2.0     3413\n",
      "3.0     2510\n",
      "7.0     2360\n",
      "4.0     1986\n",
      "6.0     1950\n",
      "5.0     1934\n",
      "8.0     1548\n",
      "9.0      347\n",
      "10.0     130\n",
      "11.0      62\n",
      "12.0       3\n",
      "Name: Population Density, dtype: int64\n",
      "median: 3.0\n"
     ]
    },
    {
     "data": {
      "text/plain": [
       "<AxesSubplot:>"
      ]
     },
     "execution_count": 45,
     "metadata": {},
     "output_type": "execute_result"
    },
    {
     "data": {
      "image/png": "[encoded data removed]",
      "text/plain": [
       "<Figure size 432x288 with 2 Axes>"
      ]
     },
     "metadata": {
      "needs_background": "light"
     },
     "output_type": "display_data"
    }
   ],
   "source": [
    "# 'Population Density'   \n",
    "# desc: Census-based calculation of estimated households per square mile. Twelve ranges from least dense (01 = Very Rural areas - HHs/sq mile less than 29) to most dense (12 = Very Urban - HHs/sq mile greater than 8,167), with the first/lowest 8 ranges each representing approximately 10% of U.S. households and the remaining/highest 4 ranges each representing approximately 5% of U.S. households. Applied at a block group level, with defaulting to ZIP.\n",
    "# numeric attribute. for now i am filling in with the median value. we can take a closer look at this later to use other attributes to predict the missing values for possible better performance\n",
    "\n",
    "# how many missing values in 'Population Density'\n",
    "acxiom_demo['Population Density'].isnull().sum()\n",
    "# print with percentage and nice formating \"nan's: 0.0%\"\n",
    "print('nan\\'s: {:.1%}'.format(acxiom_demo['Population Density'].isnull().sum()/len(acxiom_demo)))\n",
    "\n",
    "import matplotlib.pyplot as plt\n",
    "fig, axes = plt.subplots(1, 2)\n",
    "\n",
    "# what does the distribution of the 'Population Density' column look like\n",
    "print(acxiom_demo['Population Density'].value_counts())\n",
    "\n",
    "# what is the meadian value of the 'Population Density' column. with nice formating \"median: 4.0\"\n",
    "print('median: {:.1f}'.format(acxiom_demo['Population Density'].median()))\n",
    "\n",
    "# make a copy of the 'Population Density' column\n",
    "copy = acxiom_demo['Population Density'].copy()\n",
    "\n",
    "# make a histogram of the copy\n",
    "copy.hist(ax = axes[0])\n",
    "\n",
    "# fill in the missing values with the median value\n",
    "acxiom_demo['Population Density'] = acxiom_demo['Population Density'].fillna(acxiom_demo['Population Density'].median())\n",
    "\n",
    "# make a second histogram of the 'Population Density' column\n",
    "acxiom_demo['Population Density'].hist(ax = axes[1])\n"
   ]
  },
  {
   "cell_type": "code",
   "execution_count": 46,
   "metadata": {},
   "outputs": [
    {
     "name": "stdout",
     "output_type": "stream",
     "text": [
      "nan's: 4.7%\n",
      "15.0    1331\n",
      "16.0    1281\n",
      "14.0    1227\n",
      "18.0    1219\n",
      "17.0    1192\n",
      "12.0    1153\n",
      "13.0    1108\n",
      "19.0    1077\n",
      "11.0     995\n",
      "22.0     967\n",
      "20.0     919\n",
      "21.0     886\n",
      "10.0     682\n",
      "9.0      677\n",
      "8.0      589\n",
      "23.0     587\n",
      "24.0     561\n",
      "25.0     556\n",
      "26.0     533\n",
      "7.0      413\n",
      "27.0     406\n",
      "28.0     306\n",
      "29.0     294\n",
      "5.0      275\n",
      "30.0     227\n",
      "6.0      223\n",
      "31.0     198\n",
      "32.0     183\n",
      "33.0     174\n",
      "4.0      166\n",
      "34.0     133\n",
      "36.0      96\n",
      "0.0       94\n",
      "35.0      85\n",
      "40.0      65\n",
      "3.0       63\n",
      "38.0      55\n",
      "2.0       53\n",
      "37.0      43\n",
      "39.0      32\n",
      "41.0      23\n",
      "48.0      23\n",
      "45.0      15\n",
      "42.0      15\n",
      "50.0      13\n",
      "1.0        8\n",
      "44.0       7\n",
      "43.0       5\n",
      "51.0       5\n",
      "46.0       5\n",
      "57.0       3\n",
      "56.0       2\n",
      "47.0       2\n",
      "67.0       2\n",
      "Name: Population 15+ - % Separated or Divorced, dtype: int64\n",
      "median: 17.0\n"
     ]
    },
    {
     "data": {
      "text/plain": [
       "<AxesSubplot:>"
      ]
     },
     "execution_count": 46,
     "metadata": {},
     "output_type": "execute_result"
    },
    {
     "data": {
      "image/png": "[encoded data removed]",
      "text/plain": [
       "<Figure size 432x288 with 2 Axes>"
      ]
     },
     "metadata": {
      "needs_background": "light"
     },
     "output_type": "display_data"
    }
   ],
   "source": [
    "# 'Population 15+ - % Separated or Divorced'   \n",
    "# numeric attribute. for now i am filling in with the median value. we can take a closer look at this later to use other attributes to predict the missing values for possible better performance\n",
    "\n",
    "# how many missing values in 'Population 15+ - % Separated or Divorced'\n",
    "acxiom_demo['Population 15+ - % Separated or Divorced'].isnull().sum()\n",
    "# print with percentage and nice formating \"nan's: 0.0%\"\n",
    "print('nan\\'s: {:.1%}'.format(acxiom_demo['Population 15+ - % Separated or Divorced'].isnull().sum()/len(acxiom_demo)))\n",
    "\n",
    "# what does the distribution of the 'Population 15+ - % Separated or Divorced' column look like\n",
    "print(acxiom_demo['Population 15+ - % Separated or Divorced'].value_counts())\n",
    "\n",
    "# what is the meadian value of the 'Population 15+ - % Separated or Divorced' column. with nice formating \"median: 4.0\"\n",
    "print('median: {:.1f}'.format(acxiom_demo['Population 15+ - % Separated or Divorced'].median()))\n",
    "\n",
    "# make a copy of the 'Population 15+ - % Separated or Divorced' column\n",
    "copy = acxiom_demo['Population 15+ - % Separated or Divorced'].copy()\n",
    "\n",
    "# make 2 subplots of the histograms\n",
    "import matplotlib.pyplot as plt\n",
    "fig, axes = plt.subplots(1, 2)\n",
    "\n",
    "# make a histogram of the copy. make it the first subplot\n",
    "copy.hist(ax = axes[0])\n",
    "\n",
    "# fill in the missing values with the median value\n",
    "acxiom_demo['Population 15+ - % Separated or Divorced'] = acxiom_demo['Population 15+ - % Separated or Divorced'].fillna(acxiom_demo['Population 15+ - % Separated or Divorced'].median())\n",
    "\n",
    "# make a second histogram of the 'Population 15+ - % Separated or Divorced' column. make it the second subplot\n",
    "acxiom_demo['Population 15+ - % Separated or Divorced'].hist(ax = axes[1])"
   ]
  },
  {
   "cell_type": "code",
   "execution_count": 47,
   "metadata": {},
   "outputs": [
    {
     "name": "stdout",
     "output_type": "stream",
     "text": [
      "nan's: 4.7%\n",
      "6.0     2711\n",
      "5.0     2354\n",
      "4.0     2282\n",
      "7.0     2246\n",
      "8.0     1847\n",
      "3.0     1805\n",
      "9.0     1647\n",
      "2.0     1157\n",
      "10.0    1151\n",
      "11.0     781\n",
      "1.0      643\n",
      "12.0     585\n",
      "13.0     469\n",
      "0.0      466\n",
      "14.0     336\n",
      "15.0     247\n",
      "16.0     188\n",
      "17.0      98\n",
      "18.0      90\n",
      "20.0      31\n",
      "24.0      28\n",
      "22.0      20\n",
      "25.0      17\n",
      "26.0      17\n",
      "21.0      15\n",
      "19.0       8\n",
      "27.0       5\n",
      "47.0       2\n",
      "50.0       2\n",
      "40.0       1\n",
      "33.0       1\n",
      "36.0       1\n",
      "31.0       1\n",
      "Name: Population 15+ - % Widowed, dtype: int64\n",
      "median: 6.0\n"
     ]
    },
    {
     "data": {
      "text/plain": [
       "<AxesSubplot:>"
      ]
     },
     "execution_count": 47,
     "metadata": {},
     "output_type": "execute_result"
    },
    {
     "data": {
      "image/png": "[encoded data removed]",
      "text/plain": [
       "<Figure size 432x288 with 2 Axes>"
      ]
     },
     "metadata": {
      "needs_background": "light"
     },
     "output_type": "display_data"
    }
   ],
   "source": [
    "# 'Population 15+ - % Widowed'   \n",
    "# numeric attribute. for now i am filling in with the median value. i dont really understand this variable we will see if first pass finds it important if not we will remove it. also prehaps there is a better way to backfill the missing values\n",
    "\n",
    "# how many missing values in 'Population 15+ - % Widowed'\n",
    "acxiom_demo['Population 15+ - % Widowed'].isnull().sum()\n",
    "# print with percentage and nice formating \"nan's: 0.0%\"\n",
    "print('nan\\'s: {:.1%}'.format(acxiom_demo['Population 15+ - % Widowed'].isnull().sum()/len(acxiom_demo)))\n",
    "\n",
    "# what does the distribution of the 'Population 15+ - % Widowed' column look like\n",
    "print(acxiom_demo['Population 15+ - % Widowed'].value_counts())\n",
    "\n",
    "# what is the meadian value of the 'Population 15+ - % Widowed' column. with nice formating \"median: 4.0\"\n",
    "print('median: {:.1f}'.format(acxiom_demo['Population 15+ - % Widowed'].median()))\n",
    "\n",
    "# make a copy of the 'Population 15+ - % Widowed' column\n",
    "copy = acxiom_demo['Population 15+ - % Widowed'].copy()\n",
    "\n",
    "# make 2 subplots of the histograms\n",
    "import matplotlib.pyplot as plt\n",
    "fig, axes = plt.subplots(1, 2)\n",
    "\n",
    "# make a histogram of the copy. make it the first subplot\n",
    "copy.hist(ax = axes[0])\n",
    "\n",
    "# fill in the missing values with the median value\n",
    "acxiom_demo['Population 15+ - % Widowed'] = acxiom_demo['Population 15+ - % Widowed'].fillna(acxiom_demo['Population 15+ - % Widowed'].median())\n",
    "\n",
    "# make a second histogram of the 'Population 15+ - % Widowed' column. make it the second subplot\n",
    "acxiom_demo['Population 15+ - % Widowed'].hist(ax = axes[1])"
   ]
  },
  {
   "cell_type": "code",
   "execution_count": 48,
   "metadata": {},
   "outputs": [
    {
     "name": "stdout",
     "output_type": "stream",
     "text": [
      "nan's: 4.7%\n",
      "3.08    442\n",
      "3.16    415\n",
      "2.97    409\n",
      "2.96    395\n",
      "3.10    382\n",
      "       ... \n",
      "3.83      1\n",
      "4.97      1\n",
      "6.00      1\n",
      "4.59      1\n",
      "2.18      1\n",
      "Name: Families - Average Size, Length: 236, dtype: int64\n",
      "median: 3.1\n"
     ]
    },
    {
     "data": {
      "text/plain": [
       "<AxesSubplot:>"
      ]
     },
     "execution_count": 48,
     "metadata": {},
     "output_type": "execute_result"
    },
    {
     "data": {
      "image/png": "[encoded data removed]",
      "text/plain": [
       "<Figure size 432x288 with 2 Axes>"
      ]
     },
     "metadata": {
      "needs_background": "light"
     },
     "output_type": "display_data"
    }
   ],
   "source": [
    "# 'Families - Average Size'   \n",
    "# numeric attribute. for now i am filling in with the median value. we can take a closer look at this later to use other attributes to predict the missing values for possible better performance\n",
    "\n",
    "# how many missing values in 'Families - Average Size'\n",
    "acxiom_demo['Families - Average Size'].isnull().sum()\n",
    "# print with percentage and nice formating \"nan's: 0.0%\"\n",
    "print('nan\\'s: {:.1%}'.format(acxiom_demo['Families - Average Size'].isnull().sum()/len(acxiom_demo)))\n",
    "\n",
    "# what does the distribution of the 'Families - Average Size' column look like\n",
    "print(acxiom_demo['Families - Average Size'].value_counts())\n",
    "\n",
    "# what is the meadian value of the 'Families - Average Size' column. with nice formating \"median: 4.0\"\n",
    "print('median: {:.1f}'.format(acxiom_demo['Families - Average Size'].median()))\n",
    "\n",
    "# make a copy of the 'Families - Average Size' column\n",
    "copy = acxiom_demo['Families - Average Size'].copy()\n",
    "\n",
    "# make 2 subplots of the histograms\n",
    "import matplotlib.pyplot as plt\n",
    "fig, axes = plt.subplots(1, 2)\n",
    "\n",
    "# make a histogram of the copy. make it the first subplot\n",
    "copy.hist(ax = axes[0])\n",
    "\n",
    "# fill in the missing values with the median value\n",
    "acxiom_demo['Families - Average Size'] = acxiom_demo['Families - Average Size'].fillna(acxiom_demo['Families - Average Size'].median())\n",
    "\n",
    "# standardize the 'Families - Average Size' column to span from 0 to 1\n",
    "acxiom_demo['Families - Average Size'] = (acxiom_demo['Families - Average Size'] - acxiom_demo['Families - Average Size'].min()) / (acxiom_demo['Families - Average Size'].max() - acxiom_demo['Families - Average Size'].min())\n",
    "\n",
    "# make a second histogram of the 'Families - Average Size' column. make it the second subplot\n",
    "acxiom_demo['Families - Average Size'].hist(ax = axes[1])"
   ]
  },
  {
   "cell_type": "code",
   "execution_count": 49,
   "metadata": {},
   "outputs": [
    {
     "name": "stdout",
     "output_type": "stream",
     "text": [
      "nan's: 4.7%\n",
      "median: 778.0\n"
     ]
    },
    {
     "data": {
      "text/plain": [
       "<AxesSubplot:>"
      ]
     },
     "execution_count": 49,
     "metadata": {},
     "output_type": "execute_result"
    },
    {
     "data": {
      "image/png": "[encoded data removed]",
      "text/plain": [
       "<Figure size 432x288 with 2 Axes>"
      ]
     },
     "metadata": {
      "needs_background": "light"
     },
     "output_type": "display_data"
    }
   ],
   "source": [
    "# Family - Average Income (in hundreds of $US)'\n",
    "# numeric attribute. fill in with the median value. standerdize the attribute.\n",
    "\n",
    "# how many missing values in 'Families - Average Income (in hundreds of $US)'\n",
    "acxiom_demo['Family - Average Income (in hundreds of $US)'].isnull().sum()\n",
    "# print with percentage and nice formating \"nan's: 0.0%\"\n",
    "print('nan\\'s: {:.1%}'.format(acxiom_demo['Family - Average Income (in hundreds of $US)'].isnull().sum()/len(acxiom_demo)))\n",
    "\n",
    "# what is the meadian value of the 'Families - Average Income (in hundreds of $US)' column. with nice formating \"median: 4.0\"\n",
    "print('median: {:.1f}'.format(acxiom_demo['Family - Average Income (in hundreds of $US)'].median()))\n",
    "\n",
    "# make a copy of the 'Families - Average Income (in hundreds of $US)' column\n",
    "copy = acxiom_demo['Family - Average Income (in hundreds of $US)'].copy()\n",
    "\n",
    "# make 2 subplots of the histograms\n",
    "import matplotlib.pyplot as plt\n",
    "fig, axes = plt.subplots(1, 2)\n",
    "\n",
    "# make a histogram of the copy. make it the first subplot\n",
    "copy.hist(ax = axes[0])\n",
    "\n",
    "# fill in the missing values with the median value\n",
    "acxiom_demo['Family - Average Income (in hundreds of $US)'] = acxiom_demo['Family - Average Income (in hundreds of $US)'].fillna(acxiom_demo['Family - Average Income (in hundreds of $US)'].median())\n",
    "\n",
    "# standerdize the 'Families - Average Income (in hundreds of $US)' column on a scale of 0 to 1\n",
    "acxiom_demo['Family - Average Income (in hundreds of $US)'] = (acxiom_demo['Family - Average Income (in hundreds of $US)'] - acxiom_demo['Family - Average Income (in hundreds of $US)'].min()) / (acxiom_demo['Family - Average Income (in hundreds of $US)'].max() - acxiom_demo['Family - Average Income (in hundreds of $US)'].min())\n",
    "\n",
    "# make a second histogram of the 'Families - Average Income (in hundreds of $US)' column. make it the second subplot\n",
    "acxiom_demo['Family - Average Income (in hundreds of $US)'].hist(ax = axes[1])\n"
   ]
  },
  {
   "cell_type": "code",
   "execution_count": 50,
   "metadata": {},
   "outputs": [
    {
     "name": "stdout",
     "output_type": "stream",
     "text": [
      "nan's: 5.9%\n"
     ]
    }
   ],
   "source": [
    "# 'Home Owner / Renter - 100%'   \n",
    "# categorical attribute. 1 hot encode the attribute\n",
    "\n",
    "# how many missing values in 'Home Owner / Renter - 100%'\n",
    "acxiom_demo['Home Owner / Renter - 100%'].isnull().sum()\n",
    "# print with percentage and nice formating \"nan's: 0.0%\"\n",
    "print('nan\\'s: {:.1%}'.format(acxiom_demo['Home Owner / Renter - 100%'].isnull().sum()/len(acxiom_demo)))\n",
    "\n",
    "# one hot encode the 'Home Owner / Renter - 100%' column\n",
    "acxiom_demo = pd.concat([acxiom_demo, pd.get_dummies(acxiom_demo['Home Owner / Renter - 100%'], prefix = 'Home Owner / Renter - 100%')], axis = 1)\n",
    "\n",
    "# drop the 'Home Owner / Renter - 100%' column\n",
    "acxiom_demo = acxiom_demo.drop('Home Owner / Renter - 100%', axis = 1)"
   ]
  },
  {
   "cell_type": "code",
   "execution_count": 51,
   "metadata": {},
   "outputs": [
    {
     "name": "stdout",
     "output_type": "stream",
     "text": [
      "18606\n",
      "nan's: 83.4%\n",
      "0\n",
      "nan's: 0.0%\n"
     ]
    }
   ],
   "source": [
    "# 'Suppression - Deceased, Bankruptcy, TLJ - Highest'\n",
    "# categorical attribute. 1 hot encode the attribute\n",
    "\n",
    "# how many missing values in 'Suppression - Deceased, Bankruptcy, TLJ - Highest'\n",
    "print(acxiom_demo['Suppression - Deceased, Bankruptcy, TLJ - Highest'].isnull().sum())\n",
    "# print with percentage and nice formating \"nan's: 0.0%\"\n",
    "print('nan\\'s: {:.1%}'.format(acxiom_demo['Suppression - Deceased, Bankruptcy, TLJ - Highest'].isnull().sum()/len(acxiom_demo)))\n",
    "\n",
    "# if 'y' change to 1. if 'n' change to 0. if nan change to 0\n",
    "acxiom_demo['Suppression - Deceased, Bankruptcy, TLJ - Highest'] = acxiom_demo['Suppression - Deceased, Bankruptcy, TLJ - Highest'].replace('y', 1)\n",
    "acxiom_demo['Suppression - Deceased, Bankruptcy, TLJ - Highest'] = acxiom_demo['Suppression - Deceased, Bankruptcy, TLJ - Highest'].replace('n', 0)\n",
    "acxiom_demo['Suppression - Deceased, Bankruptcy, TLJ - Highest'] = acxiom_demo['Suppression - Deceased, Bankruptcy, TLJ - Highest'].fillna(0)\n",
    "\n",
    "#how many missing values in 'Suppression - Deceased, Bankruptcy, TLJ - Highest'\n",
    "print(acxiom_demo['Suppression - Deceased, Bankruptcy, TLJ - Highest'].isnull().sum())\n",
    "# print with percentage and nice formating \"nan's: 0.0%\"\n",
    "print('nan\\'s: {:.1%}'.format(acxiom_demo['Suppression - Deceased, Bankruptcy, TLJ - Highest'].isnull().sum()/len(acxiom_demo)))"
   ]
  },
  {
   "cell_type": "code",
   "execution_count": 52,
   "metadata": {},
   "outputs": [
    {
     "name": "stdout",
     "output_type": "stream",
     "text": [
      "nan's: 4.7%\n",
      "919.0     55\n",
      "2906.0    50\n",
      "1306.0    47\n",
      "1763.0    45\n",
      "2561.0    45\n",
      "          ..\n",
      "3967.0     1\n",
      "4451.0     1\n",
      "997.0      1\n",
      "4091.0     1\n",
      "5053.0     1\n",
      "Name: Number of People (Total Population), Length: 2097, dtype: int64\n",
      "median: 1504.0\n"
     ]
    },
    {
     "data": {
      "text/plain": [
       "<AxesSubplot:>"
      ]
     },
     "execution_count": 52,
     "metadata": {},
     "output_type": "execute_result"
    },
    {
     "data": {
      "image/png": "[encoded data removed]",
      "text/plain": [
       "<Figure size 432x288 with 2 Axes>"
      ]
     },
     "metadata": {
      "needs_background": "light"
     },
     "output_type": "display_data"
    }
   ],
   "source": [
    "# 'Number of People (Total Population)'   \n",
    "# continuous attribute. fill in with the median value. standerdize the attribute.\n",
    "\n",
    "# how many missing values in 'Number of People (Total Population)'\n",
    "acxiom_demo['Number of People (Total Population)'].isnull().sum()\n",
    "# print with percentage and nice formating \"nan's: 0.0%\"\n",
    "print('nan\\'s: {:.1%}'.format(acxiom_demo['Number of People (Total Population)'].isnull().sum()/len(acxiom_demo)))\n",
    "\n",
    "# what does the distribution of the 'Number of People (Total Population)' column look like\n",
    "print(acxiom_demo['Number of People (Total Population)'].value_counts())\n",
    "\n",
    "# what is the meadian value of the 'Number of People (Total Population)' column. with nice formating \"median: 4.0\"\n",
    "print('median: {:.1f}'.format(acxiom_demo['Number of People (Total Population)'].median()))\n",
    "\n",
    "# make a copy of the 'Number of People (Total Population)' column\n",
    "copy = acxiom_demo['Number of People (Total Population)'].copy()\n",
    "\n",
    "# make 2 subplots of the histograms\n",
    "import matplotlib.pyplot as plt\n",
    "fig, axes = plt.subplots(1, 2)\n",
    "\n",
    "# make a histogram of the copy. make it the first subplot\n",
    "copy.hist(ax = axes[0])\n",
    "\n",
    "# fill in the missing values with the median value\n",
    "acxiom_demo['Number of People (Total Population)'] = acxiom_demo['Number of People (Total Population)'].fillna(acxiom_demo['Number of People (Total Population)'].median())\n",
    "\n",
    "# standerdize the 'Number of People (Total Population)' column on a scale of 0 to 1\n",
    "acxiom_demo['Number of People (Total Population)'] = (acxiom_demo['Number of People (Total Population)'] - acxiom_demo['Number of People (Total Population)'].min()) / (acxiom_demo['Number of People (Total Population)'].max() - acxiom_demo['Number of People (Total Population)'].min())\n",
    "\n",
    "# make a second histogram of the 'Number of People (Total Population)' column. make it the second subplot\n",
    "acxiom_demo['Number of People (Total Population)'].hist(ax = axes[1])"
   ]
  },
  {
   "cell_type": "code",
   "execution_count": 53,
   "metadata": {},
   "outputs": [
    {
     "name": "stdout",
     "output_type": "stream",
     "text": [
      "nan's: 22.9%\n",
      "18.0    1580\n",
      "17.0    1570\n",
      "19.0    1403\n",
      "20.0    1388\n",
      "16.0    1356\n",
      "15.0    1299\n",
      "14.0    1279\n",
      "13.0    1070\n",
      "12.0    1026\n",
      "11.0     876\n",
      "10.0     764\n",
      "9.0      722\n",
      "8.0      600\n",
      "7.0      518\n",
      "6.0      482\n",
      "5.0      395\n",
      "4.0      328\n",
      "3.0      248\n",
      "2.0      154\n",
      "1.0      143\n",
      "Name: Power Video Gamer, dtype: int64\n",
      "5    11050\n",
      "4     5004\n",
      "3     3388\n",
      "2     1995\n",
      "1      873\n",
      "Name: Power Video Gamer, dtype: int64\n",
      "median: 4.0\n"
     ]
    },
    {
     "data": {
      "text/plain": [
       "<AxesSubplot:>"
      ]
     },
     "execution_count": 53,
     "metadata": {},
     "output_type": "execute_result"
    },
    {
     "data": {
      "image/png": "[encoded data removed]",
      "text/plain": [
       "<Figure size 432x288 with 2 Axes>"
      ]
     },
     "metadata": {
      "needs_background": "light"
     },
     "output_type": "display_data"
    }
   ],
   "source": [
    "# 'Power Video Gamer'\n",
    "# desc: Predicts the likelihood of at least one person in the home who has spent at least $400 in the 12 months and played 30 games in the past month.\n",
    "# numeric attribute. fill in with the median value.\n",
    "\n",
    "# how many missing values in 'Power Video Gamer'\n",
    "acxiom_demo['Power Video Gamer'].isnull().sum()\n",
    "# print with percentage and nice formating \"nan's: 0.0%\"\n",
    "print('nan\\'s: {:.1%}'.format(acxiom_demo['Power Video Gamer'].isnull().sum()/len(acxiom_demo)))\n",
    "\n",
    "# what does the distribution of the 'Power Video Gamer' column look like\n",
    "print(acxiom_demo['Power Video Gamer'].value_counts())\n",
    "\n",
    "# 20 degree is to much. 5 degree is better\n",
    "# 1-4 = 1\n",
    "# 5-8 = 2\n",
    "# 9-12 = 3\n",
    "# 13-16 = 4\n",
    "# 17-20 = 5\n",
    "\n",
    "# remap the values using a lambda function\n",
    "acxiom_demo['Power Video Gamer'] = acxiom_demo['Power Video Gamer'].map(lambda x: 1 if x <= 4 else (2 if x <= 8 else (3 if x <= 12 else (4 if x <= 16 else 5))))\n",
    "\n",
    "# what does the distribution of the 'Power Video Gamer' column look like\n",
    "print(acxiom_demo['Power Video Gamer'].value_counts())\n",
    "\n",
    "# what is the meadian value of the 'Power Video Gamer' column. with nice formating \"median: 0.0\"\n",
    "print('median: {:.1f}'.format(acxiom_demo['Power Video Gamer'].median()))\n",
    "\n",
    "# make a copy of the 'Power Video Gamer' column\n",
    "copy = acxiom_demo['Power Video Gamer'].copy()\n",
    "\n",
    "# make 2 subplots of the histograms\n",
    "import matplotlib.pyplot as plt\n",
    "fig, axes = plt.subplots(1, 2)\n",
    "\n",
    "# make a histogram of the copy. make it the first subplot\n",
    "copy.hist(ax = axes[0])\n",
    "\n",
    "# fill in the missing values with the median value\n",
    "acxiom_demo['Power Video Gamer'] = acxiom_demo['Power Video Gamer'].fillna(acxiom_demo['Power Video Gamer'].median())\n",
    "\n",
    "# make a second histogram of the 'Power Video Gamer' column. make it the second subplot\n",
    "acxiom_demo['Power Video Gamer'].hist(ax = axes[1])\n",
    "\n",
    "# reduce  \n"
   ]
  },
  {
   "cell_type": "code",
   "execution_count": 54,
   "metadata": {},
   "outputs": [],
   "source": [
    "# drop 'is_suicide'\n",
    "acxiom_demo = acxiom_demo.drop(columns='is_suicide')"
   ]
  },
  {
   "cell_type": "code",
   "execution_count": 55,
   "metadata": {},
   "outputs": [],
   "source": [
    "# write the cleaned data to a csv file\n",
    "acxiom_demo.to_csv('data/out/acxiom_demo_cleaned_v1.csv', index=False)"
   ]
  }
 ],
 "metadata": {
  "kernelspec": {
   "display_name": "Python 3",
   "language": "python",
   "name": "python3"
  },
  "language_info": {
   "codemirror_mode": {
    "name": "ipython",
    "version": 3
   },
   "file_extension": ".py",
   "mimetype": "text/x-python",
   "name": "python",
   "nbconvert_exporter": "python",
   "pygments_lexer": "ipython3",
   "version": "3.8.10"
  },
  "orig_nbformat": 4,
  "vscode": {
   "interpreter": {
    "hash": "e1ebc6ce21e20a44ca2e939d468f8c4914f49f277b8be916293753b9e7a9feef"
   }
  }
 },
 "nbformat": 4,
 "nbformat_minor": 2
}
