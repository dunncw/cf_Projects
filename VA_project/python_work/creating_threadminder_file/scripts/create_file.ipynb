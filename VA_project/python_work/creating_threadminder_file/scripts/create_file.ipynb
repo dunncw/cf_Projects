{
 "cells": [
  {
   "cell_type": "code",
   "execution_count": 1,
   "metadata": {},
   "outputs": [
    {
     "name": "stderr",
     "output_type": "stream",
     "text": [
      "C:\\Users\\cayde\\AppData\\Local\\Temp\\ipykernel_13968\\1339307102.py:6: DtypeWarning: Columns (16,17,18,19,20,21,22,23,34,36,49,50,51,52,53,54,55,56,57,58,59,60,62,63,64,74,75,76,78,79,80,85,87,88,89,90,91,92,93,97,98,99,108,123,124) have mixed types. Specify dtype option on import or set low_memory=False.\n",
      "  medical_source = pd.read_csv('../data/CF_medicalData.csv')\n",
      "C:\\Users\\cayde\\AppData\\Local\\Temp\\ipykernel_13968\\1339307102.py:7: DtypeWarning: Columns (14) have mixed types. Specify dtype option on import or set low_memory=False.\n",
      "  agr_cell_email = pd.read_csv('../data/cf_agrEmailCellAppend_va2_10_14_2022.csv')\n"
     ]
    }
   ],
   "source": [
    "import pandas as pd\n",
    "import numpy as np\n",
    "\n",
    "# read in all files from the folder called ../data\n",
    "heart_table = pd.read_csv('../data/dev_sample_HeartTable_10_17_2022.csv')\n",
    "medical_source = pd.read_csv('../data/CF_medicalData.csv')\n",
    "agr_cell_email = pd.read_csv('../data/cf_agrEmailCellAppend_va2_10_14_2022.csv')\n",
    "acxiom_email = pd.read_csv('../data/cf_acxiomEmails_va2_10_17_2022.csv')\n"
   ]
  },
  {
   "cell_type": "code",
   "execution_count": 4,
   "metadata": {},
   "outputs": [
    {
     "name": "stdout",
     "output_type": "stream",
     "text": [
      "11193\n",
      "11193\n"
     ]
    }
   ],
   "source": [
    "#count the number of rows in heart table that in the column clearforce id there is the substring \"medical_source\"\n",
    "print(heart_table[heart_table['source_id'].str.contains('medical_source')].shape[0])\n",
    "\n",
    "#count the number of rows in medial source that in the column clearforce id that are not null\n",
    "print(medical_source[medical_source['source_id'].notnull()].shape[0])"
   ]
  },
  {
   "cell_type": "code",
   "execution_count": 2,
   "metadata": {},
   "outputs": [
    {
     "name": "stdout",
     "output_type": "stream",
     "text": [
      "0\n"
     ]
    }
   ],
   "source": [
    "#count the number of duplicates in the column 'source_id'\n",
    "print(heart_table['source_id'].duplicated().sum())"
   ]
  },
  {
   "cell_type": "markdown",
   "metadata": {},
   "source": [
    "# get all causes of death"
   ]
  },
  {
   "cell_type": "code",
   "execution_count": 2,
   "metadata": {},
   "outputs": [],
   "source": [
    "# drop the columns that are not needed 'AGRID15'\n",
    "heart_table = heart_table.drop(columns=['AGRID15', 'AGRID16'])"
   ]
  },
  {
   "cell_type": "code",
   "execution_count": 3,
   "metadata": {},
   "outputs": [],
   "source": [
    "#make a subset of heart_table where the column source_id contains 'V1_population2_sample'\n",
    "v1_pop = heart_table[heart_table['source_id'].str.contains('V1_population2_sample')]\n",
    "\n",
    "#make a subset of medical_source\n",
    "medical_source_sub = medical_source[['Immediate Cause A', 'ENDate', 'LOD Date', 'FirstName', 'LastName', 'BirthDate']]\n",
    "\n",
    "# merge v1_pop with medical_source on the columns FIRST_NAME, LAST_NAME, and DOB\n",
    "v1_pop_medical = pd.merge(v1_pop, medical_source_sub, left_on=['FIRST_NAME', 'LAST_NAME', 'MASTER_DOB'], right_on=['FirstName', 'LastName', 'BirthDate'], how='left')\n",
    "\n",
    "v1_pop_medical.rename(columns={'source_id_x': 'source_id'}, inplace=True)"
   ]
  },
  {
   "cell_type": "code",
   "execution_count": 4,
   "metadata": {},
   "outputs": [],
   "source": [
    "#cut down med df to 'source_id' and 'Immediate Cause A' \n",
    "v1_pop_medical = v1_pop_medical[['source_id', 'Immediate Cause A', 'ENDate', 'LOD Date']]\n",
    "medical_source = medical_source[['source_id', 'Immediate Cause A', 'ENDate', 'LOD Date']]\n"
   ]
  },
  {
   "cell_type": "code",
   "execution_count": 5,
   "metadata": {},
   "outputs": [],
   "source": [
    "#merge heart_table and medical_source on source_id\n",
    "merge_master = pd.merge(heart_table, medical_source, on='source_id', how='left')\n",
    "merge_master = pd.merge(merge_master, v1_pop_medical, on='source_id', how='left')\n"
   ]
  },
  {
   "cell_type": "code",
   "execution_count": 6,
   "metadata": {},
   "outputs": [],
   "source": [
    "# if the column 'Immediate Cause A_x' is null, then replace it with the value in 'Immediate Cause A_y'\n",
    "merge_master['Immediate Cause A_x'] = np.where(merge_master['Immediate Cause A_x'].isnull(), merge_master['Immediate Cause A_y'], merge_master['Immediate Cause A_x'])\n",
    "#drop the column 'Immediate Cause A_y'\n",
    "merge_master = merge_master.drop(columns=['Immediate Cause A_y'])\n",
    "#rename the column 'Immediate Cause A_x' to 'Immediate Cause A'\n",
    "merge_master.rename(columns={'Immediate Cause A_x': 'Immediate Cause A'}, inplace=True)\n",
    "\n",
    "# if the column 'ENDate_x' is null, then replace it with the value in 'ENDate_y'\n",
    "merge_master['ENDate_x'] = np.where(merge_master['ENDate_x'].isnull(), merge_master['ENDate_y'], merge_master['ENDate_x'])\n",
    "#drop the column 'ENDate_y'\n",
    "merge_master = merge_master.drop(columns=['ENDate_y'])\n",
    "#rename the column 'ENDate_x' to 'ENDate'\n",
    "merge_master.rename(columns={'ENDate_x': 'ENDate'}, inplace=True)\n",
    "\n",
    "# if the column 'LOD Date_x' is null, then replace it with the value in 'LOD Date_y'\n",
    "merge_master['LOD Date_x'] = np.where(merge_master['LOD Date_x'].isnull(), merge_master['LOD Date_y'], merge_master['LOD Date_x'])\n",
    "#drop the column 'LOD Date_y'\n",
    "merge_master = merge_master.drop(columns=['LOD Date_y'])\n",
    "#rename the column 'LOD Date_x' to 'LOD Date'\n",
    "merge_master.rename(columns={'LOD Date_x': 'LOD Date'}, inplace=True)"
   ]
  },
  {
   "cell_type": "markdown",
   "metadata": {},
   "source": [
    "# get all emails and cells"
   ]
  },
  {
   "cell_type": "code",
   "execution_count": 7,
   "metadata": {},
   "outputs": [],
   "source": [
    "#cut down agr_cell_email to 'source_id' and 'EMAIL1', 'EMAIL2', 'EMAIL3', Cell_Phone1', 'Cell_Phone2', 'Cell_Phone3'\n",
    "agr_cell_email = agr_cell_email[['source_id', 'EMAIL1', 'EMAIL2', 'EMAIL3', 'Cell_Phone1', 'Cell_Phone2', 'Cell_Phone3']]"
   ]
  },
  {
   "cell_type": "code",
   "execution_count": 8,
   "metadata": {},
   "outputs": [],
   "source": [
    "acxiom_email = acxiom_email[['source_id', 'person.emailAppend0.email']]"
   ]
  },
  {
   "cell_type": "code",
   "execution_count": 9,
   "metadata": {},
   "outputs": [
    {
     "name": "stdout",
     "output_type": "stream",
     "text": [
      "6\n"
     ]
    }
   ],
   "source": [
    "#merge heart_table and medical_source on source_id\n",
    "merge_master = pd.merge(merge_master, agr_cell_email, on='source_id', how='left')\n",
    "\n",
    "#count the number of duplicates in the column 'source_id'\n",
    "print(merge_master['source_id'].duplicated().sum())\n",
    "#store the duplicates in a variable\n",
    "duplicates = merge_master[merge_master['source_id'].duplicated()]\n",
    "\n",
    "#remove all but the first duplicate\n",
    "merge_master = merge_master.drop_duplicates(subset='source_id', keep='first')"
   ]
  },
  {
   "cell_type": "code",
   "execution_count": 10,
   "metadata": {},
   "outputs": [],
   "source": [
    "merge_master = pd.merge(merge_master, acxiom_email, on='source_id', how='left')\n",
    "merge_master = merge_master.drop_duplicates(subset='source_id', keep='first')"
   ]
  },
  {
   "cell_type": "code",
   "execution_count": 11,
   "metadata": {},
   "outputs": [
    {
     "data": {
      "text/plain": [
       "11737"
      ]
     },
     "execution_count": 11,
     "metadata": {},
     "output_type": "execute_result"
    }
   ],
   "source": [
    "#count the number of with a non null value in the column 'Immediate Cause A'\n",
    "merge_master['Immediate Cause A'].count()"
   ]
  },
  {
   "cell_type": "code",
   "execution_count": 12,
   "metadata": {},
   "outputs": [],
   "source": [
    "#writing the file to a csv\n",
    "merge_master.to_csv('../data/out/ThreatMinder_22ksample_cf_v2_10_18_2022.csv', index=False)\n"
   ]
  },
  {
   "cell_type": "code",
   "execution_count": 13,
   "metadata": {},
   "outputs": [],
   "source": [
    "#write to a csv file the dataframe v1_pop_medical\n",
    "v1_pop_medical.to_csv('../data/out/v1sample_causeofdeath_v2_10_18_2022.csv', index=False)"
   ]
  }
 ],
 "metadata": {
  "kernelspec": {
   "display_name": "Python 3.8.10 64-bit (microsoft store)",
   "language": "python",
   "name": "python3"
  },
  "language_info": {
   "codemirror_mode": {
    "name": "ipython",
    "version": 3
   },
   "file_extension": ".py",
   "mimetype": "text/x-python",
   "name": "python",
   "nbconvert_exporter": "python",
   "pygments_lexer": "ipython3",
   "version": "3.8.10"
  },
  "orig_nbformat": 4,
  "vscode": {
   "interpreter": {
    "hash": "e1ebc6ce21e20a44ca2e939d468f8c4914f49f277b8be916293753b9e7a9feef"
   }
  }
 },
 "nbformat": 4,
 "nbformat_minor": 2
}
