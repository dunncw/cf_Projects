{
 "cells": [
  {
   "cell_type": "code",
   "execution_count": null,
   "metadata": {},
   "outputs": [],
   "source": [
    "import pandas as pd \n",
    "import numpy as np\n",
    "\n",
    "#read in all the data from directory 'all_appends_and_source' and store each in a dataframe \n",
    "df_agr_email_cell = pd.read_csv('all_appends_and_source/agr_CF_CELL_EMAIL_22K_20220822.csv')\n",
    "fixed_dev_sample = pd.read_csv('../Data/primary_keys_dev_sample_10_13_2022.csv')\n",
    "\n",
    "#still need to get the acxiom data in here\n",
    "\n",
    "\n",
    "#use to sanity check\n",
    "df_medial_source = pd.read_csv('../Data/CF_medicalData.csv')\n"
   ]
  }
 ],
 "metadata": {
  "kernelspec": {
   "display_name": "Python 3.8.10 64-bit (microsoft store)",
   "language": "python",
   "name": "python3"
  },
  "language_info": {
   "name": "python",
   "version": "3.8.10"
  },
  "orig_nbformat": 4,
  "vscode": {
   "interpreter": {
    "hash": "e1ebc6ce21e20a44ca2e939d468f8c4914f49f277b8be916293753b9e7a9feef"
   }
  }
 },
 "nbformat": 4,
 "nbformat_minor": 2
}
