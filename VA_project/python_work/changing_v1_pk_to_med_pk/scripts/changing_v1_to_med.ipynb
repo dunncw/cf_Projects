{
 "cells": [
  {
   "cell_type": "code",
   "execution_count": 1,
   "metadata": {},
   "outputs": [
    {
     "name": "stderr",
     "output_type": "stream",
     "text": [
      "C:\\Users\\cayde\\AppData\\Local\\Temp\\ipykernel_11684\\2792565412.py:6: DtypeWarning: Columns (16,17,18,19,20,21,22,23,34,36,49,50,51,52,53,54,55,56,57,58,59,60,62,63,64,74,75,76,78,79,80,85,87,88,89,90,91,92,93,97,98,99,108,123,124) have mixed types. Specify dtype option on import or set low_memory=False.\n",
      "  medical_source = pd.read_csv('../data/CF_medicalData.csv')\n",
      "C:\\Users\\cayde\\AppData\\Local\\Temp\\ipykernel_11684\\2792565412.py:7: DtypeWarning: Columns (0,2,3,4,5,6,7,8,9,11,12,13,14,15,16,17,18,19,20,21,25,26,27,29,30,31,32,33,34,35,39,41,42,43,44,45,46,47,48,49,51,52,53,55,56,57,58,59,60,61,62,65,66,67,68,69,70,72,78,83,84,86) have mixed types. Specify dtype option on import or set low_memory=False.\n",
      "  df_vaprediction_v1 = pd.read_csv('../data/cf_vaprediction_v1.csv')\n"
     ]
    }
   ],
   "source": [
    "import pandas as pd\n",
    "import numpy as np\n",
    "\n",
    "# read in all files from the folder called ../data\n",
    "heart_table = pd.read_csv('../data/dev_sample_HeartTable_10_17_2022.csv')\n",
    "medical_source = pd.read_csv('../data/CF_medicalData.csv')\n",
    "df_vaprediction_v1 = pd.read_csv('../data/cf_vaprediction_v1.csv')"
   ]
  },
  {
   "cell_type": "code",
   "execution_count": 2,
   "metadata": {},
   "outputs": [],
   "source": [
    "# in the table heart_table, the column called 'source_id' grab rows with substring 'V1' and store in a new dataframe\n",
    "df_v1 = heart_table[heart_table['source_id'].str.contains('V1')]"
   ]
  },
  {
   "cell_type": "code",
   "execution_count": 3,
   "metadata": {},
   "outputs": [],
   "source": [
    "# how many diplicates are in v1_pop when just looking at first name, last name\n",
    "df_v1.duplicated(subset=['FIRST_NAME', 'LAST_NAME']).sum()\n",
    "#store the duplicated rows in a new dataframe\n",
    "df_v1_dup = df_v1[df_v1.duplicated(subset=['FIRST_NAME', 'LAST_NAME'])]"
   ]
  },
  {
   "cell_type": "code",
   "execution_count": 4,
   "metadata": {},
   "outputs": [],
   "source": [
    "#make a subset of heart_table where the column source_id contains 'V1_population2_sample'\n",
    "v1_pop = heart_table[heart_table['source_id'].str.contains('V1_population2_sample')]\n",
    "\n",
    "v1_pop = v1_pop[['source_id','FIRST_NAME', 'LAST_NAME', 'MASTER_DOB']]\n",
    "\n",
    "# # merge v1_pop with medical_source on the columns FIRST_NAME, LAST_NAME, and DOB\n",
    "# v1_pop_medical = pd.merge(medical_source, v1_pop, right_on=['FIRST_NAME', 'LAST_NAME', 'MASTER_DOB'], left_on=['FirstName', 'LastName', 'BirthDate'], how='left')\n",
    "\n",
    "# merge v1_pop with medical_source on the columns FIRST_NAME, LAST_NAME, and DOB\n",
    "v1_pop_medical = pd.merge(medical_source, v1_pop, right_on=['FIRST_NAME', 'LAST_NAME'], left_on=['FirstName', 'LastName'], how='left')\n"
   ]
  },
  {
   "cell_type": "code",
   "execution_count": 5,
   "metadata": {},
   "outputs": [],
   "source": [
    "#drop columns that are not needed in the new dataframe\n",
    "v1_pop_medical = v1_pop_medical.drop(columns=['FIRST_NAME', 'LAST_NAME', 'MASTER_DOB'])\n",
    "\n",
    "# if the column 'source_id_x' is null, then replace with the value in the column 'source_id_y'\n",
    "v1_pop_medical['source_id_x'] = v1_pop_medical['source_id_x'].fillna(v1_pop_medical['source_id_y'])\n",
    "# drop the column 'source_id_y'\n",
    "v1_pop_medical = v1_pop_medical.drop(columns=['source_id_y'])\n",
    "# rename the column 'source_id_x' to 'source_id'\n",
    "v1_pop_medical = v1_pop_medical.rename(columns={'source_id_x': 'source_id'})"
   ]
  },
  {
   "cell_type": "code",
   "execution_count": 6,
   "metadata": {},
   "outputs": [
    {
     "name": "stdout",
     "output_type": "stream",
     "text": [
      "11193\n",
      "12312\n"
     ]
    }
   ],
   "source": [
    "#count the number of rows in the column 'source_id' that are not null\n",
    "print(medical_source['source_id'].count())\n",
    "#count the number of rows in the column 'source_id' that are not null\n",
    "print(v1_pop_medical['source_id'].count())"
   ]
  },
  {
   "cell_type": "code",
   "execution_count": 7,
   "metadata": {},
   "outputs": [
    {
     "name": "stdout",
     "output_type": "stream",
     "text": [
      "327\n"
     ]
    }
   ],
   "source": [
    "#print how many rows are in the dataframe in column 'source_id' that are null\n",
    "print(v1_pop_medical['source_id'].isnull().sum())"
   ]
  },
  {
   "cell_type": "code",
   "execution_count": 10,
   "metadata": {},
   "outputs": [
    {
     "data": {
      "text/plain": [
       "487"
      ]
     },
     "execution_count": 10,
     "metadata": {},
     "output_type": "execute_result"
    }
   ],
   "source": []
  },
  {
   "cell_type": "code",
   "execution_count": 8,
   "metadata": {},
   "outputs": [],
   "source": [
    "# create a subset of the dataframe where the column 'source_id' is not null\n",
    "v1_pop_medical_sub = v1_pop_medical[v1_pop_medical['source_id'].notnull()]\n",
    "# check to see if there are any duplicates in the dataframe\n",
    "v1_pop_medical_sub.duplicated(subset=['source_id']).sum()\n",
    "# create a subset of the dataframe with all the duplicates\n",
    "v1_pop_medical_sub_dup = v1_pop_medical_sub[v1_pop_medical_sub.duplicated(subset=['source_id'])]\n",
    "\n"
   ]
  },
  {
   "cell_type": "code",
   "execution_count": 9,
   "metadata": {},
   "outputs": [],
   "source": [
    "# write the dataframe to a csv file\n",
    "v1_pop_medical.to_csv('../data/out/CF_medicalData_v2.csv', index=False)"
   ]
  }
 ],
 "metadata": {
  "kernelspec": {
   "display_name": "Python 3.8.10 64-bit (microsoft store)",
   "language": "python",
   "name": "python3"
  },
  "language_info": {
   "codemirror_mode": {
    "name": "ipython",
    "version": 3
   },
   "file_extension": ".py",
   "mimetype": "text/x-python",
   "name": "python",
   "nbconvert_exporter": "python",
   "pygments_lexer": "ipython3",
   "version": "3.8.10"
  },
  "orig_nbformat": 4,
  "vscode": {
   "interpreter": {
    "hash": "e1ebc6ce21e20a44ca2e939d468f8c4914f49f277b8be916293753b9e7a9feef"
   }
  }
 },
 "nbformat": 4,
 "nbformat_minor": 2
}
