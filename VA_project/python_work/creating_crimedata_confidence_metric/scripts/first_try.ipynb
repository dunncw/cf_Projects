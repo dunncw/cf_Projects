{
 "cells": [
  {
   "cell_type": "code",
   "execution_count": 1,
   "metadata": {},
   "outputs": [
    {
     "name": "stderr",
     "output_type": "stream",
     "text": [
      "C:\\Users\\cayde\\AppData\\Local\\Temp\\ipykernel_14300\\739831198.py:5: DtypeWarning: Columns (26,27) have mixed types. Specify dtype option on import or set low_memory=False.\n",
      "  crime_df = pd.read_csv('../data/cf_apprissAppend_va2_10_17_2022.csv')\n",
      "C:\\Users\\cayde\\AppData\\Local\\Temp\\ipykernel_14300\\739831198.py:6: DtypeWarning: Columns (16,17,18,19,20,21,22,23,34,36,49,50,51,52,53,54,55,56,57,58,59,60,62,63,64,74,75,76,78,79,80,85,87,88,89,90,91,92,93,97,98,99,108,123,124) have mixed types. Specify dtype option on import or set low_memory=False.\n",
      "  medical_df = pd.read_csv('../data/CF_medicalData_v2.csv')\n"
     ]
    }
   ],
   "source": [
    "import pandas as pd\n",
    "import numpy as np\n",
    "\n",
    "#read in data from csv from folder ../data\n",
    "crime_df = pd.read_csv('../data/cf_apprissAppend_va2_10_17_2022.csv')\n",
    "medical_df = pd.read_csv('../data/CF_medicalData_v2.csv')\n",
    "PII_df = pd.read_csv('../data/dev_sample_HeartTable_10_17_2022.csv')"
   ]
  },
  {
   "cell_type": "code",
   "execution_count": 2,
   "metadata": {},
   "outputs": [],
   "source": [
    "# cut down the dataframe medical_df to only the columns we need 'source_id', 'ENDate'\n",
    "medical_df = medical_df[['source_id', 'ENDate', 'MiddleName']]\n",
    "# join the dataframes PII_df and medical_df left on source_id\n",
    "PII_med_df = pd.merge(PII_df, medical_df, on='source_id', how='left')\n",
    "PII_med_df = PII_med_df[['source_id', 'FIRST_NAME', 'MiddleName', 'LAST_NAME', 'MASTER_DOB', 'ENDate']]\n",
    "\n"
   ]
  },
  {
   "cell_type": "code",
   "execution_count": 3,
   "metadata": {},
   "outputs": [],
   "source": [
    "# cut down crime_df to only the columns we need 'source_id', 'SenderId' 'PersonFirstName' 'PersonMiddleName' 'PersonLastName' 'BookingDate'\n",
    "crime_df = crime_df[['PK','source_id', 'SenderId', 'PersonFirstName', 'PersonMiddleName', 'PersonLastName', 'BookingDate', 'PersonYearOfBirth']]\n",
    "# rename the column \"pk\" to booking_event_id\n",
    "crime_df = crime_df.rename(columns={'PK': 'booking_event_id'})\n"
   ]
  },
  {
   "cell_type": "code",
   "execution_count": 4,
   "metadata": {},
   "outputs": [],
   "source": [
    "# join the dataframes PII_med_df and crime_df right on source_id\n",
    "Crime_PII_df = pd.merge(PII_med_df, crime_df, on='source_id', how='right')"
   ]
  },
  {
   "cell_type": "code",
   "execution_count": 5,
   "metadata": {},
   "outputs": [],
   "source": [
    "# for the columns PersonFirstName, PersonMiddleName, PersonLastName remove the first and last character\n",
    "Crime_PII_df['PersonFirstName'] = Crime_PII_df['PersonFirstName'].str[1:-1]\n",
    "Crime_PII_df['PersonMiddleName'] = Crime_PII_df['PersonMiddleName'].str[1:-1]\n",
    "Crime_PII_df['PersonLastName'] = Crime_PII_df['PersonLastName'].str[1:-1]\n",
    "Crime_PII_df['PersonYearOfBirth'] = Crime_PII_df['PersonYearOfBirth'].str[1:-1]\n",
    "# this will get rid of all of the [] in the columns"
   ]
  },
  {
   "cell_type": "code",
   "execution_count": 6,
   "metadata": {},
   "outputs": [],
   "source": [
    "#import regular expressions\n",
    "import re\n",
    "# # check to see whether each source_id is associated with a unique sender_id\n",
    "# Crime_PII_df.groupby('source_id').SenderId.nunique().value_counts()\n",
    "\n",
    "# For all rows where ENDate is not null, check whether BookingDate occurs after ENDate\n",
    "Crime_PII_df['DiedBeforeBookingCharge'] = pd.to_datetime(Crime_PII_df['BookingDate']) > pd.to_datetime(Crime_PII_df['ENDate'])\n",
    "\n",
    "def YOB_match(row):\n",
    "    if type(row['PersonYearOfBirth']) == str:\n",
    "        pass\n",
    "    else:\n",
    "        return False\n",
    "    # use regular expression to find if 'FIRST_NAME' column in Crime_PII_df contains 'PersonFirstName' column in Crime_PII_df\n",
    "    if re.search(row['PersonYearOfBirth'], row['MASTER_DOB']):\n",
    "        return True\n",
    "    else:\n",
    "        return False\n",
    "\n",
    "Crime_PII_df['YOB_match'] = Crime_PII_df.apply(YOB_match, axis=1)"
   ]
  },
  {
   "cell_type": "code",
   "execution_count": 7,
   "metadata": {},
   "outputs": [],
   "source": [
    "# cast all strings to all lower case\n",
    "Crime_PII_df['FIRST_NAME'] = Crime_PII_df['FIRST_NAME'].str.lower()\n",
    "Crime_PII_df['PersonFirstName'] = Crime_PII_df['PersonFirstName'].str.lower()\n",
    "Crime_PII_df['LAST_NAME'] = Crime_PII_df['LAST_NAME'].str.lower()\n",
    "Crime_PII_df['PersonLastName'] = Crime_PII_df['PersonLastName'].str.lower()\n",
    "Crime_PII_df['PersonMiddleName'] = Crime_PII_df['PersonMiddleName'].str.lower()\n",
    "Crime_PII_df['MiddleName'] = Crime_PII_df['MiddleName'].str.lower()"
   ]
  },
  {
   "cell_type": "code",
   "execution_count": 8,
   "metadata": {},
   "outputs": [
    {
     "name": "stderr",
     "output_type": "stream",
     "text": [
      "C:\\Users\\cayde\\AppData\\Local\\Temp\\ipykernel_14300\\2136133465.py:14: FutureWarning: The default value of regex will change from True to False in a future version.\n",
      "  Crime_PII_df['LAST_NAME'] = Crime_PII_df['LAST_NAME'].str.replace('jr.', '')\n",
      "C:\\Users\\cayde\\AppData\\Local\\Temp\\ipykernel_14300\\2136133465.py:15: FutureWarning: The default value of regex will change from True to False in a future version.\n",
      "  Crime_PII_df['LAST_NAME'] = Crime_PII_df['LAST_NAME'].str.replace('sr.', '')\n"
     ]
    }
   ],
   "source": [
    "# from matts review file adding \n",
    "# 2. Suffixes(jr, sr, ii, iii, and iv) \n",
    "# 4. Last Names with a hypthen or apostrophe \n",
    "\n",
    "# remove suffixes from last name\n",
    "# create a list of suffixes to remove ( this list can be updated with more suffixes also need to look out for the case where multiple sufixxes are present)\n",
    "[', i', ', ii', ', iii', ', iv', 'jr.', 'sr.']\n",
    "\n",
    "# remove suffixes from last name\n",
    "Crime_PII_df['LAST_NAME'] = Crime_PII_df['LAST_NAME'].str.replace(', iii', '')\n",
    "Crime_PII_df['LAST_NAME'] = Crime_PII_df['LAST_NAME'].str.replace(', ii', '')\n",
    "Crime_PII_df['LAST_NAME'] = Crime_PII_df['LAST_NAME'].str.replace(', i', '')\n",
    "Crime_PII_df['LAST_NAME'] = Crime_PII_df['LAST_NAME'].str.replace(', iv', '')\n",
    "Crime_PII_df['LAST_NAME'] = Crime_PII_df['LAST_NAME'].str.replace('jr.', '')\n",
    "Crime_PII_df['LAST_NAME'] = Crime_PII_df['LAST_NAME'].str.replace('sr.', '')\n",
    "\n",
    "# remove hypthen from last name and middle name and first name\n",
    "Crime_PII_df['LAST_NAME'] = Crime_PII_df['LAST_NAME'].str.replace('-', '')\n",
    "Crime_PII_df['MiddleName'] = Crime_PII_df['MiddleName'].str.replace('-', '')\n",
    "Crime_PII_df['FIRST_NAME'] = Crime_PII_df['FIRST_NAME'].str.replace('-', '')\n",
    "\n",
    "# remove apostrophe from last name and middle name and first name\n",
    "Crime_PII_df['LAST_NAME'] = Crime_PII_df['LAST_NAME'].str.replace(\"'\", '')\n",
    "Crime_PII_df['MiddleName'] = Crime_PII_df['MiddleName'].str.replace(\"'\", '')\n",
    "Crime_PII_df['FIRST_NAME'] = Crime_PII_df['FIRST_NAME'].str.replace(\"'\", '')"
   ]
  },
  {
   "cell_type": "code",
   "execution_count": 9,
   "metadata": {},
   "outputs": [],
   "source": [
    "#import regular expressions\n",
    "import re\n",
    "\n",
    "# create a function that returns a boolean value for whether the first name in the crime data matches the first name in the PII data\n",
    "def first_name_match(row):\n",
    "    if type(row['PersonFirstName']) == str:\n",
    "        pass\n",
    "    else:\n",
    "        return False\n",
    "    # use regular expression to find if 'FIRST_NAME' column in Crime_PII_df contains 'PersonFirstName' column in Crime_PII_df\n",
    "    if re.search(row['FIRST_NAME'], row['PersonFirstName']):\n",
    "        return True\n",
    "    else:\n",
    "        return False\n",
    "\n",
    "# create a function that returns a boolean value for whether the last name in the crime data matches the last name in the PII data\n",
    "def last_name_match(row):\n",
    "    if type(row['PersonLastName']) == str:\n",
    "        pass\n",
    "    else:\n",
    "        return False\n",
    "    # use regular expression to find if 'LAST_NAME' column in Crime_PII_df contains 'PersonLastName' column in Crime_PII_df\n",
    "    if re.search(row['LAST_NAME'], row['PersonLastName']):\n",
    "        return True\n",
    "    else:\n",
    "        return False\n",
    "\n",
    "# create a function that returns a boolean value for whether the middle name in the crime data matches the middle name in the PII data\n",
    "def middle_name_match(row):\n",
    "    # convert middle_name to a string\n",
    "    middle_name = str(row['MiddleName'])\n",
    "    # if middle_name is null, return False\n",
    "    if middle_name == 'nan':\n",
    "        return 'no_middle_name_on_medical_record'\n",
    "    # if row['PersonMiddleName'] is an empty string, return False\n",
    "    if row['PersonMiddleName'] == '':\n",
    "        return 'no_middle_name_on_appriss_record'\n",
    "    # check if row['PersonMiddleName'] can be searched with re.search without throwing an error\n",
    "    if type(row['PersonMiddleName']) == str:\n",
    "        pass\n",
    "    else:\n",
    "        return 'False'\n",
    "    # use regular expression to find if 'PersonMiddleName' column in Crime_PII_df contains 'PersonMiddleName' column in Crime_PII_df\n",
    "    if re.search(middle_name, row['PersonMiddleName']):\n",
    "        return 'True'\n",
    "    else:\n",
    "        return 'False'\n",
    "\n",
    "Crime_PII_df['FN_match'] = Crime_PII_df.apply(first_name_match, axis=1)\n",
    "Crime_PII_df['LN_match'] = Crime_PII_df.apply(last_name_match, axis=1)\n",
    "Crime_PII_df['MN_match'] = Crime_PII_df.apply(middle_name_match, axis=1)"
   ]
  },
  {
   "cell_type": "code",
   "execution_count": 10,
   "metadata": {},
   "outputs": [],
   "source": [
    "# from matts review file adding \n",
    "# 3. Names That a Phonetic Similiar that do not meet match critieria\n",
    "\n",
    "# FuzzyWuzzy is a Python library that provides a set of string matching algorithms for fuzzy matching (i.e., matching strings that are similar, but not necessarily identical). It is used in data cleaning and data preprocessing tasks to identify and correct errors/inconsistencies in data.\n",
    "# It uses the Levenshtein distance equation: A measure of the difference between two strings. From what I can understand, it the minimum number of character edits(deleting, substuting, adding) required to turn one string into the other.\n",
    "# The scores that it gives are from 0-100. With 100 being a very similiar or exact name.\n",
    "# using 80 as the threshold for a match\n",
    "\n",
    "# import fuzzywuzzy\n",
    "from fuzzywuzzy import fuzz\n",
    "\n",
    "# create a function that uses fuzzywuzzy to compare if names are close to matching\n",
    "def fuzzy_match(x, y, threshold=93):\n",
    "    ratio = fuzz.ratio(x, y)\n",
    "    if ratio >= threshold:\n",
    "        return True\n",
    "    else:\n",
    "        return False\n",
    "\n",
    "#apply lambda functions to first name middle name and last name to see if we have any matches create a column if this is true\n",
    "Crime_PII_df['fuzzy_match_first_name'] = Crime_PII_df.apply(lambda x: fuzzy_match(x['PersonFirstName'], x['FIRST_NAME']), axis=1)\n",
    "# create a second column that is the score or fuzzy match\n",
    "Crime_PII_df['fuzzy_match_first_name_score'] = Crime_PII_df.apply(lambda x: fuzz.ratio(x['PersonFirstName'], x['FIRST_NAME']), axis=1)\n",
    "Crime_PII_df['fuzzy_match_last_name'] = Crime_PII_df.apply(lambda x: fuzzy_match(x['PersonLastName'], x['LAST_NAME']), axis=1)\n",
    "Crime_PII_df['fuzzy_match_last_name_score'] = Crime_PII_df.apply(lambda x: fuzz.ratio(x['PersonLastName'], x['LAST_NAME']), axis=1)\n"
   ]
  },
  {
   "cell_type": "code",
   "execution_count": 11,
   "metadata": {},
   "outputs": [],
   "source": [
    "from nicknames import NickNamer\n",
    "nn = NickNamer()\n",
    "\n",
    "# create a function that checks to see if a name is a nickname\n",
    "def is_nickname(name, poss_nickname):\n",
    "    nicks = nn.nicknames_of(name)\n",
    "    if poss_nickname in nicks:\n",
    "        return True\n",
    "    else:\n",
    "        return False\n",
    "\n",
    "# apply lambda functions to check if first name or last name are nicknames\n",
    "Crime_PII_df['is_nickname_first_name'] = Crime_PII_df.apply(lambda x: is_nickname(x['FIRST_NAME'], x['PersonFirstName']), axis=1)\n",
    "Crime_PII_df['is_nickname_last_name'] = Crime_PII_df.apply(lambda x: is_nickname(x['LAST_NAME'], x['PersonLastName']), axis=1)\n",
    "\n",
    "# for demonstration purposes\n",
    "# create a column that is a list of nicknames using lambda function\n",
    "Crime_PII_df['poss_nicknames_fn'] = Crime_PII_df.apply(lambda x: nn.nicknames_of(x['FIRST_NAME']), axis=1)\n",
    "Crime_PII_df['poss_nicknames_ln'] = Crime_PII_df.apply(lambda x: nn.nicknames_of(x['LAST_NAME']), axis=1)\n",
    "\n",
    "\n"
   ]
  },
  {
   "cell_type": "code",
   "execution_count": 12,
   "metadata": {},
   "outputs": [],
   "source": [
    "# different combinations of first, middle, and last name matches\n",
    "Crime_PII_df['FN_LN_match'] = Crime_PII_df['FN_match'] & Crime_PII_df['LN_match']\n",
    "Crime_PII_df['FN_MN_match'] = Crime_PII_df['FN_match'] & Crime_PII_df['MN_match']\n",
    "Crime_PII_df['LN_MN_match'] = Crime_PII_df['LN_match'] & Crime_PII_df['MN_match']\n",
    "Crime_PII_df['FN_LN_MN_match'] = Crime_PII_df['FN_match'] & Crime_PII_df['LN_match'] & Crime_PII_df['MN_match']"
   ]
  },
  {
   "cell_type": "code",
   "execution_count": 13,
   "metadata": {},
   "outputs": [
    {
     "data": {
      "text/plain": [
       "['aaron brown', ' brown']"
      ]
     },
     "execution_count": 13,
     "metadata": {},
     "output_type": "execute_result"
    }
   ],
   "source": [
    "# turn PersonLastName into a list\n",
    "Crime_PII_df['PersonLastName_list'] = Crime_PII_df['PersonLastName'].str.split(',')\n",
    "\n",
    "# print person last name list for row 33\n",
    "Crime_PII_df['PersonLastName_list'][33]"
   ]
  },
  {
   "cell_type": "code",
   "execution_count": 14,
   "metadata": {},
   "outputs": [],
   "source": [
    "\n",
    "def has_multi_names(row):\n",
    "    if len(row['PersonLastName_list']) > 1:\n",
    "        return True\n",
    "    else:\n",
    "        return False\n",
    "\n",
    "def count_multi_names(row):\n",
    "    if len(row['PersonLastName_list']) >= 1:\n",
    "    #write a switch statment that checks to see if the list of names is between 1-5, 6-10, 11-20, 20+\n",
    "        if len(row['PersonLastName_list']) <= 5:\n",
    "            return '1-5'\n",
    "        elif len(row['PersonLastName_list']) <= 10:\n",
    "            return '6-10'\n",
    "        elif len(row['PersonLastName_list']) <= 20:\n",
    "            return '11-20'\n",
    "        else:\n",
    "            return '20+'\n",
    "\n",
    "Crime_PII_df['has_mult_names'] = Crime_PII_df.apply(has_multi_names, axis=1)\n",
    "Crime_PII_df['count_mult_names'] = Crime_PII_df.apply(count_multi_names, axis=1)\n"
   ]
  },
  {
   "cell_type": "code",
   "execution_count": 11,
   "metadata": {},
   "outputs": [],
   "source": [
    "# write dataframe to csv\n",
    "Crime_PII_df.to_csv('../data/out/Confidence_match_crimedata.csv')"
   ]
  },
  {
   "cell_type": "code",
   "execution_count": 15,
   "metadata": {},
   "outputs": [],
   "source": [
    "import pandas as pd\n",
    "import numpy as np\n",
    "\n",
    "# write dataframe to xlsx\n",
    "Crime_PII_df.to_excel('../data/out/Confidence_match_crimedata_v2.xlsx', sheet_name='Sheet1')"
   ]
  }
 ],
 "metadata": {
  "kernelspec": {
   "display_name": "Python 3",
   "language": "python",
   "name": "python3"
  },
  "language_info": {
   "codemirror_mode": {
    "name": "ipython",
    "version": 3
   },
   "file_extension": ".py",
   "mimetype": "text/x-python",
   "name": "python",
   "nbconvert_exporter": "python",
   "pygments_lexer": "ipython3",
   "version": "3.8.10 (tags/v3.8.10:3d8993a, May  3 2021, 11:48:03) [MSC v.1928 64 bit (AMD64)]"
  },
  "orig_nbformat": 4,
  "vscode": {
   "interpreter": {
    "hash": "e1ebc6ce21e20a44ca2e939d468f8c4914f49f277b8be916293753b9e7a9feef"
   }
  }
 },
 "nbformat": 4,
 "nbformat_minor": 2
}
