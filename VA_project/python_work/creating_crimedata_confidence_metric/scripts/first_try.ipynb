{
 "cells": [
  {
   "cell_type": "code",
   "execution_count": 1,
   "metadata": {},
   "outputs": [
    {
     "name": "stderr",
     "output_type": "stream",
     "text": [
      "/var/folders/gd/0pf28_w12sq3ptwtj883v29r0000gp/T/ipykernel_85770/739831198.py:5: DtypeWarning: Columns (26,27) have mixed types. Specify dtype option on import or set low_memory=False.\n",
      "  crime_df = pd.read_csv('../data/cf_apprissAppend_va2_10_17_2022.csv')\n",
      "/var/folders/gd/0pf28_w12sq3ptwtj883v29r0000gp/T/ipykernel_85770/739831198.py:6: DtypeWarning: Columns (16,17,18,19,20,21,22,23,34,36,49,50,51,52,53,54,55,56,57,58,59,60,62,63,64,74,75,76,78,79,80,85,87,88,89,90,91,92,93,97,98,99,108,123,124) have mixed types. Specify dtype option on import or set low_memory=False.\n",
      "  medical_df = pd.read_csv('../data/CF_medicalData_v2.csv')\n"
     ]
    }
   ],
   "source": [
    "import pandas as pd\n",
    "import numpy as np\n",
    "\n",
    "#read in data from csv from folder ../data\n",
    "crime_df = pd.read_csv('../data/cf_apprissAppend_va2_10_17_2022.csv')\n",
    "medical_df = pd.read_csv('../data/CF_medicalData_v2.csv')\n",
    "PII_df = pd.read_csv('../data/dev_sample_HeartTable_10_17_2022.csv')"
   ]
  },
  {
   "cell_type": "code",
   "execution_count": 2,
   "metadata": {},
   "outputs": [],
   "source": [
    "# cut down the dataframe medical_df to only the columns we need 'source_id', 'ENDate'\n",
    "medical_df = medical_df[['source_id', 'ENDate', 'MiddleName']]\n",
    "# join the dataframes PII_df and medical_df left on source_id\n",
    "PII_med_df = pd.merge(PII_df, medical_df, on='source_id', how='left')\n",
    "PII_med_df = PII_med_df[['source_id', 'FIRST_NAME', 'MiddleName', 'LAST_NAME', 'MASTER_DOB', 'ENDate']]\n",
    "\n"
   ]
  },
  {
   "cell_type": "code",
   "execution_count": 3,
   "metadata": {},
   "outputs": [],
   "source": [
    "# cut down crime_df to only the columns we need 'source_id', 'SenderId' 'PersonFirstName' 'PersonMiddleName' 'PersonLastName' 'BookingDate'\n",
    "crime_df = crime_df[['source_id', 'SenderId', 'PersonFirstName', 'PersonMiddleName', 'PersonLastName', 'BookingDate', 'PersonYearOfBirth']]\n"
   ]
  },
  {
   "cell_type": "code",
   "execution_count": 4,
   "metadata": {},
   "outputs": [],
   "source": [
    "# join the dataframes PII_med_df and crime_df right on source_id\n",
    "Crime_PII_df = pd.merge(PII_med_df, crime_df, on='source_id', how='right')"
   ]
  },
  {
   "cell_type": "code",
   "execution_count": 5,
   "metadata": {},
   "outputs": [],
   "source": [
    "# for the columns PersonFirstName, PersonMiddleName, PersonLastName remove the first and last character\n",
    "Crime_PII_df['PersonFirstName'] = Crime_PII_df['PersonFirstName'].str[1:-1]\n",
    "Crime_PII_df['PersonMiddleName'] = Crime_PII_df['PersonMiddleName'].str[1:-1]\n",
    "Crime_PII_df['PersonLastName'] = Crime_PII_df['PersonLastName'].str[1:-1]\n",
    "Crime_PII_df['PersonYearOfBirth'] = Crime_PII_df['PersonYearOfBirth'].str[1:-1]\n",
    "# this will get rid of all of the [] in the columns"
   ]
  },
  {
   "cell_type": "code",
   "execution_count": 6,
   "metadata": {},
   "outputs": [],
   "source": [
    "# check to see whether MiddleName is null and if PersonMiddleName is an empty string\n"
   ]
  },
  {
   "cell_type": "code",
   "execution_count": 7,
   "metadata": {},
   "outputs": [],
   "source": [
    "#import regular expressions\n",
    "import re\n",
    "# # check to see whether each source_id is associated with a unique sender_id\n",
    "# Crime_PII_df.groupby('source_id').SenderId.nunique().value_counts()\n",
    "\n",
    "# For all rows where ENDate is not null, check whether BookingDate occurs after ENDate\n",
    "Crime_PII_df['DiedBeforeBookingCharge'] = pd.to_datetime(Crime_PII_df['BookingDate']) > pd.to_datetime(Crime_PII_df['ENDate'])\n",
    "\n",
    "def YOB_match(row):\n",
    "    if type(row['PersonYearOfBirth']) == str:\n",
    "        pass\n",
    "    else:\n",
    "        return False\n",
    "    # use regular expression to find if 'FIRST_NAME' column in Crime_PII_df contains 'PersonFirstName' column in Crime_PII_df\n",
    "    if re.search(row['PersonYearOfBirth'], row['MASTER_DOB']):\n",
    "        return True\n",
    "    else:\n",
    "        return False\n",
    "\n",
    "Crime_PII_df['YOB_match'] = Crime_PII_df.apply(YOB_match, axis=1)"
   ]
  },
  {
   "cell_type": "code",
   "execution_count": 8,
   "metadata": {},
   "outputs": [],
   "source": [
    "#import regular expressions\n",
    "import re\n",
    "\n",
    "# cast all strings to all lower case\n",
    "Crime_PII_df['FIRST_NAME'] = Crime_PII_df['FIRST_NAME'].str.lower()\n",
    "Crime_PII_df['PersonFirstName'] = Crime_PII_df['PersonFirstName'].str.lower()\n",
    "Crime_PII_df['LAST_NAME'] = Crime_PII_df['LAST_NAME'].str.lower()\n",
    "Crime_PII_df['PersonLastName'] = Crime_PII_df['PersonLastName'].str.lower()\n",
    "Crime_PII_df['PersonMiddleName'] = Crime_PII_df['PersonMiddleName'].str.lower()\n",
    "Crime_PII_df['MiddleName'] = Crime_PII_df['MiddleName'].str.lower()\n",
    "\n",
    "# create a function that returns a boolean value for whether the first name in the crime data matches the first name in the PII data\n",
    "def first_name_match(row):\n",
    "    if type(row['PersonFirstName']) == str:\n",
    "        pass\n",
    "    else:\n",
    "        return False\n",
    "    # use regular expression to find if 'FIRST_NAME' column in Crime_PII_df contains 'PersonFirstName' column in Crime_PII_df\n",
    "    if re.search(row['FIRST_NAME'], row['PersonFirstName']):\n",
    "        return True\n",
    "    else:\n",
    "        return False\n",
    "\n",
    "# create a function that returns a boolean value for whether the last name in the crime data matches the last name in the PII data\n",
    "def last_name_match(row):\n",
    "    if type(row['PersonLastName']) == str:\n",
    "        pass\n",
    "    else:\n",
    "        return False\n",
    "    # use regular expression to find if 'LAST_NAME' column in Crime_PII_df contains 'PersonLastName' column in Crime_PII_df\n",
    "    if re.search(row['LAST_NAME'], row['PersonLastName']):\n",
    "        return True\n",
    "    else:\n",
    "        return False\n",
    "\n",
    "# create a function that returns a boolean value for whether the middle name in the crime data matches the middle name in the PII data\n",
    "def middle_name_match(row):\n",
    "    # convert middle_name to a string\n",
    "    middle_name = str(row['MiddleName'])\n",
    "    # if middle_name is null, return False\n",
    "    if middle_name == 'nan':\n",
    "        return 'no_middle_name_on_medical_record'\n",
    "    # if row['PersonMiddleName'] is an empty string, return False\n",
    "    if row['PersonMiddleName'] == '':\n",
    "        return 'no_middle_name_on_appriss_record'\n",
    "    # check if row['PersonMiddleName'] can be searched with re.search without throwing an error\n",
    "    if type(row['PersonMiddleName']) == str:\n",
    "        pass\n",
    "    else:\n",
    "        return 'False'\n",
    "    # use regular expression to find if 'PersonMiddleName' column in Crime_PII_df contains 'PersonMiddleName' column in Crime_PII_df\n",
    "    if re.search(middle_name, row['PersonMiddleName']):\n",
    "        return 'True'\n",
    "    else:\n",
    "        return 'False'\n",
    "\n",
    "Crime_PII_df['FN_match'] = Crime_PII_df.apply(first_name_match, axis=1)\n",
    "Crime_PII_df['LN_match'] = Crime_PII_df.apply(last_name_match, axis=1)\n",
    "Crime_PII_df['MN_match'] = Crime_PII_df.apply(middle_name_match, axis=1)"
   ]
  },
  {
   "cell_type": "code",
   "execution_count": 9,
   "metadata": {},
   "outputs": [],
   "source": [
    "# different combinations of first, middle, and last name matches\n",
    "Crime_PII_df['FN_LN_match'] = Crime_PII_df['FN_match'] & Crime_PII_df['LN_match']\n",
    "Crime_PII_df['FN_MN_match'] = Crime_PII_df['FN_match'] & Crime_PII_df['MN_match']\n",
    "Crime_PII_df['LN_MN_match'] = Crime_PII_df['LN_match'] & Crime_PII_df['MN_match']\n",
    "Crime_PII_df['FN_LN_MN_match'] = Crime_PII_df['FN_match'] & Crime_PII_df['LN_match'] & Crime_PII_df['MN_match']"
   ]
  },
  {
   "cell_type": "code",
   "execution_count": 10,
   "metadata": {},
   "outputs": [],
   "source": [
    "# make a new column that is a PersonLastName_list and is a list of all of the last names in the PersonLastName column\n",
    "Crime_PII_df['PersonLastName_list'] = Crime_PII_df['PersonLastName'].str.split(',')\n",
    "\n",
    "def has_multi_names(row):\n",
    "    if len(row['PersonLastName_list']) > 1:\n",
    "        return True\n",
    "    else:\n",
    "        return False\n",
    "\n",
    "def count_multi_names(row):\n",
    "    if len(row['PersonLastName_list']) >= 1:\n",
    "        if len(row['PersonLastName_list']) == 1:\n",
    "            return '1'\n",
    "        if len(row['PersonLastName_list']) <= 5:\n",
    "            return '2-5'\n",
    "        elif len(row['PersonLastName_list']) <= 10:\n",
    "            return '6-10'\n",
    "        elif len(row['PersonLastName_list']) <= 20:\n",
    "            return '11-20'\n",
    "        else:\n",
    "            return '21+'\n",
    "\n",
    "Crime_PII_df['has_multi_names'] = Crime_PII_df.apply(has_multi_names, axis=1)\n",
    "Crime_PII_df['count_multi_names'] = Crime_PII_df.apply(count_multi_names, axis=1)\n"
   ]
  },
  {
   "cell_type": "code",
   "execution_count": 8,
   "metadata": {},
   "outputs": [],
   "source": [
    "# write dataframe to csv\n",
    "Crime_PII_df.to_csv('../data/out/Confidence_match_crimedata.csv')"
   ]
  },
  {
   "cell_type": "code",
   "execution_count": 11,
   "metadata": {},
   "outputs": [],
   "source": [
    "# write dataframe to excel\n",
    "Crime_PII_df.to_excel('../data/out/Confidence_match_crimedata.xlsx')"
   ]
  }
 ],
 "metadata": {
  "kernelspec": {
   "display_name": "base",
   "language": "python",
   "name": "python3"
  },
  "language_info": {
   "codemirror_mode": {
    "name": "ipython",
    "version": 3
   },
   "file_extension": ".py",
   "mimetype": "text/x-python",
   "name": "python",
   "nbconvert_exporter": "python",
   "pygments_lexer": "ipython3",
   "version": "3.9.13"
  },
  "orig_nbformat": 4,
  "vscode": {
   "interpreter": {
    "hash": "c80f197de51f2e8f4f64939cdb6509e24cf0f2fa52909b0c811bb9d4766896df"
   }
  }
 },
 "nbformat": 4,
 "nbformat_minor": 2
}
