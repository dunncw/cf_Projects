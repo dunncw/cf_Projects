{
 "cells": [
  {
   "cell_type": "code",
   "execution_count": 1,
   "metadata": {},
   "outputs": [],
   "source": [
    "import pandas as pd\n",
    "\n",
    "# read in the data C:\\Users\\cayde\\Desktop\\CF_2_more_orginized\\Projects\\VA_project\\python_work\\model_v1\\data\\out\\model_data_top_features_above_point1_v1.csv\n",
    "df = pd.read_csv('C:\\\\Users\\\\cayde\\\\Desktop\\\\CF_2_more_orginized\\\\Projects\\\\VA_project\\\\python_work\\\\model_v1\\\\data\\\\out\\\\model_data_top_features_above_point1_v1.csv')\n",
    "\n",
    "# cut down dataframe to 100 rows \n",
    "df = df.iloc[0:100,:]\n",
    "\n",
    "# remove the last 2 columns\n",
    "df = df.iloc[:,0:-2]\n",
    "\n",
    "# write out the data\n",
    "df.to_csv('C:\\\\Users\\\\cayde\\\\Desktop\\\\CF_2_more_orginized\\\\Projects\\\\VA_project\\\\python_work\\\\model_v1\\\\data\\\\out\\\\model_data_top_features_above_point1_v1_smaller.csv', index=False)"
   ]
  }
 ],
 "metadata": {
  "kernelspec": {
   "display_name": "Python 3",
   "language": "python",
   "name": "python3"
  },
  "language_info": {
   "codemirror_mode": {
    "name": "ipython",
    "version": 3
   },
   "file_extension": ".py",
   "mimetype": "text/x-python",
   "name": "python",
   "nbconvert_exporter": "python",
   "pygments_lexer": "ipython3",
   "version": "3.8.10"
  },
  "orig_nbformat": 4
 },
 "nbformat": 4,
 "nbformat_minor": 2
}
