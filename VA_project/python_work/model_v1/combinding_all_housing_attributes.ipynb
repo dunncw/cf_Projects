{
 "cells": [
  {
   "cell_type": "code",
   "execution_count": 1,
   "metadata": {},
   "outputs": [
    {
     "name": "stderr",
     "output_type": "stream",
     "text": [
      "C:\\Users\\cayde\\AppData\\Local\\Temp\\ipykernel_16328\\1666972429.py:7: DtypeWarning: Columns (12,66) have mixed types. Specify dtype option on import or set low_memory=False.\n",
      "  raw_agr_data = pd.read_csv('data/cf_agrAppend_va2_10_14_2022.csv')\n"
     ]
    }
   ],
   "source": [
    "import pandas as pd \n",
    "import numpy as np\n",
    "\n",
    "# Read in the data\n",
    "df = pd.read_csv('data/model_data_v1.csv')\n",
    "feature_importances = pd.read_csv('data/feature_importance.csv')\n",
    "raw_agr_data = pd.read_csv('data/cf_agrAppend_va2_10_14_2022.csv')\n",
    "raw_acxiomn_data = pd.read_csv('data/cf_acxiomAppend_va2_10_14_2022.csv') "
   ]
  },
  {
   "cell_type": "code",
   "execution_count": 2,
   "metadata": {},
   "outputs": [],
   "source": [
    "# create a new dataframe called deep dive\n",
    "deep_dive = pd.DataFrame()\n",
    "\n",
    "# add the column 'source_id' to the deep dive dataframe\n",
    "deep_dive['source_id'] = df['source_id']\n",
    "\n",
    "# add the column 'target_id' to the deep dive dataframe\n",
    "deep_dive['is_suicide'] = df['is_suicide']\n",
    "\n",
    "# add the column 'DEMO_OWN OR RENT_O_agr' to the deep dive dataframe\n",
    "deep_dive['DEMO_OWN OR RENT_O_agr'] = df['DEMO_OWN OR RENT_O_agr']\n",
    "\n",
    "#DEMO_TYPE OF DWELLING_S_agr\n",
    "deep_dive['DEMO_TYPE OF DWELLING_S_agr'] = df['DEMO_TYPE OF DWELLING_S_agr']\n",
    "\n",
    "# join the column 'DEMO_OWN OR RENT' to the deep dive dataframe from the dataframe 'raw_agr_data' join on the column 'source_id'\n",
    "deep_dive = deep_dive.join(raw_agr_data[['source_id', 'DEMO_OWN OR RENT']].set_index('source_id'), on='source_id')\n",
    "\n",
    "deep_dive = deep_dive.join(raw_agr_data[['source_id', 'DEMO_TYPE OF DWELLING']].set_index('source_id'), on='source_id')\n",
    "\n",
    "# join the column 'RESIDENTIAL' to the deep dive dataframe from the dataframe 'raw_agr_data' join on the column 'source_id'\n",
    "deep_dive = deep_dive.join(raw_agr_data[['source_id', 'RESIDENTIAL']].set_index('source_id'), on='source_id')\n",
    "\n",
    "# join the column 'Economic Stability Indicator' to the deep dive dataframe from the dataframe 'raw_acxiomn_data' join on the column 'source_id'\n",
    "deep_dive = deep_dive.join(raw_acxiomn_data[['source_id', 'IBE9350']].set_index('source_id'), on='source_id')\n",
    "# reaname the column 'IBE9350' to 'Economic Stability Indicator_acxiom'\n",
    "deep_dive.rename(columns={'IBE9350': 'Economic Stability Indicator'}, inplace=True)\n",
    "\n",
    "# 'IBE7606_01'\n",
    "# join the column 'IBE7606_01' to the deep dive dataframe from the dataframe 'raw_acxiomn_data' join on the column 'source_id'\n",
    "deep_dive = deep_dive.join(raw_acxiomn_data[['source_id', 'IBE7606_01']].set_index('source_id'), on='source_id')\n",
    "# rename the column 'IBE7606_01' to 'Home Owner / Renter - 100%'\n",
    "deep_dive = deep_dive.rename(columns={'IBE7606_01': 'Home Owner / Renter - 100%'})"
   ]
  },
  {
   "cell_type": "code",
   "execution_count": 3,
   "metadata": {},
   "outputs": [],
   "source": [
    "# # what are the top 15 features store a list of the column names\n",
    "# top_15_features = feature_importances['Category'][:15].tolist()\n",
    "\n",
    "# # make a subset of the data with only the top 15 features\n",
    "# df_top_15 = df[top_15_features]\n",
    "\n",
    "# # drop Economic Stability Indicator_acxiom, Suppression - Deceased, Bankruptcy, TLJ - Highest_acxiom, Underbanked_acxiom, DEMO_MARITAL STATUS_M_agr\n",
    "# df_top_15 = df_top_15.drop(['Economic Stability Indicator_acxiom', 'Suppression - Deceased, Bankruptcy, TLJ - Highest_acxiom', 'Underbanked_acxiom', 'DEMO_MARITAL STATUS_M_agr'], axis=1)\n",
    "\n",
    "# # print out all correlations that are greater than 0.7\n",
    "# for i in range(len(df_top_15.columns)):\n",
    "#     for j in range(i+1, len(df_top_15.columns)):\n",
    "#         if abs(df_top_15.corr().iloc[i,j]) > 0.7:\n",
    "#             print(df_top_15.columns[i], df_top_15.columns[j], df_top_15.corr().iloc[i,j])\n",
    "\n",
    "# del i \n",
    "# del j\n",
    "\n",
    "# # what are the correlations between the top 15 features.\n",
    "# df_top_15.corr()\n",
    "\n"
   ]
  },
  {
   "cell_type": "code",
   "execution_count": 4,
   "metadata": {},
   "outputs": [],
   "source": [
    "### combine 'Home Owner / Renter - 100%', 'DEMO_OWN OR RENT',"
   ]
  },
  {
   "cell_type": "code",
   "execution_count": 5,
   "metadata": {},
   "outputs": [
    {
     "name": "stdout",
     "output_type": "stream",
     "text": [
      "source_id\n",
      "['0_(medical_source)index_2775' '1_(medical_source)index_3270'\n",
      " '2_(medical_source)index_8448' ... '22305_(medical_source)index_12364'\n",
      " '22306_(medical_source)index_12371' '22307_(medical_source)index_12381']\n",
      "\n",
      "\n",
      "Home Owner / Renter - 100%\n",
      "['O' 'R' nan]\n",
      "\n",
      "\n",
      "DEMO_OWN OR RENT\n",
      "[nan 'R' 'O']\n",
      "\n",
      "\n",
      "RESIDENTIAL\n",
      "['Y' nan 'N']\n",
      "\n",
      "\n"
     ]
    },
    {
     "name": "stderr",
     "output_type": "stream",
     "text": [
      "C:\\Users\\cayde\\AppData\\Local\\Temp\\ipykernel_16328\\1186574603.py:6: SettingWithCopyWarning: \n",
      "A value is trying to be set on a copy of a slice from a DataFrame\n",
      "\n",
      "See the caveats in the documentation: https://pandas.pydata.org/pandas-docs/stable/user_guide/indexing.html#returning-a-view-versus-a-copy\n",
      "  deep_dive_sub['DEMO_OWN OR RENT'].replace('U', np.nan, inplace=True)\n",
      "C:\\Users\\cayde\\AppData\\Local\\Temp\\ipykernel_16328\\1186574603.py:19: SettingWithCopyWarning: \n",
      "A value is trying to be set on a copy of a slice from a DataFrame\n",
      "\n",
      "See the caveats in the documentation: https://pandas.pydata.org/pandas-docs/stable/user_guide/indexing.html#returning-a-view-versus-a-copy\n",
      "  deep_dive_sub.rename(columns={'Home Owner / Renter - 100%': 'Home_Owner_Renter', 'DEMO_OWN OR RENT': 'DEMO_OWN_OR_RENT'}, inplace=True)\n"
     ]
    }
   ],
   "source": [
    "# comparing 'Home Owner / Renter - 100%' and 'DEMO_OWN OR RENT' in the deep dive dataframe\n",
    "# create a new data frame with only the two columns\n",
    "deep_dive_sub = deep_dive[['source_id', 'Home Owner / Renter - 100%', 'DEMO_OWN OR RENT', 'RESIDENTIAL']]\n",
    "\n",
    "# convert all 'U' to nan in 'DEMO_OWN OR RENT'\n",
    "deep_dive_sub['DEMO_OWN OR RENT'].replace('U', np.nan, inplace=True)\n",
    "\n",
    "# what are all the unique values in all the columns in the deep dive sub dataframe. print with nice formatting\n",
    "for col in deep_dive_sub.columns:\n",
    "    print(col)\n",
    "    print(deep_dive_sub[col].unique())\n",
    "    print('\\n')\n",
    "\n",
    "# Home Owner / Renter - 100%: O = Owner, R = Renter, nan = unknown\n",
    "# DEMO_OWN OR RENT: O = Owner, R = Renter, U = Unknown\n",
    "# RESIDENTIAL: Y = Residential, N = Non-Residential\n",
    "\n",
    "# rename Home Owner / Renter - 100% to Home_Owner_Renter, DEMO_OWN OR RENT to DEMO_OWN_OR_RENT\n",
    "deep_dive_sub.rename(columns={'Home Owner / Renter - 100%': 'Home_Owner_Renter', 'DEMO_OWN OR RENT': 'DEMO_OWN_OR_RENT'}, inplace=True)\n",
    "\n"
   ]
  },
  {
   "cell_type": "code",
   "execution_count": 6,
   "metadata": {},
   "outputs": [],
   "source": [
    "# # need to create an sql query to compare columns 'Home Owner / Renter - 100%' and 'DEMO_OWN OR RENT' in the deep dive dataframe\n",
    "# #  I want to find all rows where owner and renter match and all rows where they do not match. \n",
    "\n",
    "\n",
    "# import pandas as pd\n",
    "# import numpy as np\n",
    "# import pandasql as psql\n",
    "\n",
    "# # Assuming your deep_dive_sub dataframe is already defined\n",
    "\n",
    "# # Remove spaces in column names for compatibility with SQL\n",
    "# deep_dive_sub.columns = ['Home_Owner_Renter', 'DEMO_OWN_OR_RENT', 'RESIDENTIAL']\n",
    "\n",
    "# # Query to find rows where owner and renter match\n",
    "# query_match = \"\"\"\n",
    "# SELECT * FROM deep_dive_sub\n",
    "# WHERE Home_Owner_Renter = DEMO_OWN_OR_RENT\n",
    "# \"\"\"\n",
    "\n",
    "# # Query to find rows where owner and renter do not match\n",
    "# query_no_match = \"\"\"\n",
    "# SELECT * FROM deep_dive_sub\n",
    "# WHERE Home_Owner_Renter != DEMO_OWN_OR_RENT\n",
    "# AND Home_Owner_Renter IS NOT NULL\n",
    "# AND DEMO_OWN_OR_RENT IS NOT NULL\n",
    "# \"\"\"\n",
    "\n",
    "# # Query to find rows where either Home_Owner_Renter or DEMO_OWN_OR_RENT is not null, but the other is null\n",
    "# query_either_not_null = \"\"\"\n",
    "# SELECT * FROM deep_dive_sub\n",
    "# WHERE (Home_Owner_Renter IS NOT NULL AND DEMO_OWN_OR_RENT IS NULL)\n",
    "# OR (Home_Owner_Renter IS NULL AND DEMO_OWN_OR_RENT IS NOT NULL)\n",
    "# \"\"\"\n",
    "\n",
    "# # Query to find rows where both Home_Owner_Renter and DEMO_OWN_OR_RENT are null\n",
    "# query_both_null = \"\"\"\n",
    "# SELECT * FROM deep_dive_sub\n",
    "# WHERE Home_Owner_Renter IS NULL AND DEMO_OWN_OR_RENT IS NULL\n",
    "# \"\"\"\n",
    "\n",
    "# both_null_rows = psql.sqldf(query_both_null, locals())\n",
    "# either_not_null_rows = psql.sqldf(query_either_not_null, locals())\n",
    "# matched_rows = psql.sqldf(query_match, locals())\n",
    "# non_matched_rows = psql.sqldf(query_no_match, locals())\n",
    "\n",
    "# print('Number of rows where owner and renter match: ', len(matched_rows))\n",
    "# print('Number of rows where owner and renter do not match: ', len(non_matched_rows))\n",
    "# print('Number of rows where either Home_Owner_Renter or DEMO_OWN_OR_RENT is not null, but the other is null: ', len(either_not_null_rows))\n",
    "# print('Number of rows where both Home_Owner_Renter and DEMO_OWN_OR_RENT are null: ', len(both_null_rows))\n",
    "\n",
    "# print('Total number of rows in deep_dive_sub dataframe: ', len(deep_dive_sub))\n",
    "# print('Total number of rows captured by the queries: ', len(matched_rows) + len(non_matched_rows) + len(either_not_null_rows)+len(both_null_rows))"
   ]
  },
  {
   "cell_type": "code",
   "execution_count": 7,
   "metadata": {},
   "outputs": [
    {
     "name": "stdout",
     "output_type": "stream",
     "text": [
      "Number of rows where owner and renter match:  8923\n",
      "Number of rows where owner and renter do not match:  126\n",
      "Number of rows where either Home_Owner_Renter or DEMO_OWN_OR_RENT is not null, but the other is null:  12013\n",
      "Number of rows where both Home_Owner_Renter and DEMO_OWN_OR_RENT are null:  1308\n",
      "Total number of rows in deep_dive_sub dataframe:  22370\n",
      "Total number of rows captured by the queries:  22370\n"
     ]
    }
   ],
   "source": [
    "# Number of rows where owner and renter match\n",
    "match_count = deep_dive_sub[deep_dive_sub['Home_Owner_Renter'] == deep_dive_sub['DEMO_OWN_OR_RENT']].shape[0]\n",
    "\n",
    "# Number of rows where owner and renter do not match, and neither is null\n",
    "no_match_count = deep_dive_sub[\n",
    "    (deep_dive_sub['Home_Owner_Renter'] != deep_dive_sub['DEMO_OWN_OR_RENT']) &\n",
    "    (~deep_dive_sub['Home_Owner_Renter'].isna()) &\n",
    "    (~deep_dive_sub['DEMO_OWN_OR_RENT'].isna())\n",
    "].shape[0]\n",
    "\n",
    "# Number of rows where either Home_Owner_Renter or DEMO_OWN_OR_RENT is not null, but the other is null\n",
    "either_not_null_count = deep_dive_sub[\n",
    "    (deep_dive_sub['Home_Owner_Renter'].isna() & ~deep_dive_sub['DEMO_OWN_OR_RENT'].isna()) |\n",
    "    (~deep_dive_sub['Home_Owner_Renter'].isna() & deep_dive_sub['DEMO_OWN_OR_RENT'].isna())\n",
    "].shape[0]\n",
    "\n",
    "# Number of rows where both Home_Owner_Renter and DEMO_OWN_OR_RENT are null\n",
    "both_null_count = deep_dive_sub[\n",
    "    deep_dive_sub['Home_Owner_Renter'].isna() & deep_dive_sub['DEMO_OWN_OR_RENT'].isna()\n",
    "].shape[0]\n",
    "\n",
    "print('Number of rows where owner and renter match: ', match_count)\n",
    "print('Number of rows where owner and renter do not match: ', no_match_count)\n",
    "print('Number of rows where either Home_Owner_Renter or DEMO_OWN_OR_RENT is not null, but the other is null: ', either_not_null_count)\n",
    "print('Number of rows where both Home_Owner_Renter and DEMO_OWN_OR_RENT are null: ', both_null_count)\n",
    "\n",
    "print('Total number of rows in deep_dive_sub dataframe: ', len(deep_dive_sub))\n",
    "print('Total number of rows captured by the queries: ', match_count + no_match_count + either_not_null_count + both_null_count)"
   ]
  },
  {
   "cell_type": "code",
   "execution_count": 8,
   "metadata": {},
   "outputs": [
    {
     "name": "stderr",
     "output_type": "stream",
     "text": [
      "C:\\Users\\cayde\\AppData\\Local\\Temp\\ipykernel_16328\\722054479.py:17: SettingWithCopyWarning: \n",
      "A value is trying to be set on a copy of a slice from a DataFrame.\n",
      "Try using .loc[row_indexer,col_indexer] = value instead\n",
      "\n",
      "See the caveats in the documentation: https://pandas.pydata.org/pandas-docs/stable/user_guide/indexing.html#returning-a-view-versus-a-copy\n",
      "  df[new_col_name] = df.apply(combine, axis=1)\n",
      "C:\\Users\\cayde\\AppData\\Local\\Temp\\ipykernel_16328\\722054479.py:25: SettingWithCopyWarning: \n",
      "A value is trying to be set on a copy of a slice from a DataFrame\n",
      "\n",
      "See the caveats in the documentation: https://pandas.pydata.org/pandas-docs/stable/user_guide/indexing.html#returning-a-view-versus-a-copy\n",
      "  deep_dive_sub.drop(['Home_Owner_Renter', 'DEMO_OWN_OR_RENT'], axis=1, inplace=True)\n"
     ]
    }
   ],
   "source": [
    "def combine_columns(df, col1, col2, new_col_name):\n",
    "    def combine(row):\n",
    "        val1 = row[col1]\n",
    "        val2 = row[col2]\n",
    "\n",
    "        if pd.isna(val1) and pd.isna(val2):\n",
    "            return np.nan\n",
    "        elif pd.isna(val1):\n",
    "            return val2\n",
    "        elif pd.isna(val2):\n",
    "            return val1\n",
    "        elif val1 == val2:\n",
    "            return val1\n",
    "        else:\n",
    "            return np.nan\n",
    "\n",
    "    df[new_col_name] = df.apply(combine, axis=1)\n",
    "\n",
    "combine_columns(deep_dive_sub, 'Home_Owner_Renter', 'DEMO_OWN_OR_RENT', 'Combined_Owner_Renter')\n",
    "\n",
    "# what are the value counts for the new column\n",
    "deep_dive_sub['Combined_Owner_Renter'].value_counts()\n",
    "\n",
    "# drop the old columns\n",
    "deep_dive_sub.drop(['Home_Owner_Renter', 'DEMO_OWN_OR_RENT'], axis=1, inplace=True)"
   ]
  },
  {
   "cell_type": "code",
   "execution_count": 9,
   "metadata": {},
   "outputs": [],
   "source": [
    "### combine PROPERTY_TYPE_DESC and RESIDENTIAL columns"
   ]
  },
  {
   "cell_type": "code",
   "execution_count": 10,
   "metadata": {},
   "outputs": [
    {
     "name": "stdout",
     "output_type": "stream",
     "text": [
      "R    3560\n",
      "C     606\n",
      "A     253\n",
      "Name: PROPERTY_TYPE_DESC, dtype: int64\n"
     ]
    },
    {
     "name": "stderr",
     "output_type": "stream",
     "text": [
      "C:\\Users\\cayde\\AppData\\Local\\Temp\\ipykernel_16328\\62344352.py:2: SettingWithCopyWarning: \n",
      "A value is trying to be set on a copy of a slice from a DataFrame.\n",
      "Try using .loc[row_indexer,col_indexer] = value instead\n",
      "\n",
      "See the caveats in the documentation: https://pandas.pydata.org/pandas-docs/stable/user_guide/indexing.html#returning-a-view-versus-a-copy\n",
      "  deep_dive_sub['PROPERTY_TYPE_DESC'] = raw_agr_data['PROPERTY TYPE DESC']\n"
     ]
    },
    {
     "data": {
      "text/plain": [
       "17951"
      ]
     },
     "execution_count": 10,
     "metadata": {},
     "output_type": "execute_result"
    }
   ],
   "source": [
    "# append this column 'PROPERTY TYPE DESC' from raw_agr_data to deep_dive_sub\n",
    "deep_dive_sub['PROPERTY_TYPE_DESC'] = raw_agr_data['PROPERTY TYPE DESC']\n",
    "\n",
    "# what are the value counts for the new column\n",
    "print(deep_dive_sub['PROPERTY_TYPE_DESC'].value_counts())\n",
    "\n",
    "# how many rows are there where the new column is null\n",
    "deep_dive_sub['PROPERTY_TYPE_DESC'].isna().sum()"
   ]
  },
  {
   "cell_type": "code",
   "execution_count": 11,
   "metadata": {},
   "outputs": [
    {
     "data": {
      "text/plain": [
       "Y    19633\n",
       "N      269\n",
       "Name: RESIDENTIAL, dtype: int64"
      ]
     },
     "execution_count": 11,
     "metadata": {},
     "output_type": "execute_result"
    }
   ],
   "source": [
    "# how many nulls in column RESIDENTIAL\n",
    "deep_dive_sub['RESIDENTIAL'].isna().sum()\n",
    "\n",
    "# value counts for column RESIDENTIAL\n",
    "deep_dive_sub['RESIDENTIAL'].value_counts()\n"
   ]
  },
  {
   "cell_type": "code",
   "execution_count": 12,
   "metadata": {},
   "outputs": [
    {
     "name": "stdout",
     "output_type": "stream",
     "text": [
      "Number of times R in PROPERTY_TYPE_DESC and Y in RESIDENTIAL match:  3067\n",
      "Number of rows where both PROPERTY_TYPE_DESC and RESIDENTIAL are null:  1929\n",
      "Number of rows with mismatches:  17059\n",
      "Number of rows not captured by the queries:  315\n",
      "Total number of rows in deep_dive_sub dataframe:  22370\n",
      "Total number of rows captured by the queries:  22370\n"
     ]
    }
   ],
   "source": [
    "# Filter rows where 'R' in PROPERTY_TYPE_DESC matches with 'Y' in RESIDENTIAL\n",
    "residential_match = deep_dive_sub[\n",
    "    (deep_dive_sub['PROPERTY_TYPE_DESC'] == 'R') & (deep_dive_sub['RESIDENTIAL'] == 'Y')\n",
    "]\n",
    "\n",
    "# Count the number of such rows\n",
    "residential_match_count = residential_match.shape[0]\n",
    "\n",
    "# Filter rows where both columns are null\n",
    "both_null = deep_dive_sub[\n",
    "    deep_dive_sub['PROPERTY_TYPE_DESC'].isna() & deep_dive_sub['RESIDENTIAL'].isna()\n",
    "]\n",
    "\n",
    "# Count the number of such rows\n",
    "both_null_count = both_null.shape[0]\n",
    "\n",
    "# Filter rows where there is a mismatch\n",
    "mismatch = deep_dive_sub[\n",
    "    ((deep_dive_sub['PROPERTY_TYPE_DESC'] == 'R') & (deep_dive_sub['RESIDENTIAL'] != 'Y')) |\n",
    "    ((deep_dive_sub['PROPERTY_TYPE_DESC'] != 'R') & (deep_dive_sub['RESIDENTIAL'] == 'Y'))\n",
    "]\n",
    "\n",
    "# Count the number of such rows\n",
    "mismatch_count = mismatch.shape[0]\n",
    "\n",
    "# Filter rows that don't fall under any of the categories (matched, both null, or mismatched)\n",
    "other_rows = deep_dive_sub[\n",
    "    ~(\n",
    "        ((deep_dive_sub['PROPERTY_TYPE_DESC'] == 'R') & (deep_dive_sub['RESIDENTIAL'] == 'Y')) |\n",
    "        (deep_dive_sub['PROPERTY_TYPE_DESC'].isna() & deep_dive_sub['RESIDENTIAL'].isna()) |\n",
    "        (((deep_dive_sub['PROPERTY_TYPE_DESC'] == 'R') & (deep_dive_sub['RESIDENTIAL'] != 'Y')) |\n",
    "         ((deep_dive_sub['PROPERTY_TYPE_DESC'] != 'R') & (deep_dive_sub['RESIDENTIAL'] == 'Y')))\n",
    "    )\n",
    "]\n",
    "\n",
    "# Count the number of such rows\n",
    "other_rows_count = other_rows.shape[0]\n",
    "\n",
    "print('Number of times R in PROPERTY_TYPE_DESC and Y in RESIDENTIAL match: ', residential_match_count)\n",
    "print('Number of rows where both PROPERTY_TYPE_DESC and RESIDENTIAL are null: ', both_null_count)\n",
    "print('Number of rows with mismatches: ', mismatch_count)\n",
    "print('Number of rows not captured by the queries: ', other_rows_count)\n",
    "\n",
    "print('Total number of rows in deep_dive_sub dataframe: ', len(deep_dive_sub))\n",
    "print('Total number of rows captured by the queries: ', residential_match_count + both_null_count + mismatch_count + other_rows_count)"
   ]
  },
  {
   "cell_type": "code",
   "execution_count": 13,
   "metadata": {},
   "outputs": [
    {
     "name": "stderr",
     "output_type": "stream",
     "text": [
      "C:\\Users\\cayde\\AppData\\Local\\Temp\\ipykernel_16328\\3786331224.py:2: SettingWithCopyWarning: \n",
      "A value is trying to be set on a copy of a slice from a DataFrame.\n",
      "Try using .loc[row_indexer,col_indexer] = value instead\n",
      "\n",
      "See the caveats in the documentation: https://pandas.pydata.org/pandas-docs/stable/user_guide/indexing.html#returning-a-view-versus-a-copy\n",
      "  deep_dive_sub['Combined_Residential'] = np.nan\n",
      "C:\\Users\\cayde\\AppData\\Local\\Temp\\ipykernel_16328\\3786331224.py:21: SettingWithCopyWarning: \n",
      "A value is trying to be set on a copy of a slice from a DataFrame.\n",
      "Try using .loc[row_indexer,col_indexer] = value instead\n",
      "\n",
      "See the caveats in the documentation: https://pandas.pydata.org/pandas-docs/stable/user_guide/indexing.html#returning-a-view-versus-a-copy\n",
      "  deep_dive_sub['Combined_Residential'] = deep_dive_sub.apply(combine_residential, axis=1)\n",
      "C:\\Users\\cayde\\AppData\\Local\\Temp\\ipykernel_16328\\3786331224.py:24: SettingWithCopyWarning: \n",
      "A value is trying to be set on a copy of a slice from a DataFrame\n",
      "\n",
      "See the caveats in the documentation: https://pandas.pydata.org/pandas-docs/stable/user_guide/indexing.html#returning-a-view-versus-a-copy\n",
      "  deep_dive_sub.drop(['PROPERTY_TYPE_DESC', 'RESIDENTIAL'], axis=1, inplace=True)\n"
     ]
    },
    {
     "data": {
      "text/plain": [
       "Y    19321\n",
       "N     3049\n",
       "Name: Combined_Residential, dtype: int64"
      ]
     },
     "execution_count": 13,
     "metadata": {},
     "output_type": "execute_result"
    }
   ],
   "source": [
    "# create a new column 'Combined_Residential'\n",
    "deep_dive_sub['Combined_Residential'] = np.nan\n",
    "\n",
    "# in this new column 'Combined_Residential', if 'R' in PROPERTY_TYPE_DESC matches with 'Y' in RESIDENTIAL, then set the value to 'Y'\n",
    "# if 'R' in PROPERTY_TYPE_DESC and 'nan' in RESIDENTIAL, then set the value to 'Y'\n",
    "# if 'nan' in PROPERTY_TYPE_DESC and 'Y' in RESIDENTIAL, then set the value to 'Y'\n",
    "# otherwise, set the value to 'N'\n",
    "def combine_residential(row):\n",
    "    prop_type = row['PROPERTY_TYPE_DESC']\n",
    "    residential = row['RESIDENTIAL']\n",
    "\n",
    "    if prop_type == 'R' and residential == 'Y':\n",
    "        return 'Y'\n",
    "    elif prop_type == 'R' and pd.isna(residential):\n",
    "        return 'Y'\n",
    "    elif pd.isna(prop_type) and residential == 'Y':\n",
    "        return 'Y'\n",
    "    else:\n",
    "        return 'N'\n",
    "    \n",
    "deep_dive_sub['Combined_Residential'] = deep_dive_sub.apply(combine_residential, axis=1)\n",
    "\n",
    "# drop the old columns\n",
    "deep_dive_sub.drop(['PROPERTY_TYPE_DESC', 'RESIDENTIAL'], axis=1, inplace=True)\n",
    "\n",
    "# value counts for the new column\n",
    "deep_dive_sub['Combined_Residential'].value_counts()\n"
   ]
  },
  {
   "cell_type": "code",
   "execution_count": 14,
   "metadata": {},
   "outputs": [],
   "source": [
    "# 1 hot encode the columns\n",
    "deep_dive_sub = pd.get_dummies(deep_dive_sub, columns=['Combined_Owner_Renter'])\n",
    "\n",
    "# drop the column 'Combined_Owner_Renter_R'\n",
    "deep_dive_sub.drop('Combined_Owner_Renter_R', axis=1, inplace=True)\n",
    "\n",
    "# turn the column 'Combined_Residential' into a binary column\n",
    "deep_dive_sub['Combined_Residential'] = deep_dive_sub['Combined_Residential'].map({'Y': 1, 'N': 0})\n",
    "\n",
    "# convert both columns to boolean\n",
    "deep_dive_sub['Combined_Residential'] = deep_dive_sub['Combined_Residential'].astype(bool)\n",
    "deep_dive_sub['Combined_Owner_Renter_O'] = deep_dive_sub['Combined_Owner_Renter_O'].astype(bool)"
   ]
  },
  {
   "cell_type": "code",
   "execution_count": 15,
   "metadata": {},
   "outputs": [],
   "source": [
    "# read in the data data/out/model_data_top_features_above_point1_v1.csv\n",
    "model_data = pd.read_csv('data/out/model_data_top_features_above_point1_v1.csv')\n",
    "\n",
    "# drop columns \n",
    "# DEMO_OWN OR RENT_O_agr\n",
    "# RESIDENTIAL_agr\n",
    "# PROPERTY TYPE DESC_R_agr\n",
    "# Home Owner / Renter - 100%_O_acxiom\n",
    "\n",
    "model_data.drop(['DEMO_OWN OR RENT_O_agr', 'RESIDENTIAL_agr', 'PROPERTY TYPE DESC_R_agr', 'Home Owner / Renter - 100%_O_acxiom'], axis=1, inplace=True)"
   ]
  },
  {
   "cell_type": "code",
   "execution_count": 16,
   "metadata": {},
   "outputs": [],
   "source": [
    "# merge the two dataframes on the 'source_id' column\n",
    "model_data = model_data.merge(deep_dive_sub, on='source_id', how='left')"
   ]
  },
  {
   "cell_type": "code",
   "execution_count": 17,
   "metadata": {},
   "outputs": [],
   "source": [
    "# write out deep_dive_sub to a csv file\n",
    "model_data.to_csv('data/out/combinded_houseing_residential_FIabove_point1.csv', index=False)"
   ]
  },
  {
   "cell_type": "code",
   "execution_count": 18,
   "metadata": {},
   "outputs": [],
   "source": [
    "### attempt to combine 'DEMO_TYPE OF DWELLING' from 'raw_agr_data' and 'Generations in Household' from 'raw_acxiomn_data'\n",
    "# notes, nothing really to combine here"
   ]
  },
  {
   "cell_type": "code",
   "execution_count": 19,
   "metadata": {},
   "outputs": [],
   "source": [
    "# # add these two columns to deep_dive_sub\n",
    "# deep_dive_sub['DEMO_TYPE_OF_DWELLING'] = raw_agr_data['DEMO_TYPE OF DWELLING']\n",
    "# deep_dive_sub['Generations_in_Household'] = raw_acxiomn_data['IBE8652']\n",
    "\n",
    "# # in the column 'DEMO_TYPE_OF_DWELLING', replace 'Unknown' with 'nan'\n",
    "# deep_dive_sub['DEMO_TYPE_OF_DWELLING'].replace('U', np.nan, inplace=True)"
   ]
  },
  {
   "cell_type": "code",
   "execution_count": 20,
   "metadata": {},
   "outputs": [],
   "source": [
    "# # find the value counts of type of dwelling grouped by generations in household\n",
    "# print(deep_dive_sub.groupby('Generations_in_Household')['DEMO_TYPE_OF_DWELLING'].value_counts())\n",
    "\n",
    "# import numpy as np\n",
    "\n",
    "# gen_values = [1.0, 2.0, 3.0]\n",
    "# dwell_values = ['S', 'M']\n",
    "\n",
    "# for gen in gen_values:\n",
    "#     for dwell in dwell_values:\n",
    "#         col_name = f'DEMO_TYPE_OF_DWELLING_{gen}_{dwell}'\n",
    "#         deep_dive_sub[col_name] = np.where(\n",
    "#             (deep_dive_sub['Generations_in_Household'] == gen) & (deep_dive_sub['DEMO_TYPE_OF_DWELLING'] == dwell),\n",
    "#             1,\n",
    "#             0\n",
    "# )\n",
    "\n",
    "\n",
    "\n"
   ]
  }
 ],
 "metadata": {
  "kernelspec": {
   "display_name": "Python 3",
   "language": "python",
   "name": "python3"
  },
  "language_info": {
   "codemirror_mode": {
    "name": "ipython",
    "version": 3
   },
   "file_extension": ".py",
   "mimetype": "text/x-python",
   "name": "python",
   "nbconvert_exporter": "python",
   "pygments_lexer": "ipython3",
   "version": "3.8.10"
  },
  "orig_nbformat": 4,
  "vscode": {
   "interpreter": {
    "hash": "e1ebc6ce21e20a44ca2e939d468f8c4914f49f277b8be916293753b9e7a9feef"
   }
  }
 },
 "nbformat": 4,
 "nbformat_minor": 2
}
