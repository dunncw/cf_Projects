{
 "cells": [
  {
   "cell_type": "code",
   "execution_count": 1,
   "metadata": {},
   "outputs": [],
   "source": [
    "import pandas as pd \n",
    "import numpy as np\n",
    "\n",
    "# Read in the data\n",
    "df = pd.read_csv('data/model_data_v1.csv')\n",
    "feature_importances = pd.read_csv('data/feature_importance.csv')"
   ]
  },
  {
   "cell_type": "code",
   "execution_count": 2,
   "metadata": {},
   "outputs": [],
   "source": [
    "# create a list of all features above 0.1 importance and store the value from column 'category'. also keep 'is_sucide' and 'source_id'\n",
    "features_above_point1 = feature_importances[feature_importances['All data'] > 0.1]['Category'].tolist() + ['is_suicide', 'source_id']\n",
    "\n",
    "# create a list of top 15 features and store the value from column 'category'\n",
    "top_15_features = feature_importances['Category'].tolist()[:15] + ['is_suicide', 'source_id']\n",
    "\n",
    "# create a list of all features above 0 importance and store the value from column 'category'\n",
    "features_above_0 = feature_importances[feature_importances['All data'] > 0]['Category'].tolist() + ['is_suicide', 'source_id']\n",
    "\n"
   ]
  },
  {
   "cell_type": "code",
   "execution_count": 3,
   "metadata": {},
   "outputs": [],
   "source": [
    "# create subsets of the data with the top features\n",
    "df_top_features = df[features_above_point1]\n",
    "df_top_15_features = df[top_15_features]\n",
    "df_above_0_features = df[features_above_0]"
   ]
  },
  {
   "cell_type": "code",
   "execution_count": 4,
   "metadata": {},
   "outputs": [],
   "source": [
    "# write out the data\n",
    "df_top_features.to_csv('data/out/model_data_top_features_above_point1_v1.csv', index=False)\n",
    "df_top_15_features.to_csv('data/out/model_data_top_15_features_v1.csv', index=False)\n",
    "df_above_0_features.to_csv('data/out/model_data_above_0_features_v1.csv', index=False)\n"
   ]
  }
 ],
 "metadata": {
  "kernelspec": {
   "display_name": "Python 3",
   "language": "python",
   "name": "python3"
  },
  "language_info": {
   "codemirror_mode": {
    "name": "ipython",
    "version": 3
   },
   "file_extension": ".py",
   "mimetype": "text/x-python",
   "name": "python",
   "nbconvert_exporter": "python",
   "pygments_lexer": "ipython3",
   "version": "3.8.10"
  },
  "orig_nbformat": 4,
  "vscode": {
   "interpreter": {
    "hash": "e1ebc6ce21e20a44ca2e939d468f8c4914f49f277b8be916293753b9e7a9feef"
   }
  }
 },
 "nbformat": 4,
 "nbformat_minor": 2
}
