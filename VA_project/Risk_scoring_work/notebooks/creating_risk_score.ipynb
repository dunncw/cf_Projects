{
 "cells": [
  {
   "cell_type": "code",
   "execution_count": 5,
   "metadata": {},
   "outputs": [
    {
     "name": "stderr",
     "output_type": "stream",
     "text": [
      "C:\\Users\\cayde\\AppData\\Local\\Temp\\ipykernel_4972\\715167181.py:7: DtypeWarning: Columns (12,66) have mixed types. Specify dtype option on import or set low_memory=False.\n",
      "  agr_demo = pd.read_csv('../data/cf_agrAppend_va2_10_14_2022 - Copy.csv')\n"
     ]
    }
   ],
   "source": [
    " # libs\n",
    "import pandas as pd\n",
    "import numpy as np\n",
    "\n",
    "# data\n",
    "PII_hearttable = pd.read_csv('../data/dev_sample_HeartTable_10_17_2022 - Copy.csv')\n",
    "agr_demo = pd.read_csv('../data/cf_agrAppend_va2_10_14_2022 - Copy.csv')\n",
    "acxiom_demo = pd.read_csv('../data/cf_acxiomAppend_va2_10_14_2022 - Copy.csv')\n",
    "\n",
    "# ignore for now until ik how i want to add it to the equation\n",
    "appriss_crime = pd.read_csv('../data/appriss_crime_cleaned_CFconfidenceapplied_v2 - Copy.csv')"
   ]
  },
  {
   "cell_type": "code",
   "execution_count": null,
   "metadata": {},
   "outputs": [],
   "source": [
    "# need to break data in 5 cdc categories\n"
   ]
  },
  {
   "cell_type": "code",
   "execution_count": null,
   "metadata": {},
   "outputs": [],
   "source": [
    "import json\n",
    "\n",
    "def calculate_odds_ratios(df, class_column, columns):\n",
    "    # Initialize an empty dictionary to hold the results\n",
    "    results = {}\n",
    "\n",
    "    # Loop through the specified columns\n",
    "    for column in columns:\n",
    "        # Initialize a dictionary to hold the results for this column\n",
    "        results[column] = {}\n",
    "\n",
    "        # Get the unique values in the column\n",
    "        unique_values = df[column].dropna().unique()\n",
    "\n",
    "        # Calculate the percentage of null value for each column\n",
    "        null_percentages = df[column].isnull().mean()\n",
    "\n",
    "        # Calculate the threshold for inclusion in the risk score\n",
    "        threshold = (1.0 / (len(unique_values))) * (1 - null_percentages)\n",
    "\n",
    "        # Loop through the unique values\n",
    "        for value in unique_values:\n",
    "            # Initialize a dictionary to hold the results for this value\n",
    "            results[column][value] = {}\n",
    "\n",
    "            # Calculate the proportions and odds for each class, scaling by the null percentages\n",
    "            class_true = df[df[class_column] == True]\n",
    "            class_false = df[df[class_column] == False]\n",
    "\n",
    "            prop_true = (class_true[column] == value).sum() / len(class_true)\n",
    "            prop_false = (class_false[column] == value).sum() / len(class_false)\n",
    "\n",
    "            odds_true = prop_true / (1 - prop_true)\n",
    "            odds_false = prop_false / (1 - prop_false)\n",
    "\n",
    "            # Calculate the odds ratio\n",
    "            odds_ratio = odds_true / odds_false\n",
    "\n",
    "            # Calculate the percentage of data that comprises a given value\n",
    "            percentage = (df[column] == value).sum() / len(df)\n",
    "\n",
    "            # Add the results to the dictionary\n",
    "            results[column][value]['odds_ratio'] = odds_ratio\n",
    "            results[column][value]['percentage'] = \"{:.2%}\".format(percentage)\n",
    "            # add the threshold to the dictionary\n",
    "            results[column][value]['threshold'] = \"{:.2%}\".format(threshold)\n",
    "\n",
    "    # Convert the results to a JSON-like string\n",
    "    results_json = json.dumps(results, indent=4)\n",
    "\n",
    "    # Return the JSON-like string\n",
    "    return results_json\n",
    "\n",
    "results_json = calculate_odds_ratios(agr_demo, 'important_class', ['DEMO_OWN OR RENT', \"DEMO_TYPE OF DWELLING\", \"RESIDENTIAL\", \"PROPERTY TYPE DESC\", \"DEMO_MARITAL STATUS\"])\n",
    "print(results_json)"
   ]
  }
 ],
 "metadata": {
  "kernelspec": {
   "display_name": "Python 3",
   "language": "python",
   "name": "python3"
  },
  "language_info": {
   "codemirror_mode": {
    "name": "ipython",
    "version": 3
   },
   "file_extension": ".py",
   "mimetype": "text/x-python",
   "name": "python",
   "nbconvert_exporter": "python",
   "pygments_lexer": "ipython3",
   "version": "3.8.10"
  },
  "orig_nbformat": 4
 },
 "nbformat": 4,
 "nbformat_minor": 2
}
